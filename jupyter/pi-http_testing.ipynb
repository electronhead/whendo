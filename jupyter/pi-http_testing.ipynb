{
 "metadata": {
  "language_info": {
   "codemirror_mode": {
    "name": "ipython",
    "version": 3
   },
   "file_extension": ".py",
   "mimetype": "text/x-python",
   "name": "python",
   "nbconvert_exporter": "python",
   "pygments_lexer": "ipython3",
   "version": "3.9.0-final"
  },
  "orig_nbformat": 2,
  "kernelspec": {
   "name": "python3",
   "display_name": "Python 3",
   "language": "python"
  }
 },
 "nbformat": 4,
 "nbformat_minor": 2,
 "cells": [
  {
   "source": [
    "to do\n",
    "\n",
    "1. change 'scheduler' => 'schedule'\n",
    "2. install git in the mothership directory\n",
    "3. push to github\n",
    "4. get docker working\n",
    "5. install on pi\n",
    "\n",
    "docker build -t pyrambium .\n",
    "\n",
    "docker run -it --rm -p 8000:8000 -v $PYRAMBIUM_SAVED_DIR:$PYRAMBIUM_SAVED_DIR -v $PYRAMBIUM_OUTPUT_DIR:$PYRAMBIUM_OUTPUT_DIR --name pyrambium_running pyrambium"
   ],
   "cell_type": "markdown",
   "metadata": {}
  },
  {
   "cell_type": "code",
   "execution_count": 1,
   "metadata": {},
   "outputs": [],
   "source": [
    "# docker run -it --rm -p 8000:8000 -v $PYRAMBIUM_SAVED_DIR:$PYRAMBIUM_SAVED_DIR -v $PYRAMBIUM_OUTPUT_DIR:$PYRAMBIUM_OUTPUT_DIR --name pyrambium_running pyrambium"
   ]
  },
  {
   "source": [
    "python3 -m compileall -f base\n",
    "\n",
    "to run at the command line in the python/...\n",
    "\n",
    "uvicorn main:app --workers 1\n",
    "\n",
    "uvicorn main:app --reload\n",
    "\n",
    "import uvicorn\n",
    "if __name__ == \"__main__\":\n",
    "    uvicorn.run(app, host=\"0.0.0.0\", port=8000)\n",
    "\n",
    "pip3 install pylint\n",
    "\n",
    "pylint *.py"
   ],
   "cell_type": "markdown",
   "metadata": {}
  },
  {
   "source": [
    "When you run a notebook cell that imports from the Pyrambium packages, you need to set the NOTEBOOK FILE ROOT to \\$\\{workspaceFolder\\} so  that imports from top-level packages work. For example, with the property's default value of \\$\\{fileDirName\\}, the imports from mothership.action will fail since the notebook location is one directory down from top-level.\n",
    "\n",
    "\n",
    "\n"
   ],
   "cell_type": "markdown",
   "metadata": {}
  },
  {
   "cell_type": "code",
   "execution_count": 1,
   "metadata": {},
   "outputs": [
    {
     "output_type": "stream",
     "name": "stdout",
     "text": [
      "output_dir: /home/pi/pyrambium/output/\n"
     ]
    }
   ],
   "source": [
    "from datetime import time\n",
    "from pydantic import BaseModel\n",
    "import requests\n",
    "from mothership.scheduler import TimelyScheduler, RandomlyScheduler\n",
    "import mothership.actions.file_action as file_x\n",
    "import mothership.actions.gpio_action as gpio_x\n",
    "from mothership.util import PP, TimeUnit, Dirs\n",
    "\n",
    "prefix = \"http://127.0.0.1:5000\"\n",
    "prefix = \"http://192.168.0.45:8000\"\n",
    "prefix = \"http://locahost:8000\"\n",
    "prefix = \"http://localhost:8000\"\n",
    "def get(path:str):\n",
    "    cmd = f\"{prefix}{path}\"\n",
    "    response = requests.get(cmd)\n",
    "    return response.json()\n",
    "def put(path:str, data:BaseModel):\n",
    "    cmd = f\"{prefix}{path}\"\n",
    "    response = requests.put(cmd, data.json())\n",
    "    PP.pprint(response.json())\n",
    "def put_as_is(path:str, data:None):\n",
    "    cmd = f\"{prefix}{path}\"\n",
    "    response = requests.put(cmd, data)\n",
    "    PP.pprint(response.json())\n",
    "def delete(path:str):\n",
    "    cmd = f\"{prefix}{path}\"\n",
    "    response = requests.delete(cmd)\n",
    "    return response.json()\n",
    "output_dir = Dirs.output_dir()\n",
    "print('output_dir:', output_dir)"
   ]
  },
  {
   "cell_type": "code",
   "execution_count": 34,
   "metadata": {},
   "outputs": [
    {
     "output_type": "execute_result",
     "data": {
      "text/plain": [
       "'mothership cleared'"
      ]
     },
     "metadata": {},
     "execution_count": 34
    }
   ],
   "source": [
    "get('/mothership/clear')"
   ]
  },
  {
   "cell_type": "code",
   "execution_count": 2,
   "metadata": {},
   "outputs": [
    {
     "output_type": "execute_result",
     "data": {
      "text/plain": [
       "{'actions': {'green_on': {'pin': 27, 'on': True},\n",
       "  'green_off': {'pin': 27, 'on': False},\n",
       "  'green_toggle': {'pin': 27},\n",
       "  'red_on': {'pin': 25, 'on': True},\n",
       "  'red_off': {'pin': 25, 'on': False},\n",
       "  'red_toggle': {'pin': 25},\n",
       "  'gpio_clear': {}},\n",
       " 'schedulers': {'randomly_soon': {'start': None,\n",
       "   'stop': None,\n",
       "   'time_unit': 'second',\n",
       "   'low': 2,\n",
       "   'high': 5},\n",
       "  'timely_every_second': {'start': None,\n",
       "   'stop': None,\n",
       "   'interval': 1,\n",
       "   'hour': None,\n",
       "   'minute': None,\n",
       "   'second': None},\n",
       "  'timely_minute_at_00_sec': {'start': None,\n",
       "   'stop': None,\n",
       "   'interval': 1,\n",
       "   'hour': None,\n",
       "   'minute': None,\n",
       "   'second': 0},\n",
       "  'timely_minute_at_30_sec': {'start': None,\n",
       "   'stop': None,\n",
       "   'interval': 1,\n",
       "   'hour': None,\n",
       "   'minute': None,\n",
       "   'second': 30}},\n",
       " 'schedulers_actions': {'randomly_soon': [],\n",
       "  'timely_every_second': [],\n",
       "  'timely_minute_at_00_sec': ['red_toggle'],\n",
       "  'timely_minute_at_30_sec': ['green_toggle']},\n",
       " 'saved_dir': '/home/pi/pyrambium/saved/'}"
      ]
     },
     "metadata": {},
     "execution_count": 2
    }
   ],
   "source": [
    "get('/mothership/load')"
   ]
  },
  {
   "cell_type": "code",
   "execution_count": 3,
   "metadata": {},
   "outputs": [
    {
     "output_type": "stream",
     "name": "stdout",
     "text": [
      "'action (green_on) was successfully added'\n",
      "'action (green_off) was successfully added'\n",
      "'action (green_toggle) was successfully added'\n",
      "'action (red_on) was successfully added'\n",
      "'action (red_off) was successfully added'\n",
      "'action (red_toggle) was successfully added'\n",
      "'action (gpio_clear) was successfully added'\n",
      "'scheduler (randomly_soon) was successfully added'\n",
      "'scheduler (timely_every_second) was successfully added'\n",
      "'scheduler (timely_minute_at_00_sec) was successfully added'\n",
      "'scheduler (timely_minute_at_30_sec) was successfully added'\n"
     ]
    },
    {
     "output_type": "execute_result",
     "data": {
      "text/plain": [
       "'action (green_toggle) was successfully scheduled (timely_every_second)'"
      ]
     },
     "metadata": {},
     "execution_count": 3
    }
   ],
   "source": [
    "# action = file_x.FileHeartbeat(file=f\"{output_dir}heartbeat1.txt\", xtra={'words':'heartbreak hotel'})\n",
    "# put('/actions/heartbeat1', action)\n",
    "# action = file_x.FileHeartbeat(file=f\"{output_dir}heartbeat2.txt\", xtra={'words':'nothing but heartaches'})\n",
    "# put('/actions/heartbeat2', action)\n",
    "# action = file_x.FileHeartbeat(file=f\"{output_dir}heartbeat3.txt\", xtra={'words':'heart of glass'})\n",
    "# put('/actions/heartbeat3', action)\n",
    "get('/mothership/clear')\n",
    "put('/actions/green_on', gpio_x.SetPin(pin=27, on=True))\n",
    "put('/actions/green_off', gpio_x.SetPin(pin=27, on=False))\n",
    "put('/actions/green_toggle', gpio_x.TogglePin(pin=27))\n",
    "put('/actions/red_on', gpio_x.SetPin(pin=25, on=True))\n",
    "put('/actions/red_off', gpio_x.SetPin(pin=25, on=False))\n",
    "put('/actions/red_toggle', gpio_x.TogglePin(pin=25))\n",
    "put('/actions/gpio_clear', gpio_x.Cleanup())\n",
    "\n",
    "put('/schedulers/randomly_soon', RandomlyScheduler(time_unit=TimeUnit.second, low=2, high=5))\n",
    "put('/schedulers/timely_every_second', TimelyScheduler(interval=1))\n",
    "put('/schedulers/timely_minute_at_00_sec', TimelyScheduler(interval=1, second=0))\n",
    "put('/schedulers/timely_minute_at_30_sec', TimelyScheduler(interval=1, second=30))\n",
    "\n",
    "get('/schedulers/randomly_soon/actions/red_toggle')\n",
    "get('/schedulers/timely_every_second/actions/green_toggle')\n",
    "# get('/schedulers/timely_minute_at_00_sec/actions/green_on')\n",
    "# get('/schedulers/timely_minute_at_30_sec/actions/green_off')"
   ]
  },
  {
   "cell_type": "code",
   "execution_count": 7,
   "metadata": {},
   "outputs": [
    {
     "output_type": "execute_result",
     "data": {
      "text/plain": [
       "{'actions': {'green_on': {'pin': 27, 'on': True},\n",
       "  'green_off': {'pin': 27, 'on': False},\n",
       "  'green_toggle': {'pin': 27},\n",
       "  'red_on': {'pin': 25, 'on': True},\n",
       "  'red_off': {'pin': 25, 'on': False},\n",
       "  'red_toggle': {'pin': 25},\n",
       "  'gpio_clear': {}},\n",
       " 'schedulers': {'randomly_soon': {'start': None,\n",
       "   'stop': None,\n",
       "   'time_unit': 'second',\n",
       "   'low': 2,\n",
       "   'high': 5},\n",
       "  'timely_every_second': {'start': None,\n",
       "   'stop': None,\n",
       "   'interval': 1,\n",
       "   'hour': None,\n",
       "   'minute': None,\n",
       "   'second': None},\n",
       "  'timely_minute_at_00_sec': {'start': None,\n",
       "   'stop': None,\n",
       "   'interval': 1,\n",
       "   'hour': None,\n",
       "   'minute': None,\n",
       "   'second': 0},\n",
       "  'timely_minute_at_30_sec': {'start': None,\n",
       "   'stop': None,\n",
       "   'interval': 1,\n",
       "   'hour': None,\n",
       "   'minute': None,\n",
       "   'second': 30}},\n",
       " 'schedulers_actions': {'randomly_soon': ['red_toggle'],\n",
       "  'timely_every_second': ['green_toggle'],\n",
       "  'timely_minute_at_00_sec': [],\n",
       "  'timely_minute_at_30_sec': []},\n",
       " 'saved_dir': '/home/pi/pyrambium/saved/'}"
      ]
     },
     "metadata": {},
     "execution_count": 7
    }
   ],
   "source": [
    "get('/mothership/load')"
   ]
  },
  {
   "cell_type": "code",
   "execution_count": 8,
   "metadata": {},
   "outputs": [
    {
     "output_type": "execute_result",
     "data": {
      "text/plain": [
       "'started running'"
      ]
     },
     "metadata": {},
     "execution_count": 8
    }
   ],
   "source": [
    "get('/jobs/start')"
   ]
  },
  {
   "cell_type": "code",
   "execution_count": 9,
   "metadata": {},
   "outputs": [
    {
     "output_type": "execute_result",
     "data": {
      "text/plain": [
       "'stopped running'"
      ]
     },
     "metadata": {},
     "execution_count": 9
    }
   ],
   "source": [
    "get('/jobs/stop')"
   ]
  },
  {
   "cell_type": "code",
   "execution_count": 10,
   "metadata": {},
   "outputs": [
    {
     "output_type": "execute_result",
     "data": {
      "text/plain": [
       "{'job_count': 2}"
      ]
     },
     "metadata": {},
     "execution_count": 10
    }
   ],
   "source": [
    "get('/jobs/count')"
   ]
  },
  {
   "cell_type": "code",
   "execution_count": null,
   "metadata": {},
   "outputs": [],
   "source": [
    "get('/actions/heartbeat1/execute')"
   ]
  },
  {
   "cell_type": "code",
   "execution_count": null,
   "metadata": {},
   "outputs": [],
   "source": [
    "get('/actions/heartbeat2/execute')"
   ]
  },
  {
   "cell_type": "code",
   "execution_count": 22,
   "metadata": {},
   "outputs": [
    {
     "output_type": "execute_result",
     "data": {
      "text/plain": [
       "{'msg': 'action (green_on) was successfully executed', 'result': None}"
      ]
     },
     "metadata": {},
     "execution_count": 22
    }
   ],
   "source": [
    "get('/actions/green_on/execute')"
   ]
  },
  {
   "cell_type": "code",
   "execution_count": 21,
   "metadata": {},
   "outputs": [
    {
     "output_type": "execute_result",
     "data": {
      "text/plain": [
       "{'msg': 'action (green_off) was successfully executed', 'result': None}"
      ]
     },
     "metadata": {},
     "execution_count": 21
    }
   ],
   "source": [
    "get('/actions/green_off/execute')"
   ]
  },
  {
   "cell_type": "code",
   "execution_count": 42,
   "metadata": {},
   "outputs": [
    {
     "output_type": "execute_result",
     "data": {
      "text/plain": [
       "{'msg': 'action (green_toggle) was successfully executed', 'result': None}"
      ]
     },
     "metadata": {},
     "execution_count": 42
    }
   ],
   "source": [
    "get('/actions/green_toggle/execute')"
   ]
  },
  {
   "cell_type": "code",
   "execution_count": 38,
   "metadata": {},
   "outputs": [
    {
     "output_type": "execute_result",
     "data": {
      "text/plain": [
       "{'msg': 'action (red_toggle) was successfully executed', 'result': None}"
      ]
     },
     "metadata": {},
     "execution_count": 38
    }
   ],
   "source": [
    "get('/actions/red_toggle/execute')"
   ]
  },
  {
   "cell_type": "code",
   "execution_count": 11,
   "metadata": {},
   "outputs": [
    {
     "output_type": "execute_result",
     "data": {
      "text/plain": [
       "{}"
      ]
     },
     "metadata": {},
     "execution_count": 11
    }
   ],
   "source": [
    "get('/actions/gpio_clear')"
   ]
  },
  {
   "cell_type": "code",
   "execution_count": null,
   "metadata": {},
   "outputs": [],
   "source": []
  }
 ]
}