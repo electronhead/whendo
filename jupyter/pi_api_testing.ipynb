{
 "metadata": {
  "language_info": {
   "codemirror_mode": {
    "name": "ipython",
    "version": 3
   },
   "file_extension": ".py",
   "mimetype": "text/x-python",
   "name": "python",
   "nbconvert_exporter": "python",
   "pygments_lexer": "ipython3",
   "version": "3.9.0-final"
  },
  "orig_nbformat": 2,
  "kernelspec": {
   "name": "python3",
   "display_name": "Python 3",
   "language": "python"
  }
 },
 "nbformat": 4,
 "nbformat_minor": 2,
 "cells": [
  {
   "cell_type": "code",
   "execution_count": 1,
   "metadata": {},
   "outputs": [],
   "source": [
    "from datetime import time\n",
    "from mothership.scheduler import TimelyScheduler, RandomlyScheduler\n",
    "import mothership.actions.file_action as file_x\n",
    "import mothership.actions.gpio_action as gpio_x\n",
    "from mothership.continuous import Continuous\n",
    "from mothership.mothership import Mothership\n",
    "from mothership.util import TimeUnit, PP, Output, Dirs\n",
    "\n",
    "saved_subdir = 'api_testing'\n",
    "saved_dir = Dirs.saved_dir()\n",
    "new_saved_dir = f\"{saved_dir}{saved_subdir}/\"\n",
    "mothership = Mothership(saved_dir=new_saved_dir)\n",
    "continuous = Continuous()\n",
    "mothership.set_continuous(continuous)\n",
    "\n",
    "mothership.save_current()\n",
    "mothership.clear_all()\n",
    "\n",
    "mothership.add_action('green_on', gpio_x.SetPin(pin=27, on=True))\n",
    "mothership.add_action('green_off', gpio_x.SetPin(pin=27, on=False))\n",
    "mothership.add_action('green_toggle', gpio_x.TogglePin(pin=27))\n",
    "mothership.add_action('red_on', gpio_x.SetPin(pin=25, on=True))\n",
    "mothership.add_action('red_off', gpio_x.SetPin(pin=25, on=False))\n",
    "mothership.add_action('red_toggle', gpio_x.TogglePin(pin=25))\n",
    "mothership.add_action('gpio_clear', gpio_x.Cleanup())\n",
    "\n",
    "\n",
    "mothership.add_scheduler('randomly_soon', RandomlyScheduler(time_unit=TimeUnit.second, low=2, high=5))\n",
    "mothership.add_scheduler('timely_every_second', TimelyScheduler(interval=1))\n",
    "mothership.add_scheduler('timely_minute_at_00_sec', TimelyScheduler(interval=1, second=0))\n",
    "mothership.add_scheduler('timely_minute_at_30_sec', TimelyScheduler(interval=1, second=30))\n",
    "\n",
    "mothership.schedule_action('randomly_soon', 'red_toggle')\n",
    "mothership.schedule_action('timely_every_second', 'green_toggle')\n",
    "# mothership.schedule_action('timely_minute_at_00_sec', 'green_on')\n",
    "# mothership.schedule_action('timely_minute_at_30_sec', 'green_off')"
   ]
  },
  {
   "cell_type": "code",
   "execution_count": 2,
   "metadata": {},
   "outputs": [
    {
     "output_type": "stream",
     "name": "stdout",
     "text": [
      "{ 'actions': { 'gpio_clear': {},\n               'green_off': {'on': False, 'pin': 27},\n               'green_on': {'on': True, 'pin': 27},\n               'green_toggle': {'pin': 27},\n               'red_off': {'on': False, 'pin': 25},\n               'red_on': {'on': True, 'pin': 25},\n               'red_toggle': {'pin': 25}},\n  'saved_dir': '/home/pi/pyrambium/saved/api_testing/',\n  'schedulers': { 'randomly_soon': { 'high': 5,\n                                     'low': 2,\n                                     'start': None,\n                                     'stop': None,\n                                     'time_unit': <TimeUnit.second: 'second'>},\n                  'timely_every_second': { 'hour': None,\n                                           'interval': 1,\n                                           'minute': None,\n                                           'second': None,\n                                           'start': None,\n                                           'stop': None},\n                  'timely_minute_at_00_sec': { 'hour': None,\n                                               'interval': 1,\n                                               'minute': None,\n                                               'second': 0,\n                                               'start': None,\n                                               'stop': None},\n                  'timely_minute_at_30_sec': { 'hour': None,\n                                               'interval': 1,\n                                               'minute': None,\n                                               'second': 30,\n                                               'start': None,\n                                               'stop': None}},\n  'schedulers_actions': { 'randomly_soon': [],\n                          'timely_every_second': [],\n                          'timely_minute_at_00_sec': ['green_on'],\n                          'timely_minute_at_30_sec': ['green_off']}}\n"
     ]
    }
   ],
   "source": [
    "mothership.pprint()"
   ]
  },
  {
   "cell_type": "code",
   "execution_count": 3,
   "metadata": {},
   "outputs": [
    {
     "output_type": "stream",
     "name": "stdout",
     "text": [
      "started running continuously at 16:17:44 on 2021-02-07\n"
     ]
    }
   ],
   "source": [
    "continuous.run_continuously()"
   ]
  },
  {
   "cell_type": "code",
   "execution_count": 5,
   "metadata": {},
   "outputs": [
    {
     "output_type": "stream",
     "name": "stdout",
     "text": [
      "continuous run already stopped as of 16:23:24 on 2021-02-07\n"
     ]
    }
   ],
   "source": [
    "continuous.stop_running_continuously()"
   ]
  },
  {
   "cell_type": "code",
   "execution_count": null,
   "metadata": {},
   "outputs": [],
   "source": [
    "mothership.execute_action('heartbeat1')"
   ]
  },
  {
   "cell_type": "code",
   "execution_count": null,
   "metadata": {},
   "outputs": [],
   "source": [
    "mothership.execute_action('heartbeat2')"
   ]
  },
  {
   "cell_type": "code",
   "execution_count": null,
   "metadata": {},
   "outputs": [],
   "source": [
    "mothership.execute_action('led_on')"
   ]
  },
  {
   "cell_type": "code",
   "execution_count": null,
   "metadata": {},
   "outputs": [],
   "source": [
    "mothership.execute_action('led_off')"
   ]
  },
  {
   "cell_type": "code",
   "execution_count": 7,
   "metadata": {},
   "outputs": [
    {
     "output_type": "execute_result",
     "data": {
      "text/plain": [
       "'xyz'"
      ]
     },
     "metadata": {},
     "execution_count": 7
    }
   ],
   "source": [
    "'abc' if 0 else 'xyz'"
   ]
  },
  {
   "cell_type": "code",
   "execution_count": null,
   "metadata": {},
   "outputs": [],
   "source": []
  }
 ]
}