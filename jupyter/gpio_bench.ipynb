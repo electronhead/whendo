{
 "metadata": {
  "language_info": {
   "codemirror_mode": {
    "name": "ipython",
    "version": 3
   },
   "file_extension": ".py",
   "mimetype": "text/x-python",
   "name": "python",
   "nbconvert_exporter": "python",
   "pygments_lexer": "ipython3",
   "version": "3.9.0-final"
  },
  "orig_nbformat": 2,
  "kernelspec": {
   "name": "python3",
   "display_name": "Python 3",
   "language": "python"
  }
 },
 "nbformat": 4,
 "nbformat_minor": 2,
 "cells": [
  {
   "source": [
    "This notebook utilizes the Workbench and MothershipClient classes, which allows for convenient, notebook-based use of the sdk."
   ],
   "cell_type": "markdown",
   "metadata": {}
  },
  {
   "cell_type": "code",
   "execution_count": null,
   "metadata": {},
   "outputs": [],
   "source": [
    "from datetime import time\n",
    "from whendo.sdk.mothership_client import MothershipClient\n",
    "from whendo.sdk.workbench import Workbench\n",
    "from whendo.core.util import IP, PP, FilePathe, Dirs, TimeUnit\n",
    "import whendo.core.actions.file_action as file_x\n",
    "import whendo.core.actions.logic_action as logic_x\n",
    "import whendo.core.scheduler as sched_x\n",
    "import whendo.core.actions.gpio_action as gpio_x\n",
    "\n",
    "workbench = Workbench()\n",
    "workbench.add_client('local', MothershipClient(ip_addr=IP.local))\n",
    "workbench.add_client('pi', MothershipClient(ip_addr='192.168.0.45'))\n",
    "local = workbench.get_client('local')\n",
    "pi = workbench.get_client('pi')\n",
    "output_dir = Dirs.output_dir()\n",
    "print(output_dir)"
   ]
  },
  {
   "cell_type": "code",
   "execution_count": null,
   "metadata": {},
   "outputs": [],
   "source": [
    "client = pi"
   ]
  },
  {
   "cell_type": "code",
   "execution_count": null,
   "metadata": {},
   "outputs": [],
   "source": [
    "client.clear_mothership()"
   ]
  },
  {
   "cell_type": "code",
   "execution_count": null,
   "metadata": {},
   "outputs": [],
   "source": [
    "client.load_mothership().pprint()"
   ]
  },
  {
   "cell_type": "code",
   "execution_count": null,
   "metadata": {},
   "outputs": [],
   "source": [
    "client.start_scheduled_jobs()"
   ]
  },
  {
   "cell_type": "code",
   "execution_count": null,
   "metadata": {},
   "outputs": [],
   "source": [
    "client.stop_scheduled_jobs()"
   ]
  },
  {
   "cell_type": "code",
   "execution_count": null,
   "metadata": {},
   "outputs": [],
   "source": [
    "client.job_count()"
   ]
  },
  {
   "cell_type": "code",
   "execution_count": null,
   "metadata": {},
   "outputs": [],
   "source": [
    "\n",
    "\"\"\"\n",
    "define the actions\n",
    "\"\"\"\n",
    "green_on = gpio_x.SetPin(pin=27, on=True)\n",
    "green_off = gpio_x.SetPin(pin=27, on=True)\n",
    "green_toggle = gpio_x.TogglePin(pin=27)\n",
    "red_on = gpio_x.SetPin(pin=25, on=True)\n",
    "red_off = gpio_x.SetPin(pin=25, on=True)\n",
    "red_toggle = gpio_x.TogglePin(pin=25)\n",
    "gpio_clear = gpio_x.Cleanup()\n",
    "toggle_toggle = logic_x.ListAction(op_mode=logic_x.ListOpMode.ALL, action_list=[green_toggle, red_toggle])\n",
    "file_heartbeat = file_x.FileHeartbeat(file=f\"{output_dir}gpio_beat.txt\")\n",
    "\n",
    "\"\"\"\n",
    "define the schedulers\n",
    "\"\"\"\n",
    "morning, evening = time(6,0,0), time(18,0,0)\n",
    "daily_often = sched_x.TimelyScheduler(start=morning, stop=evening, interval=1)\n",
    "nightly_often = sched_x.TimelyScheduler(start=evening, stop=morning, interval=1)\n",
    "randomly_often = sched_x.RandomlyScheduler(time_unit=TimeUnit.second, low=2, high=5)\n",
    "timely_at_00_sec = sched_x.TimelyScheduler(interval=1, second=00)\n",
    "timely_at_30_sec = sched_x.TimelyScheduler(interval=1, second=30)\n"
   ]
  },
  {
   "cell_type": "code",
   "execution_count": null,
   "metadata": {},
   "outputs": [],
   "source": [
    "local.execute_action('gpio_clear')"
   ]
  },
  {
   "cell_type": "code",
   "execution_count": null,
   "metadata": {},
   "outputs": [],
   "source": [
    "\"\"\"\n",
    "add actions to the 'local' mothership\n",
    "\"\"\"\n",
    "[ client.add_action(*action) for action in [\n",
    "    ('green_on', green_on),\n",
    "    ('green_off', green_off),\n",
    "    ('green_toggle', green_toggle),\n",
    "    ('red_on', red_on),\n",
    "    ('red_off', red_off),\n",
    "    ('red_toggle', red_toggle),\n",
    "    ('gpio_clear', gpio_clear),\n",
    "    ('toggle_toggle', toggle_toggle),\n",
    "    ('file_heartbeat', file_heartbeat)\n",
    "    ]\n",
    "]"
   ]
  },
  {
   "cell_type": "code",
   "execution_count": null,
   "metadata": {},
   "outputs": [],
   "source": [
    "\n",
    "\"\"\"\n",
    "add schedulers to the 'local' mothership\n",
    "\"\"\"\n",
    "[ client.add_scheduler(*scheduler) for scheduler in [\n",
    "    ('daily_often', daily_often),\n",
    "    ('nightly_often', nightly_often),\n",
    "    ('randomly_often', randomly_often),\n",
    "    ('timely_at_00_sec', timely_at_00_sec),\n",
    "    ('timely_at_30_sec', timely_at_30_sec)\n",
    "    ]\n",
    "]"
   ]
  },
  {
   "cell_type": "code",
   "execution_count": null,
   "metadata": {},
   "outputs": [],
   "source": [
    "\"\"\"\n",
    "schedule the actions of interest\n",
    "\"\"\"\n",
    "[ client.schedule_action(*stuff) for stuff in [\n",
    "    # ('randomly_often', 'red_toggle'),\n",
    "    # ('daily_often', 'green_toggle'),\n",
    "    # ('nightly_often', 'green_toggle')\n",
    "    ('nightly_often', 'toggle_toggle'),\n",
    "    ('randomly_often', 'file_heartbeat')\n",
    "    ]\n",
    "]\n"
   ]
  },
  {
   "cell_type": "code",
   "execution_count": null,
   "metadata": {},
   "outputs": [],
   "source": [
    "\"\"\"\n",
    "unschedule the schedulers\n",
    "\"\"\"\n",
    "[ client.unschedule_scheduler(scheduler) for scheduler in [ \n",
    "    'randomly_often', 'daily_often', 'nightly_often'\n",
    "    ]\n",
    "]\n"
   ]
  },
  {
   "cell_type": "code",
   "execution_count": null,
   "metadata": {},
   "outputs": [],
   "source": []
  }
 ]
}