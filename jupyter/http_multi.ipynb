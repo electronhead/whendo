{
 "cells": [
  {
   "cell_type": "markdown",
   "metadata": {},
   "source": [
    "When you run a notebook cell that imports from the whendo packages, you need to set the NOTEBOOK FILE ROOT to \\$\\{workspaceFolder\\} so  that imports from top-level packages work. For example, with the property's default value of \\$\\{fileDirName\\}, the imports from dispatcher.etc... will fail since the notebook location is one directory down from top-level.\n",
    "\n",
    "\n",
    "\n"
   ]
  },
  {
   "cell_type": "code",
   "execution_count": null,
   "metadata": {},
   "outputs": [],
   "source": [
    "from datetime import time, datetime, timedelta\n",
    "from pydantic import BaseModel\n",
    "import requests\n",
    "import json\n",
    "from itertools import product\n",
    "from whendo.core.server import Server\n",
    "from whendo.core.scheduler import Immediately\n",
    "import whendo.core.schedulers.timed_scheduler as sched_x\n",
    "import whendo.core.actions.file_action as file_x\n",
    "import whendo.core.actions.list_action as list_x\n",
    "import whendo.core.actions.sys_action as sys_x\n",
    "import whendo.core.actions.dispatch_action as disp_x\n",
    "from whendo.core.programs.simple_program import PBEProgram\n",
    "from whendo.core.util import PP, TimeUnit, Dirs, DateTime, Now, DateTime2, Rez\n",
    "from whendo.core.action import RezDict, Action, ActionRez\n",
    "import whendo.core.resolver as resolver\n",
    "\n",
    "def get(server:Server, path:str):\n",
    "    response = requests.get(cmd(server, path))\n",
    "    return handle_response(response)\n",
    "def put(server:Server, path:str, data:BaseModel):\n",
    "    response = requests.put(cmd(server, path), data.json())\n",
    "    return handle_response(response)\n",
    "def post(server:Server, path:str, data:BaseModel):\n",
    "    response = requests.post(cmd(server, path), data.json())\n",
    "    return handle_response(response)\n",
    "def post_dict(server:Server, path:str, data:dict):\n",
    "    response = requests.post(cmd(server, path), json.dumps(data))\n",
    "    return handle_response(response)\n",
    "def delete(server:Server, path:str):\n",
    "    response = requests.delete(cmd(server, path))\n",
    "    return handle_response(response)\n",
    "\n",
    "def cmd(server:Server,path:str):\n",
    "    return f\"http://{server.host}:{server.port}{path}\"\n",
    "\n",
    "def handle_response(response):\n",
    "    if response.ok:\n",
    "        PP.pprint(response.json())\n",
    "        return response.json()\n",
    "    else:\n",
    "        raise Exception(response.json())\n",
    "\n",
    "home0 = Server(host='127.0.0.1', port = 8000, tags = {\"server_name\":[\"home0\"], 'role': ['usual', 'sweet']})\n",
    "home1 = Server(host='192.168.0.26', port = 8001, tags = {\"server_name\":[\"home1\"], 'role': ['usual', 'sour']})\n",
    "servers = [home0, home1]"
   ]
  },
  {
   "cell_type": "code",
   "execution_count": null,
   "metadata": {},
   "outputs": [],
   "source": [
    "def inventory(server:Server):\n",
    "\n",
    "    heart_1 = file_x.FileAppend(file=\"heartbeat1.txt\", payload={'words':'heartbreak hotel'})\n",
    "    post(server, '/actions/heartbeat1', heart_1)\n",
    "    heart_2 = file_x.FileAppend(file=\"heartbeat2.txt\", payload={'words':'nothing but heartaches'})\n",
    "    post(server, '/actions/heartbeat2', heart_2)\n",
    "    heart_3 = file_x.FileAppend(file=\"heartbeat3.txt\", payload={'words':'heart of glass'})\n",
    "    post(server, '/actions/heartbeat3', heart_3)\n",
    "\n",
    "    append_1 = file_x.FileAppend(file=\"append_1.txt\")\n",
    "    post(server, '/actions/append_1', append_1)\n",
    "    append_2 = file_x.FileAppend(file=\"append_2.txt\")\n",
    "    post(server, '/actions/append_2', append_2)\n",
    "    append_3 = file_x.FileAppend(file=\"append_3.txt\")\n",
    "    post(server, '/actions/append_3', append_3)\n",
    "\n",
    "    sys_info = sys_x.SysInfo()\n",
    "    post(server, '/actions/sys_info', sys_info)\n",
    "    pause = sys_x.Pause()\n",
    "    post(server, '/actions/pause', pause)\n",
    "    logic_1 = list_x.All(actions=[heart_1, heart_2])\n",
    "    post(server, '/actions/logic1', logic_1)\n",
    "    success = list_x.Success()\n",
    "    post(server, '/actions/success', success)\n",
    "    file_append = file_x.FileAppend(file=\"boomerang.txt\")\n",
    "    post(server, '/actions/file_append', file_append)\n",
    "    mini_info = sys_x.MiniInfo()\n",
    "    post(server, '/actions/mini_info', mini_info)\n",
    "    scheduling_info = disp_x.SchedulingInfo()\n",
    "    post(server, '/actions/scheduling_info', scheduling_info)\n",
    "    dispatcher_dump = disp_x.DispatcherDump()\n",
    "    post(server, '/actions/dispatcher_dump', dispatcher_dump)\n",
    "    terminate = list_x.Terminate()\n",
    "    post(server, '/actions/terminate', terminate)\n",
    "    raise_if_0 = list_x.RaiseCmp(cmp=0, value=0)\n",
    "    post(server, '/actions/raise_if_0', raise_if_0)\n",
    "    integer = list_x.Result(value=1)\n",
    "\n",
    "    info_append_1 = list_x.All(actions=[sys_info, mini_info, list_x.RezFmt(), append_1])\n",
    "    info_append_2 = list_x.All(actions=[mini_info, list_x.RezFmt(), append_2])\n",
    "    info_append_3 = list_x.All(actions=[dispatcher_dump, sys_info, list_x.RezFmt(), append_3])\n",
    "    post(server, '/actions/info_append_1', info_append_1)\n",
    "    post(server, '/actions/info_append_2', info_append_2)\n",
    "    post(server, '/actions/info_append_3', info_append_3)\n",
    "\n",
    "    raise_all_1 = list_x.All(actions=[list_x.Result(value=0), raise_if_0])\n",
    "    raise_all_2= list_x.All(actions=[list_x.Result(value=1), raise_if_0])\n",
    "    post(server, '/actions/raise_all_1', raise_all_1)\n",
    "    post(server, '/actions/raise_all_2', raise_all_2)\n",
    "    raise_uf_1 = list_x.UntilFailure(actions=[list_x.Result(value=0), raise_if_0])\n",
    "    raise_uf_2= list_x.UntilFailure(actions=[list_x.Result(value=1), raise_if_0])\n",
    "    post(server, '/actions/raise_uf_1', raise_uf_1)\n",
    "    post(server, '/actions/raise_uf_2', raise_uf_2)\n",
    "    raise_us_1 = list_x.UntilSuccess(actions=[list_x.Result(value=0), raise_if_0])\n",
    "    raise_us_2 = list_x.UntilSuccess(actions=[list_x.Result(value=1), raise_if_0])\n",
    "    post(server, '/actions/raise_us_1', raise_us_1)\n",
    "    post(server, '/actions/raise_us_2', raise_us_2)\n",
    "\n",
    "    format_1 = list_x.All(actions = [mini_info, sys_info, list_x.RezFmt()])\n",
    "    post(server, '/actions/format_1', format_1)\n",
    "\n",
    "    execute_action = disp_x.Exec(server_name=\"home\", action_name=\"file_append\")\n",
    "    post(server, '/actions/execute_action', execute_action)\n",
    "    execute_action_key_tags = disp_x.ExecKeyTags(key_tags={\"role\":[\"sour\"]}, action_name=\"file_append\")\n",
    "    # execute_action_key_tags = disp_x.ExecKeyTags()\n",
    "    post(server, '/actions/execute_action_key_tags', execute_action_key_tags)\n",
    "    sys_info_key_tags = list_x.All(actions=[sys_info, execute_action_key_tags])\n",
    "    post(server, '/actions/sys_info_key_tags', sys_info_key_tags)\n",
    "\n",
    "\n",
    "    scheduler = sched_x.Randomly(time_unit=TimeUnit.second, low=5, high=10)\n",
    "    post(server, '/schedulers/randomly_soon', scheduler)\n",
    "    scheduler = sched_x.Timely(interval=1)\n",
    "    post(server, '/schedulers/often', scheduler)\n",
    "    morning, evening = time(6,0,0), time(18,0,0)\n",
    "    scheduler = sched_x.Timely(interval=1, start=morning, stop=evening)\n",
    "    post(server, '/schedulers/timely_day', scheduler)\n",
    "    scheduler = sched_x.Timely(interval=1, start=evening, stop=morning)\n",
    "    post(server, '/schedulers/timely_night', scheduler)\n",
    "    scheduler = Immediately()\n",
    "    post(server, '/schedulers/immediately', scheduler)\n",
    "\n",
    "    program = PBEProgram().prologue(\"heartbeat1\").epilogue(\"heartbeat3\").body_element(\"often\", \"heartbeat2\")\n",
    "    post(server, '/programs/program1', program)\n",
    "    info_append = PBEProgram().prologue(\"info_append_1\").epilogue(\"info_append_3\").body_element(\"often\", \"info_append_2\")\n",
    "    post(server, '/programs/info_append', info_append)\n",
    "\n"
   ]
  },
  {
   "cell_type": "code",
   "execution_count": null,
   "metadata": {},
   "outputs": [],
   "source": [
    "def schedule(server:Server):\n",
    "    if True:\n",
    "        start = Now.dt()+timedelta(seconds=2)\n",
    "        stop = start + timedelta(seconds=20)\n",
    "        datetime2 = DateTime2(dt1=start, dt2=stop)\n",
    "        post(server, \"/programs/info_append/schedule\", datetime2)\n",
    "    elif True:\n",
    "        start = Now.dt()\n",
    "        stop = start + timedelta(seconds=20)\n",
    "        datetime2 = DateTime2(dt1=start, dt2=stop)\n",
    "        post(server, \"/programs/program1/schedule\", datetime2)\n",
    "    elif True:\n",
    "        get(server, '/schedulers/often/actions/logic1')\n",
    "        dt = DateTime(date_time=Now.dt()+timedelta(seconds=10))\n",
    "        post(server, '/schedulers/often/actions/logic1/expire', dt)\n",
    "        post(server, '/schedulers/often/actions/heartbeat3/defer', dt)\n",
    "    elif True: # write once to heartbeat1 & heartbeat2\n",
    "        dt = DateTime(date_time=Now.dt()+timedelta(seconds=10))\n",
    "        post(server, '/schedulers/immediately/actions/logic1/defer', dt)"
   ]
  },
  {
   "cell_type": "code",
   "execution_count": null,
   "metadata": {},
   "outputs": [],
   "source": [
    "[get(server, '/dispatcher/clear') for server in servers]\n",
    "for (serverA, serverB) in list(product(servers, servers)):\n",
    "    post(serverA, f\"/servers/{serverB.tags['server_name'][0]}\", serverB)\n",
    "[inventory(server) for server in servers]"
   ]
  },
  {
   "cell_type": "code",
   "execution_count": null,
   "metadata": {},
   "outputs": [],
   "source": [
    "[schedule(server) for server in [home0, home1]]"
   ]
  },
  {
   "cell_type": "code",
   "execution_count": null,
   "metadata": {},
   "outputs": [],
   "source": [
    "[get(server, '/dispatcher/load') for server in [home0, home1]]"
   ]
  },
  {
   "cell_type": "code",
   "execution_count": null,
   "metadata": {},
   "outputs": [],
   "source": [
    "[get(server, '/actions/sys_info/execute') for server in [home0, home1]]"
   ]
  },
  {
   "cell_type": "code",
   "execution_count": null,
   "metadata": {},
   "outputs": [],
   "source": [
    "[get(server, '/dispatcher/describe_all') for server in [home0, home1]]"
   ]
  },
  {
   "cell_type": "code",
   "execution_count": null,
   "metadata": {},
   "outputs": [],
   "source": [
    "[get(server, '/actions/sys_info/execute') for server in [home0, home1]]"
   ]
  },
  {
   "cell_type": "code",
   "execution_count": null,
   "metadata": {},
   "outputs": [],
   "source": [
    "[get(server, '/servers') for server in [home0, home1]]"
   ]
  },
  {
   "cell_type": "code",
   "execution_count": null,
   "metadata": {},
   "outputs": [],
   "source": [
    "[get(server, '/jobs/run') for server in [home0, home1]]"
   ]
  },
  {
   "cell_type": "code",
   "execution_count": null,
   "metadata": {},
   "outputs": [],
   "source": [
    "[get(server, '/jobs/stop') for server in [home0, home1]]"
   ]
  },
  {
   "cell_type": "code",
   "execution_count": null,
   "metadata": {},
   "outputs": [],
   "source": [
    "[get(server, '/jobs/count') for server in [home0, home1]]"
   ]
  },
  {
   "cell_type": "code",
   "execution_count": null,
   "metadata": {},
   "outputs": [],
   "source": [
    "get(home1, '/actions/sys_info_key_tags/execute')"
   ]
  },
  {
   "cell_type": "code",
   "execution_count": null,
   "metadata": {},
   "outputs": [],
   "source": [
    "get(home1, '/actions/execute_action_key_tags/execute')"
   ]
  },
  {
   "cell_type": "code",
   "execution_count": null,
   "metadata": {},
   "outputs": [],
   "source": [
    "execute_action = disp_x.Exec(server_name=\"home1\", action_name=\"file_append\")\n",
    "execute_action_key_tags = disp_x.ExecKeyTags(key_tags={\"role\":[\"sour\"]}, action_name=\"file_append\") if False else disp_x.ExecKeyTags()\n",
    "for svr in [home0,home1]:\n",
    "    try:\n",
    "        put(svr, '/actions/execute_action', execute_action)\n",
    "    except:\n",
    "        post(svr, '/actions/execute_action', execute_action)\n",
    "    try:\n",
    "        put(svr, '/actions/execute_action_key_tags', execute_action)\n",
    "    except:\n",
    "        post(svr, '/actions/execute_action_key_tags', execute_action)"
   ]
  },
  {
   "cell_type": "code",
   "execution_count": null,
   "metadata": {},
   "outputs": [],
   "source": [
    "execute_action = disp_x.Exec(server_name=\"home0\", action_name=\"file_append\")\n",
    "for svr in servers:\n",
    "    try:\n",
    "        put(svr, '/actions/execute_action', execute_action)\n",
    "    except:\n",
    "        post(svr, '/actions/execute_action', execute_action)\n",
    "rez = Rez(result=\"Eureka!\")\n",
    "key_tags = {\"role\": [\"sour\"]}\n",
    "rez_dict = RezDict(rez=rez, dictionary=key_tags)\n",
    "post(home1, '/servers/by_tags/any/actions/execute_action/execute_with_rez',rez_dict)"
   ]
  },
  {
   "cell_type": "code",
   "execution_count": null,
   "metadata": {},
   "outputs": [],
   "source": [
    "############## BWEE\n",
    "############## BWEE\n",
    "execute_action_key_tags = disp_x.ExecKeyTags(key_tags={\"role\":[\"sweet\"]}, action_name=\"file_append\")\n",
    "for svr in servers:\n",
    "    try:\n",
    "        put(svr, '/actions/execute_action_key_tags', execute_action_key_tags)\n",
    "    except:\n",
    "\n",
    "        post(svr, '/actions/execute_action_key_tags', execute_action_key_tags)\n",
    "rez = Rez(result=\"Eureka!\")\n",
    "key_tags = {\"role\": [\"sweet\"]} # execution location\n",
    "rez_dict = RezDict(rez=rez, dictionary=key_tags)\n",
    "post(home0, '/servers/by_tags/any/actions/execute_action_key_tags/execute_with_rez',rez_dict)"
   ]
  },
  {
   "cell_type": "code",
   "execution_count": null,
   "metadata": {},
   "outputs": [],
   "source": [
    "test_action1 = disp_x.ExecKeyTags()\n",
    "test_action2 = list_x.Vals(vals={\"payload\":\"Guerneville!!!\", \"action_name\":\"file_append\", \"key_tags\":{\"role\":[\"sweet\"]}})\n",
    "test_action3 = list_x.All(include_processing_info=True, actions=[test_action2,test_action1])\n",
    "for svr in servers:\n",
    "    try:\n",
    "        put(svr, '/actions/test_action3', test_action3)\n",
    "    except:\n",
    "        post(svr, '/actions/test_action3', test_action3)\n",
    "key_tags = {\"role\": [\"sour\"]} # top-level execution\n",
    "post_dict(home0, '/servers/by_tags/any/actions/test_action3/execute', key_tags)"
   ]
  },
  {
   "cell_type": "code",
   "execution_count": null,
   "metadata": {},
   "outputs": [],
   "source": [
    "test_action1 = disp_x.ExecKeyTags()\n",
    "test_action_a = list_x.Result(value=\"Arcata!\")\n",
    "test_action_b = list_x.Vals(vals={\"payload\":{\"x\":\"Eureka!!!\"}})\n",
    "test_action2 = list_x.Vals(vals={\"action_name\":\"file_append\", \"key_tags\":{\"role\":[\"sweet\"]}})\n",
    "test_action3 = list_x.All(include_processing_info=True, actions=[test_action_b, test_action2, test_action1])\n",
    "\n",
    "for svr in servers:\n",
    "    try:\n",
    "        put(svr, '/actions/test_action3', test_action3)\n",
    "    except:\n",
    "        post(svr, '/actions/test_action3', test_action3)\n",
    "key_tags = {\"role\": [\"sour\"]} # top-level execution\n",
    "post_dict(home0, '/servers/by_tags/any/actions/test_action3/execute', key_tags)"
   ]
  },
  {
   "cell_type": "code",
   "execution_count": null,
   "metadata": {},
   "outputs": [],
   "source": [
    "test_action1 = disp_x.ExecKeyTags()\n",
    "test_action_a = list_x.Result(value=\"Arcata!\")\n",
    "test_action_b = list_x.Vals(vals={\"payload\":{\"x\":\"Eureka!!!\"}})\n",
    "test_action2 = list_x.Vals(vals={\"action_name\":\"file_append\", \"key_tags\":{\"role\":[\"sweet\"]}})\n",
    "test_action3 = list_x.All(include_processing_info=True, actions=[test_action_b, test_action2, test_action_a, test_action1])\n",
    "test_action3.json()\n",
    "for svr in servers:\n",
    "    try:\n",
    "        put(svr, '/actions/test_action3', test_action3)\n",
    "    except:\n",
    "        post(svr, '/actions/test_action3', test_action3)\n",
    "key_tags = {\"role\": [\"sour\"]} # top-level execution\n",
    "post_dict(home0, '/servers/by_tags/any/actions/test_action3/execute', key_tags)"
   ]
  },
  {
   "cell_type": "code",
   "execution_count": null,
   "metadata": {},
   "outputs": [],
   "source": [
    "\"XXXXXXXXXXXXXXXX !!!!!!!!!\"\n",
    "file_append = resolver.resolve_action(get(home0, '/actions/file_append'))\n",
    "test_action1 = disp_x.ExecSuppliedKeyTags(key_tags={\"role\":[\"sour\"]})\n",
    "test_action2 = list_x.Vals(vals={\"action\":file_append, \"payload\":{\"x\":\"Petrolia!!!\"}})\n",
    "# test_action2 = list_x.Vals(vals={\"action\":file_append, \"key_tags\":{\"role\":[\"sour\"]}, \"payload\":{\"x\":\"Petrolia!!!\"}})\n",
    "test_action3 = list_x.All(include_processing_info=True, actions=[test_action2, test_action1])\n",
    "for svr in servers:\n",
    "    try:\n",
    "        put(svr, '/actions/test_action3', test_action3)\n",
    "    except:\n",
    "        post(svr, '/actions/test_action3', test_action3)\n",
    "key_tags = {\"role\": [\"sweet\"]} # top-level execution\n",
    "post_dict(home1, '/servers/by_tags/any/actions/test_action3/execute', key_tags)"
   ]
  },
  {
   "cell_type": "code",
   "execution_count": null,
   "metadata": {},
   "outputs": [],
   "source": [
    "\"YYYYYYYYYYYYYYYYY !!!!!!!!!\"\n",
    "\n",
    "file_append = resolver.resolve_action(get(home0, '/actions/file_append'))\n",
    "file_append.payload = {\"x\":\"Petrolia!!!\"}\n",
    "test_action1 = disp_x.ExecSupplied() #KeyTags(key_tags={\"role\":[\"sour\"]})\n",
    "test_action2 = list_x.Vals(vals={\"action\":file_append})\n",
    "test_action3 = list_x.All(include_processing_info=True, actions=[test_action2, test_action1])\n",
    "for svr in servers:\n",
    "    try:\n",
    "        put(svr, '/actions/test_action3', test_action3)\n",
    "    except:\n",
    "        post(svr, '/actions/test_action3', test_action3)\n",
    "get(home0, '/actions/test_action3/execute')"
   ]
  },
  {
   "cell_type": "code",
   "execution_count": null,
   "metadata": {},
   "outputs": [],
   "source": [
    "\"ZZZZZZZZZZZZ !!!!!!!!!\"\n",
    "\n",
    "file_append = resolver.resolve_action(get(home0, '/actions/file_append'))\n",
    "file_append.payload = {\"x\":\"Petrolia!!!\"}\n",
    "test_action1 = disp_x.ExecSupplied(action=file_append) #KeyTags(key_tags={\"role\":[\"sour\"]})\n",
    "# test_action2 = list_x.Vals(vals={\"action\":file_append})\n",
    "test_action3 = list_x.All(include_processing_info=True, actions=[test_action1])\n",
    "for svr in servers:\n",
    "    try:\n",
    "        put(svr, '/actions/test_action3', test_action3)\n",
    "    except:\n",
    "        post(svr, '/actions/test_action3', test_action3)\n",
    "get(home0, '/actions/test_action3/execute')"
   ]
  },
  {
   "cell_type": "code",
   "execution_count": null,
   "metadata": {},
   "outputs": [],
   "source": [
    "file_append = resolver.resolve_action(get(home0, '/actions/file_append'))\n",
    "test_action1 = disp_x.ExecSuppliedKeyTags(action=file_append)\n",
    "test_action_b = list_x.Vals(vals={\"payload\":{\"x\":\"Petrolia!!!\"}})\n",
    "test_action2 = list_x.Vals(vals={\"key_tags\":{\"role\":[\"sour\"]}})\n",
    "test_action3 = list_x.All(include_processing_info=True, actions=[test_action_b, test_action2, test_action1])\n",
    "for svr in servers:\n",
    "    try:\n",
    "        put(svr, '/actions/test_action3', test_action3)\n",
    "    except:\n",
    "        post(svr, '/actions/test_action3', test_action3)\n",
    "key_tags = {\"role\": [\"sweet\"]} # top-level execution\n",
    "post_dict(home1, '/servers/by_tags/any/actions/test_action3/execute', key_tags)"
   ]
  },
  {
   "cell_type": "code",
   "execution_count": null,
   "metadata": {},
   "outputs": [],
   "source": [
    "from whendo.sdk.client import Client\n",
    "cl = Client(host=home0.host, port=home0.port)\n",
    "schedule_key_tags2 = disp_x.ExecSuppliedKeyTags(key_tags={\"role\":[\"sour\"]}, action = disp_x.ScheduleProgram(program_name=\"info_append\"))\n",
    "cl.set_action(action_name=\"schedule_key_tags2\", action=schedule_key_tags2)\n",
    "rez=Rez(flds={\"start_stop\": DateTime2(dt1=Now.dt() + timedelta(seconds=3), dt2= Now.dt() + timedelta(seconds=45))})\n",
    "cl.execute_action_with_rez(action_name=\"schedule_key_tags2\", rez=rez)"
   ]
  },
  {
   "cell_type": "code",
   "execution_count": null,
   "metadata": {},
   "outputs": [],
   "source": [
    "from whendo.core.resolver import resolve_action_rez\n",
    "dd = {'dt1': datetime(2021, 5, 1, 2, 6, 40, 932219), 'dt2': datetime(2021, 5, 1, 2, 7, 22, 932301)}\n",
    "resolve_action_rez(dictionary=dd)"
   ]
  },
  {
   "cell_type": "code",
   "execution_count": null,
   "metadata": {},
   "outputs": [],
   "source": [
    "import whendo.core.util as util\n",
    "file = \"/Users/electronhead/.whendo/whendo/output/foo.txt\"\n",
    "with open(file, \"a\") as outfile:\n",
    "    util.PP.pprint(False, stream=outfile)\n",
    "    outfile.write(\"\\n\")"
   ]
  },
  {
   "cell_type": "code",
   "execution_count": null,
   "metadata": {},
   "outputs": [],
   "source": [
    "from whendo.sdk.client import Client\n",
    "action = file_x.FileAppend(file=\"test.txt\")\n",
    "action2 = list_x.All(actions=[list_x.Result(value=False), action])\n",
    "Client(host=home0.host, port=home0.port).execute_supplied_action(supplied_action=action2)"
   ]
  },
  {
   "cell_type": "code",
   "execution_count": null,
   "metadata": {},
   "outputs": [],
   "source": [
    "rez = resolver.resolve_rez(get(home0, '/actions/sys_info/execute'))\n",
    "print (type(rez))"
   ]
  },
  {
   "cell_type": "code",
   "execution_count": null,
   "metadata": {},
   "outputs": [],
   "source": [
    "from whendo.sdk.client import Client\n",
    "Client(host=home0.host, port=home0.port).get_servers_by_tags(key_tags={\"server_name\":[\"home0\"]}, mode=\"any\")\n",
    "# key_tags={\"server_name\":[\"home0\"]}\n",
    "# post_dict(home1, \"/servers/by_tags/any\", key_tags)"
   ]
  },
  {
   "cell_type": "code",
   "execution_count": null,
   "metadata": {},
   "outputs": [],
   "source": [
    "from whendo.sdk.client import Client\n",
    "PP.pprint(Client(host=home0.host, port=home0.port).load_dispatcher().dict())"
   ]
  },
  {
   "cell_type": "code",
   "execution_count": null,
   "metadata": {},
   "outputs": [],
   "source": [
    "get(home0, '/actions/dispatcher_dump/execute')"
   ]
  },
  {
   "cell_type": "code",
   "execution_count": null,
   "metadata": {},
   "outputs": [],
   "source": [
    "import logging\n",
    "logger = logging.getLogger(__name__)\n",
    "type(logger)"
   ]
  },
  {
   "cell_type": "code",
   "execution_count": null,
   "metadata": {},
   "outputs": [],
   "source": []
  }
 ],
 "metadata": {
  "kernelspec": {
   "name": "pythonjvsc74a57bd011e3d1d60e43f3fc93edfa0d1a61ce1f97593b243c6edf8de848828f37576791",
   "display_name": "Python 3.9.0 64-bit ('venv': venv)"
  },
  "language_info": {
   "codemirror_mode": {
    "name": "ipython",
    "version": 3
   },
   "file_extension": ".py",
   "mimetype": "text/x-python",
   "name": "python",
   "nbconvert_exporter": "python",
   "pygments_lexer": "ipython3",
   "version": "3.9.0"
  },
  "metadata": {
   "interpreter": {
    "hash": "11e3d1d60e43f3fc93edfa0d1a61ce1f97593b243c6edf8de848828f37576791"
   }
  }
 },
 "nbformat": 4,
 "nbformat_minor": 4
}