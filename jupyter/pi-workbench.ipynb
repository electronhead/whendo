{
 "metadata": {
  "language_info": {
   "codemirror_mode": {
    "name": "ipython",
    "version": 3
   },
   "file_extension": ".py",
   "mimetype": "text/x-python",
   "name": "python",
   "nbconvert_exporter": "python",
   "pygments_lexer": "ipython3",
   "version": "3.9.0-final"
  },
  "orig_nbformat": 2,
  "kernelspec": {
   "name": "python3",
   "display_name": "Python 3",
   "language": "python"
  }
 },
 "nbformat": 4,
 "nbformat_minor": 2,
 "cells": [
  {
   "source": [
    "This notebook utilizes the Workbench and ApiServer classes, which allows for convenient, notebook-based use of the api."
   ],
   "cell_type": "markdown",
   "metadata": {}
  },
  {
   "cell_type": "code",
   "execution_count": 1,
   "metadata": {},
   "outputs": [
    {
     "output_type": "stream",
     "name": "stdout",
     "text": [
      "2\n"
     ]
    }
   ],
   "source": [
    "import json\n",
    "import uvicorn\n",
    "from pydantic import BaseModel\n",
    "from sdk.workbench import Workbench\n",
    "from sdk.mothership_client import MothershipClient\n",
    "from mothership.action.actions import Action, FileHeartbeat\n",
    "from mothership.scheduler import Scheduler, TimelyScheduler, RandomlyScheduler\n",
    "from mothership.mothership import Mothership\n",
    "from mothership.util import IP, resolve_instance, PP, FilePathe\n",
    "\n",
    "workbench = Workbench()\n",
    "workbench.add_client('pi', MothershipClient(ip_addr='192.168.0.45'))\n",
    "workbench.add_client('local', MothershipClient(ip_addr=IP.local))\n",
    "print(workbench.count())\n",
    "local = workbench.get_client('local')\n",
    "pi = workbench.get_client('pi')"
   ]
  },
  {
   "cell_type": "code",
   "execution_count": null,
   "metadata": {},
   "outputs": [],
   "source": [
    "pi.set_saved_dir(FilePathe(path='/tmp/pyrambium/saved/'))"
   ]
  },
  {
   "cell_type": "code",
   "execution_count": 2,
   "metadata": {},
   "outputs": [
    {
     "output_type": "execute_result",
     "data": {
      "text/plain": [
       "Mothership(actions={'heartbeat1': FileHeartbeat(file='/tmp/pyrambium/output/heartbeat1.txt', xtra={'words': 'heartbreak hotel'}), 'heartbeat2': FileHeartbeat(file='/tmp/pyrambium/output/heartbeat2.txt', xtra={'words': 'nothing but heartaches'}), 'heartbeat3': FileHeartbeat(file='/tmp/pyrambium/output/heartbeat3.txt', xtra={'words': 'heart of glass'})}, schedulers={'randomly_soon': RandomlyScheduler(start=None, stop=None, time_unit=<TimeUnit.second: 'second'>, low=10, high=20), 'timely_day': TimelyScheduler(start=datetime.time(6, 0), stop=datetime.time(18, 0), interval=1, hour=None, minute=None, second=0), 'timely_night': TimelyScheduler(start=datetime.time(18, 0), stop=datetime.time(6, 0), interval=1, hour=None, minute=None, second=0)}, schedulers_actions={'randomly_soon': ['heartbeat3'], 'timely_day': ['heartbeat1'], 'timely_night': ['heartbeat2']}, saved_dir='/tmp/pyrambium/saved/')"
      ]
     },
     "metadata": {},
     "execution_count": 2
    }
   ],
   "source": [
    "local.load_mothership()"
   ]
  },
  {
   "cell_type": "code",
   "execution_count": null,
   "metadata": {},
   "outputs": [],
   "source": []
  }
 ]
}