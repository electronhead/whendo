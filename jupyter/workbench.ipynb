{
 "metadata": {
  "language_info": {
   "codemirror_mode": {
    "name": "ipython",
    "version": 3
   },
   "file_extension": ".py",
   "mimetype": "text/x-python",
   "name": "python",
   "nbconvert_exporter": "python",
   "pygments_lexer": "ipython3",
   "version": "3.9.0-final"
  },
  "orig_nbformat": 2,
  "kernelspec": {
   "name": "python3",
   "display_name": "Python 3",
   "language": "python"
  }
 },
 "nbformat": 4,
 "nbformat_minor": 2,
 "cells": [
  {
   "source": [
    "This notebook utilizes the Workbench and MothershipClient classes, which allows for convenient, notebook-based use of the sdk."
   ],
   "cell_type": "markdown",
   "metadata": {}
  },
  {
   "cell_type": "code",
   "execution_count": 1,
   "metadata": {},
   "outputs": [
    {
     "output_type": "stream",
     "name": "stdout",
     "text": [
      "/Users/electronhead/whendo/output/\n"
     ]
    }
   ],
   "source": [
    "from whendo.sdk.mothership_client import MothershipClient\n",
    "from whendo.sdk.workbench import Workbench\n",
    "import whendo.core.actions.file_action as file_x\n",
    "import whendo.core.actions.logic_action as logic_x\n",
    "import whendo.core.scheduler as sched_x\n",
    "from whendo.core.util import IP, PP, FilePathe, Dirs\n",
    "\n",
    "workbench = Workbench()\n",
    "workbench.add_client('pi', MothershipClient(ip_addr='192.168.0.45'))\n",
    "workbench.add_client('local', MothershipClient(ip_addr=IP.local))\n",
    "local = workbench.get_client('local')\n",
    "output_dir = Dirs.output_dir()\n",
    "print(output_dir)"
   ]
  },
  {
   "cell_type": "code",
   "execution_count": 2,
   "metadata": {},
   "outputs": [
    {
     "output_type": "execute_result",
     "data": {
      "text/plain": [
       "'mothership cleared'"
      ]
     },
     "metadata": {},
     "execution_count": 2
    }
   ],
   "source": [
    "local.clear_mothership()"
   ]
  },
  {
   "cell_type": "code",
   "execution_count": 6,
   "metadata": {},
   "outputs": [
    {
     "output_type": "stream",
     "name": "stdout",
     "text": [
      "{ 'actions': { 'heart1': { 'file': '/Users/electronhead/whendo/output/heartbeat1.txt',\n                           'xtra': None},\n               'heart2': { 'file': '/Users/electronhead/whendo/output/heartbeat2.txt',\n                           'xtra': None},\n               'heart3': { 'file': '/Users/electronhead/whendo/output/heartbeat3.txt',\n                           'xtra': None},\n               'list1': { 'action_list': [ { 'file': '/Users/electronhead/whendo/output/heartbeat1.txt',\n                                             'xtra': None},\n                                           { 'file': '/Users/electronhead/whendo/output/heartbeat2.txt',\n                                             'xtra': None}],\n                          'exception_on_no_success': False,\n                          'op_mode': <ListOpMode.ALL: 'all'>}},\n  'saved_dir': '/Users/electronhead/whendo/saved/',\n  'schedulers': { 'randomly': { 'high': 5,\n                                'low': 2,\n                                'start': None,\n                                'stop': None,\n                                'time_unit': <TimeUnit.second: 'second'>},\n                  'timely': { 'hour': None,\n                              'interval': 1,\n                              'minute': None,\n                              'second': None,\n                              'start': None,\n                              'stop': None}},\n  'schedulers_actions': {'randomly': ['heart3'], 'timely': ['list1']}}\n"
     ]
    }
   ],
   "source": [
    "local.load_mothership().pprint()"
   ]
  },
  {
   "cell_type": "code",
   "execution_count": 5,
   "metadata": {},
   "outputs": [
    {
     "output_type": "execute_result",
     "data": {
      "text/plain": [
       "'started running'"
      ]
     },
     "metadata": {},
     "execution_count": 5
    }
   ],
   "source": [
    "local.start_scheduled_jobs()"
   ]
  },
  {
   "cell_type": "code",
   "execution_count": null,
   "metadata": {},
   "outputs": [],
   "source": [
    "local.stop_scheduled_jobs()"
   ]
  },
  {
   "cell_type": "code",
   "execution_count": null,
   "metadata": {},
   "outputs": [],
   "source": [
    "local.job_count()"
   ]
  },
  {
   "cell_type": "code",
   "execution_count": 3,
   "metadata": {},
   "outputs": [
    {
     "output_type": "execute_result",
     "data": {
      "text/plain": [
       "[['action (heart1) was successfully added',\n",
       "  'action (heart2) was successfully added',\n",
       "  'action (heart3) was successfully added',\n",
       "  'action (list1) was successfully added'],\n",
       " ['scheduler (randomly) was successfully added',\n",
       "  'scheduler (timely) was successfully added']]"
      ]
     },
     "metadata": {},
     "execution_count": 3
    }
   ],
   "source": [
    "heart1 = file_x.FileHeartbeat(file=f\"{output_dir}heartbeat1.txt\")\n",
    "heart2 = file_x.FileHeartbeat(file=f\"{output_dir}heartbeat2.txt\")\n",
    "heart3 = file_x.FileHeartbeat(file=f\"{output_dir}heartbeat3.txt\")\n",
    "list1 = logic_x.ListAction(op_mode=logic_x.ListOpMode.ALL, action_list=[heart1, heart2])\n",
    "randomly = sched_x.RandomlyScheduler(low=2, high=5)\n",
    "timely = sched_x.TimelyScheduler(interval=1)\n",
    "\n",
    "[[local.add_action(*args) for args in [\n",
    "    ('heart1', heart1),\n",
    "    ('heart2', heart2),\n",
    "    ('heart3', heart3),\n",
    "    ('list1', list1)\n",
    "    ]],\n",
    "[ local.add_scheduler(*args) for args in [\n",
    "    ('randomly', randomly),\n",
    "    ('timely', timely)\n",
    "]]]"
   ]
  },
  {
   "cell_type": "code",
   "execution_count": 4,
   "metadata": {},
   "outputs": [
    {
     "output_type": "execute_result",
     "data": {
      "text/plain": [
       "['action (list1) was successfully scheduled (timely)',\n",
       " 'action (heart3) was successfully scheduled (randomly)']"
      ]
     },
     "metadata": {},
     "execution_count": 4
    }
   ],
   "source": [
    "[ local.schedule_action(*args) for args in [\n",
    "    ('timely', 'list1'),\n",
    "    ('randomly', 'heart3')\n",
    "    ]]"
   ]
  },
  {
   "cell_type": "code",
   "execution_count": 12,
   "metadata": {},
   "outputs": [
    {
     "output_type": "execute_result",
     "data": {
      "text/plain": [
       "{'outcome': 'file appended',\n",
       " 'action': {'class': 'whendo.core.actions.file_action.FileHeartbeat',\n",
       "  'instance': FileHeartbeat(file='/Users/electronhead/whendo/output/heartbeat3.txt', xtra=None)}}"
      ]
     },
     "metadata": {},
     "execution_count": 12
    }
   ],
   "source": [
    "heart3.execute()"
   ]
  },
  {
   "cell_type": "code",
   "execution_count": 16,
   "metadata": {},
   "outputs": [
    {
     "output_type": "execute_result",
     "data": {
      "text/plain": [
       "{'msg': 'action (heart3) was successfully executed',\n",
       " 'result': {'outcome': 'file appended',\n",
       "  'action': {'class': 'whendo.core.actions.file_action.FileHeartbeat',\n",
       "   'instance': {'file': '/Users/electronhead/whendo/output/heartbeat3.txt',\n",
       "    'xtra': None}}}}"
      ]
     },
     "metadata": {},
     "execution_count": 16
    }
   ],
   "source": [
    "local.execute_action('heart3')"
   ]
  },
  {
   "cell_type": "code",
   "execution_count": 17,
   "metadata": {},
   "outputs": [
    {
     "output_type": "execute_result",
     "data": {
      "text/plain": [
       "FileHeartbeat(file='/Users/electronhead/whendo/output/heartbeat3.txt', xtra=None)"
      ]
     },
     "metadata": {},
     "execution_count": 17
    }
   ],
   "source": [
    "local.get_action('heart3')"
   ]
  }
 ]
}