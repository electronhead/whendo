{
 "metadata": {
  "language_info": {
   "codemirror_mode": {
    "name": "ipython",
    "version": 3
   },
   "file_extension": ".py",
   "mimetype": "text/x-python",
   "name": "python",
   "nbconvert_exporter": "python",
   "pygments_lexer": "ipython3",
   "version": "3.9.0-final"
  },
  "orig_nbformat": 2,
  "kernelspec": {
   "name": "python3",
   "display_name": "Python 3",
   "language": "python"
  }
 },
 "nbformat": 4,
 "nbformat_minor": 2,
 "cells": [
  {
   "source": [
    "This notebook utilizes the Workbench and MothershipClient classes, which allows for convenient, notebook-based use of the sdk."
   ],
   "cell_type": "markdown",
   "metadata": {}
  },
  {
   "cell_type": "code",
   "execution_count": null,
   "metadata": {},
   "outputs": [],
   "source": [
    "from sdk.mothership_client import MothershipClient\n",
    "from sdk.workbench import Workbench\n",
    "import mothership.actions.file_action as file_x\n",
    "import mothership.actions.gpio_action as gpio_x\n",
    "from mothership.scheduler import TimelyScheduler, RandomlyScheduler\n",
    "from mothership.util import IP, PP, FilePathe\n",
    "\n",
    "workbench = Workbench()\n",
    "workbench.add_client('pi', MothershipClient(ip_addr='192.168.0.45'))\n",
    "workbench.add_client('local', MothershipClient(ip_addr=IP.local))\n",
    "print(workbench.count())\n",
    "local = workbench.get_client('local')\n",
    "pi = workbench.get_client('pi')"
   ]
  },
  {
   "cell_type": "code",
   "execution_count": null,
   "metadata": {},
   "outputs": [],
   "source": [
    "local.load_mothership().pprint()"
   ]
  },
  {
   "cell_type": "code",
   "execution_count": null,
   "metadata": {},
   "outputs": [],
   "source": [
    "pi.start_scheduled_jobs()"
   ]
  },
  {
   "cell_type": "code",
   "execution_count": null,
   "metadata": {},
   "outputs": [],
   "source": [
    "pi.stop_scheduled_jobs()"
   ]
  },
  {
   "cell_type": "code",
   "execution_count": null,
   "metadata": {},
   "outputs": [],
   "source": [
    "pi.execute_action('red_toggle')"
   ]
  },
  {
   "cell_type": "code",
   "execution_count": null,
   "metadata": {},
   "outputs": [],
   "source": [
    "pi.execute_action('green_toggle')"
   ]
  },
  {
   "cell_type": "code",
   "execution_count": null,
   "metadata": {},
   "outputs": [],
   "source": [
    "list(s for s in pi.load_mothership().get_actions())"
   ]
  },
  {
   "cell_type": "code",
   "execution_count": null,
   "metadata": {},
   "outputs": [],
   "source": [
    "[s for s in pi.load_mothership().get_schedulers()]"
   ]
  },
  {
   "cell_type": "code",
   "execution_count": null,
   "metadata": {},
   "outputs": [],
   "source": [
    "local.get_action('heartbeat1')"
   ]
  },
  {
   "cell_type": "code",
   "execution_count": null,
   "metadata": {},
   "outputs": [],
   "source": [
    "import mothership.action\n",
    "import mothership.scheduler\n",
    "import mothership.actions.file_action\n",
    "import mothership.actions.gpio_action\n",
    "import mothership.actions.http_action\n"
   ]
  },
  {
   "cell_type": "code",
   "execution_count": null,
   "metadata": {},
   "outputs": [],
   "source": [
    "import mothership.action\n",
    "[s for s in mothership.action.Action.__subclasses__()]"
   ]
  },
  {
   "cell_type": "code",
   "execution_count": null,
   "metadata": {},
   "outputs": [],
   "source": [
    "import schedule as sched\n",
    "import mothership.continuous as cont\n",
    "[s for s in sched.Scheduler.__subclasses__()]\n"
   ]
  },
  {
   "cell_type": "code",
   "execution_count": null,
   "metadata": {},
   "outputs": [],
   "source": []
  }
 ]
}