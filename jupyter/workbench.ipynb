{
 "metadata": {
  "language_info": {
   "codemirror_mode": {
    "name": "ipython",
    "version": 3
   },
   "file_extension": ".py",
   "mimetype": "text/x-python",
   "name": "python",
   "nbconvert_exporter": "python",
   "pygments_lexer": "ipython3",
   "version": "3.9.0-final"
  },
  "orig_nbformat": 2,
  "kernelspec": {
   "name": "python3",
   "display_name": "Python 3",
   "language": "python"
  }
 },
 "nbformat": 4,
 "nbformat_minor": 2,
 "cells": [
  {
   "source": [
    "This notebook utilizes the Workbench and Client classes, which allows for convenient, notebook-based use of the sdk."
   ],
   "cell_type": "markdown",
   "metadata": {}
  },
  {
   "cell_type": "code",
   "execution_count": null,
   "metadata": {},
   "outputs": [],
   "source": [
    "from whendo.sdk.client import Client\n",
    "from whendo.sdk.workbench import Workbench\n",
    "import whendo.core.actions.file_action as file_x\n",
    "import whendo.core.actions.logic_action as logic_x\n",
    "import whendo.core.scheduler as sched_x\n",
    "from whendo.core.util import IP, PP, FilePathe, Dirs\n",
    "\n",
    "workbench = Workbench()\n",
    "workbench.add_client('pi', Client(host='192.168.0.45'))\n",
    "workbench.add_client('local', Client(host=IP.local))\n",
    "local = workbench.get_client('local')\n",
    "output_dir = Dirs.output_dir()\n",
    "print(output_dir)"
   ]
  },
  {
   "cell_type": "code",
   "execution_count": null,
   "metadata": {},
   "outputs": [],
   "source": [
    "client = local"
   ]
  },
  {
   "cell_type": "code",
   "execution_count": null,
   "metadata": {},
   "outputs": [],
   "source": [
    "client.clear_dispatcher()"
   ]
  },
  {
   "cell_type": "code",
   "execution_count": null,
   "metadata": {},
   "outputs": [],
   "source": [
    "client.load_dispatcher().pprint()"
   ]
  },
  {
   "cell_type": "code",
   "execution_count": null,
   "metadata": {},
   "outputs": [],
   "source": [
    "client.run_jobs()"
   ]
  },
  {
   "cell_type": "code",
   "execution_count": null,
   "metadata": {},
   "outputs": [],
   "source": [
    "client.stop_jobs()"
   ]
  },
  {
   "cell_type": "code",
   "execution_count": null,
   "metadata": {},
   "outputs": [],
   "source": [
    "client.job_count()"
   ]
  },
  {
   "cell_type": "code",
   "execution_count": null,
   "metadata": {},
   "outputs": [],
   "source": [
    "heart1 = file_x.FileHeartbeat(file=f\"{output_dir}heartbeat1.txt\")\n",
    "heart2 = file_x.FileHeartbeat(file=f\"{output_dir}heartbeat2.txt\")\n",
    "heart3 = file_x.FileHeartbeat(file=f\"{output_dir}heartbeat3.txt\")\n",
    "list1 = logic_x.ListAction(op_mode=logic_x.ListOpMode.ALL, action_list=[heart1, heart2])\n",
    "randomly = sched_x.RandomlyScheduler(low=2, high=5)\n",
    "timely = sched_x.TimelyScheduler(interval=1)\n",
    "\n",
    "[[client.add_action(*args) for args in [\n",
    "    ('heart1', heart1),\n",
    "    ('heart2', heart2),\n",
    "    ('heart3', heart3),\n",
    "    ('list1', list1)\n",
    "    ]],\n",
    "[ client.add_scheduler(*args) for args in [\n",
    "    ('randomly', randomly),\n",
    "    ('timely', timely)\n",
    "]]]"
   ]
  },
  {
   "cell_type": "code",
   "execution_count": null,
   "metadata": {},
   "outputs": [],
   "source": [
    "[ client.schedule_action(*args) for args in [\n",
    "    ('timely', 'list1'),\n",
    "    ('randomly', 'heart3')\n",
    "    ]]"
   ]
  },
  {
   "cell_type": "code",
   "execution_count": null,
   "metadata": {},
   "outputs": [],
   "source": []
  }
 ]
}