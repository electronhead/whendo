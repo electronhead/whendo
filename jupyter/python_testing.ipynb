{
 "metadata": {
  "language_info": {
   "codemirror_mode": {
    "name": "ipython",
    "version": 3
   },
   "file_extension": ".py",
   "mimetype": "text/x-python",
   "name": "python",
   "nbconvert_exporter": "python",
   "pygments_lexer": "ipython3",
   "version": "3.9.0-final"
  },
  "orig_nbformat": 2,
  "kernelspec": {
   "name": "python3",
   "display_name": "Python 3",
   "language": "python"
  }
 },
 "nbformat": 4,
 "nbformat_minor": 2,
 "cells": [
  {
   "cell_type": "code",
   "execution_count": null,
   "metadata": {},
   "outputs": [],
   "source": [
    "\n",
    "# to test whether object identity is preserved during pickling...\n",
    "\n",
    "import pickle\n",
    "import json\n",
    "class A:\n",
    "    def __init__(self, x):\n",
    "        self.x = x\n",
    "class B:\n",
    "    def __init__(self, y, a:A):\n",
    "        self.y = y\n",
    "        self.a = a\n",
    "a1 = A(1)\n",
    "a2 = A(2)\n",
    "b1 = B(100, a1)\n",
    "b2 = B(200, a1)\n",
    "b3 = B(300, a2)\n",
    "b4 = B(400, a2)\n",
    "c1 = [a1, a2, b1, b2, b3, b4]\n",
    "foo = lambda x, i: [x[i]==a for a in [x[0], x[1], x[2].a, x[3].a, x[4].a, x[5].a]]\n",
    "d1 = foo(c1, 0)\n",
    "d2 = foo(c1, 1)\n",
    "data = pickle.dumps(c1)\n",
    "c2 = pickle.loads(data)\n",
    "e1 = foo(c2, 0)\n",
    "e2 = foo(c2, 1)\n",
    "for x in [d1, e1, d2, e2]: print(x)\n",
    "print(d1 == e1 and d2 == e2)\n"
   ]
  },
  {
   "cell_type": "code",
   "execution_count": null,
   "metadata": {},
   "outputs": [],
   "source": [
    "from netifaces import interfaces, ifaddresses, AF_INET\n",
    "for ifaceName in interfaces():\n",
    "    addresses = [i['addr'] for i in ifaddresses(ifaceName).setdefault(AF_INET, [{'addr':'No IP addr'}] )]\n",
    "    print ('%s: %s' % (ifaceName, ', '.join(addresses)))"
   ]
  },
  {
   "cell_type": "code",
   "execution_count": null,
   "metadata": {},
   "outputs": [],
   "source": [
    "from netifaces import interfaces, ifaddresses, AF_INET\n",
    "print(interfaces())\n",
    "print(ifaddresses('en0').setdefault(AF_INET))\n",
    "print(ifaddresses('en0').setdefault(AF_INET)[0]['addr'])"
   ]
  },
  {
   "cell_type": "code",
   "execution_count": null,
   "metadata": {},
   "outputs": [],
   "source": [
    "class A:\n",
    "    def __init__(self):\n",
    "        pass\n",
    "class B:\n",
    "    def __init__(self):\n",
    "        pass\n",
    "class C:\n",
    "    def __init__(self):\n",
    "        pass\n",
    "\n",
    "def u(a,b=None):\n",
    "    return Union[a,b] if b else a\n",
    "\n",
    "def s_u(lis):\n",
    "    r = Union[lis[0], lis[1]]\n",
    "    r = Union[r,lis[2]]\n",
    "    return r\n",
    "print('s_u', s_u([A,B,C]))\n",
    "\n",
    "def s_u_2(lis):\n",
    "    r = None\n",
    "    if len(lis) >=1:\n",
    "        for c in lis:\n",
    "            r = Union[r,c]\n",
    "    return r\n",
    "print('s_u_2', s_u_2([]))\n",
    "print('s_u_2', s_u_2([A]))\n",
    "print('s_u_2', s_u_2([A,B]))\n",
    "print('s_u_2', s_u_2([A,B,C]))\n",
    "\n",
    "un = lambda a, b=None: Union[a,b] if b else a\n",
    "\n",
    "print((lambda a, b: a + b)(1,2))\n",
    "print(Union[A,B])\n",
    "print(Union[A,Union[B]])\n",
    "\n",
    "print(list(u(x for x in base.Action.__subclasses__())))\n",
    "print(list((lambda a, b=None: Union[a,b] if b else a)(x for x in base.Action.__subclasses__())))\n",
    "\n",
    "def subclass_union(Class):\n",
    "    subclasses = Class.__subclasses__()\n",
    "    binary_union = lambda a, b=None: Union[a,b] if b else a\n",
    "    return binary_union(x for x in subclasses)\n",
    "print(subclass_union(base.Action))\n"
   ]
  },
  {
   "cell_type": "code",
   "execution_count": null,
   "metadata": {},
   "outputs": [],
   "source": [
    "from tempfile import NamedTemporaryFile, TemporaryDirectory\n",
    "t = NamedTemporaryFile()\n",
    "try:\n",
    "    print(t.name)\n",
    "except:\n",
    "    print('invalid file method name')\n",
    "t.close()\n",
    "d = TemporaryDirectory()\n",
    "try:\n",
    "    print(d.name)\n",
    "except:\n",
    "    print('invalid directory method name')\n",
    "d.cleanup()"
   ]
  },
  {
   "cell_type": "code",
   "execution_count": null,
   "metadata": {},
   "outputs": [],
   "source": [
    "from tempfile import gettempdir\n",
    "gettempdir()"
   ]
  },
  {
   "cell_type": "code",
   "execution_count": null,
   "metadata": {},
   "outputs": [],
   "source": [
    "from whendo.core.action import Action\n",
    "list(s for s in Action.__subclasses__())"
   ]
  },
  {
   "cell_type": "code",
   "execution_count": null,
   "metadata": {},
   "outputs": [],
   "source": [
    "import pathlib\n",
    "str(pathlib.Path().home())"
   ]
  },
  {
   "cell_type": "code",
   "execution_count": null,
   "metadata": {},
   "outputs": [],
   "source": [
    "import os\n",
    "[\n",
    "        dirpath\n",
    "        for dirpath, dirnames, filenames in os.walk('whendo')\n",
    "        if os.path.exists(os.path.join(dirpath, \"__init__.py\"))\n",
    "    ]"
   ]
  }
 ]
}