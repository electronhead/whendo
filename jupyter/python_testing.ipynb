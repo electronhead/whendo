{
 "metadata": {
  "language_info": {
   "codemirror_mode": {
    "name": "ipython",
    "version": 3
   },
   "file_extension": ".py",
   "mimetype": "text/x-python",
   "name": "python",
   "nbconvert_exporter": "python",
   "pygments_lexer": "ipython3",
   "version": "3.9.0-final"
  },
  "orig_nbformat": 2,
  "kernelspec": {
   "name": "python3",
   "display_name": "Python 3",
   "language": "python"
  }
 },
 "nbformat": 4,
 "nbformat_minor": 2,
 "cells": [
  {
   "cell_type": "code",
   "execution_count": null,
   "metadata": {},
   "outputs": [],
   "source": [
    "\n",
    "# to test whether object identity is preserved during pickling...\n",
    "\n",
    "import pickle\n",
    "import json\n",
    "class A:\n",
    "    def __init__(self, x):\n",
    "        self.x = x\n",
    "class B:\n",
    "    def __init__(self, y, a:A):\n",
    "        self.y = y\n",
    "        self.a = a\n",
    "a1 = A(1)\n",
    "a2 = A(2)\n",
    "b1 = B(100, a1)\n",
    "b2 = B(200, a1)\n",
    "b3 = B(300, a2)\n",
    "b4 = B(400, a2)\n",
    "c1 = [a1, a2, b1, b2, b3, b4]\n",
    "foo = lambda x, i: [x[i]==a for a in [x[0], x[1], x[2].a, x[3].a, x[4].a, x[5].a]]\n",
    "d1 = foo(c1, 0)\n",
    "d2 = foo(c1, 1)\n",
    "data = pickle.dumps(c1)\n",
    "c2 = pickle.loads(data)\n",
    "e1 = foo(c2, 0)\n",
    "e2 = foo(c2, 1)\n",
    "for x in [d1, e1, d2, e2]: print(x)\n",
    "print(d1 == e1 and d2 == e2)\n"
   ]
  },
  {
   "cell_type": "code",
   "execution_count": null,
   "metadata": {},
   "outputs": [],
   "source": [
    "from netifaces import interfaces, ifaddresses, AF_INET\n",
    "for ifaceName in interfaces():\n",
    "    addresses = [i['addr'] for i in ifaddresses(ifaceName).setdefault(AF_INET, [{'addr':'No IP addr'}] )]\n",
    "    print ('%s: %s' % (ifaceName, ', '.join(addresses)))"
   ]
  },
  {
   "cell_type": "code",
   "execution_count": null,
   "metadata": {},
   "outputs": [],
   "source": [
    "from netifaces import interfaces, ifaddresses, AF_INET\n",
    "print(interfaces())\n",
    "print(ifaddresses('en0').setdefault(AF_INET))\n",
    "print(ifaddresses('en0').setdefault(AF_INET)[0]['addr'])"
   ]
  },
  {
   "cell_type": "code",
   "execution_count": null,
   "metadata": {},
   "outputs": [],
   "source": [
    "class A:\n",
    "    def __init__(self):\n",
    "        pass\n",
    "class B:\n",
    "    def __init__(self):\n",
    "        pass\n",
    "class C:\n",
    "    def __init__(self):\n",
    "        pass\n",
    "\n",
    "def u(a,b=None):\n",
    "    return Union[a,b] if b else a\n",
    "\n",
    "def s_u(lis):\n",
    "    r = Union[lis[0], lis[1]]\n",
    "    r = Union[r,lis[2]]\n",
    "    return r\n",
    "print('s_u', s_u([A,B,C]))\n",
    "\n",
    "def s_u_2(lis):\n",
    "    r = None\n",
    "    if len(lis) >=1:\n",
    "        for c in lis:\n",
    "            r = Union[r,c]\n",
    "    return r\n",
    "print('s_u_2', s_u_2([]))\n",
    "print('s_u_2', s_u_2([A]))\n",
    "print('s_u_2', s_u_2([A,B]))\n",
    "print('s_u_2', s_u_2([A,B,C]))\n",
    "\n",
    "un = lambda a, b=None: Union[a,b] if b else a\n",
    "\n",
    "print((lambda a, b: a + b)(1,2))\n",
    "print(Union[A,B])\n",
    "print(Union[A,Union[B]])\n",
    "\n",
    "print(list(u(x for x in base.Action.__subclasses__())))\n",
    "print(list((lambda a, b=None: Union[a,b] if b else a)(x for x in base.Action.__subclasses__())))\n",
    "\n",
    "def subclass_union(Class):\n",
    "    subclasses = Class.__subclasses__()\n",
    "    binary_union = lambda a, b=None: Union[a,b] if b else a\n",
    "    return binary_union(x for x in subclasses)\n",
    "print(subclass_union(base.Action))\n"
   ]
  },
  {
   "cell_type": "code",
   "execution_count": null,
   "metadata": {},
   "outputs": [],
   "source": [
    "def schedule_timely_callable(self, tag:str, callable:Callable, interval:int=1, hour:int=None, minute:int=None, second:int=None):\n",
    "    time_unit, clock_time = self.convert_args(self.hour, self.minute, self.second)\n",
    "    if time_unit == TimeUnit.day:\n",
    "        self.every(interval).day.at(clock_time).do(callable).tag(tag)\n",
    "    elif time_unit == TimeUnit.hour:\n",
    "        self.every(interval).hour.at(clock_time).do(callable).tag(tag)\n",
    "    elif time_unit == TimeUnit.minute:\n",
    "        self.every(interval).minute.at(clock_time).do(callable).tag(tag)\n",
    "    elif time_unit == TimeUnit.second:\n",
    "        self.every(interval).second.do(callable).tag(tag)\n",
    "\n",
    "def convert_args(self, hour:int, minute:int, second:int):\n",
    "    \"\"\"\n",
    "    This method converts (hour, minute, second) to a time unit.\n",
    "    \"\"\"\n",
    "    if hour:\n",
    "        if not minute:\n",
    "            minute = 0\n",
    "        if not second:\n",
    "            second = 0\n",
    "        return TimeUnit.day, f\"{hour:02}:{minute:02}:{second:02}\" # 16:15:05 on a day boundary\n",
    "    elif minute:\n",
    "        if not second:\n",
    "            second = 0\n",
    "        return TimeUnit.hour, f\":{minute:02}:{second:02}\" # :15:05 on an hour boundary\n",
    "    elif second:\n",
    "        return TimeUnit.minute, f\":{second:02}\" # :05 on a minute boundary\n",
    "    else:\n",
    "        return TimeUnit.second, None # on a second boundary\n",
    "\n",
    "def schedule_random_action(self, tag:str, callable:Callable, time_unit:TimeUnit=TimeUnit.second, low:int, high:int):\n",
    "    if time_unit == TimeUnit.second:\n",
    "        self.every(low).to(self.high).seconds.do(callable).tag(tag)\n",
    "    elif self.time_unit == TimeUnit.minute:\n",
    "        continuous.every(self.low).to(self.high).minutes.do(callable).tag(tag)\n",
    "    elif self.time_unit == TimeUnit.hour:\n",
    "        continuous.every(self.low).to(self.high).hours.do(callable).tag(tag)\n",
    "    elif self.time_unit == TimeUnit.day:\n",
    "        continuous.every(self.low).to(self.high).days.do(callable).tag(tag)"
   ]
  },
  {
   "cell_type": "code",
   "execution_count": null,
   "metadata": {},
   "outputs": [],
   "source": [
    "from collections.abc import Callable\n",
    "def foo(bar:Callable[...,...]):\n",
    "    return bar()\n",
    "\n",
    "def bar():\n",
    "    return 'baz'\n",
    "\n",
    "foo(bar)"
   ]
  },
  {
   "cell_type": "code",
   "execution_count": null,
   "metadata": {},
   "outputs": [],
   "source": [
    "from os import environ, getenv\n",
    "class Dirs:\n",
    "    output_label = 'MOTHERSHIP_OUTPUT_DIR'\n",
    "    saved_label = 'MOTHERSHIP_OUTPUT_DIR'\n",
    "    output_default_dir='/tmp/mothership/output/'\n",
    "    saved_default_dir='/tmp/mothership/saved/'\n",
    "    @classmethod\n",
    "    def compute_dir(cls, label, default_dir):\n",
    "        dir = getenv(label)\n",
    "        if not dir:\n",
    "            dir = default_dir\n",
    "            environ[label] = dir\n",
    "        return dir\n",
    "    @classmethod\n",
    "    def output_dir(cls):\n",
    "        return cls.compute_dir(cls.output_label, cls.output_default_dir)\n",
    "    @classmethod\n",
    "    def saved_dir(cls):\n",
    "        return cls.compute_dir(cls.saved_label, cls.saved_default_dir)"
   ]
  },
  {
   "cell_type": "code",
   "execution_count": null,
   "metadata": {},
   "outputs": [],
   "source": [
    "getenv('sdf') is None"
   ]
  },
  {
   "cell_type": "code",
   "execution_count": null,
   "metadata": {},
   "outputs": [],
   "source": [
    "from pyrambium.base.service.util import Dirs"
   ]
  },
  {
   "cell_type": "code",
   "execution_count": null,
   "metadata": {},
   "outputs": [],
   "source": [
    "from os import environ, getenv\n",
    "getenv('MOTHERSHIP_OUTPUT_DIR')"
   ]
  },
  {
   "cell_type": "code",
   "execution_count": null,
   "metadata": {},
   "outputs": [],
   "source": [
    "environ['MOTHERSHIP_OUTPUT_DIR']='/tmp/mothership/output/'"
   ]
  },
  {
   "cell_type": "code",
   "execution_count": null,
   "metadata": {},
   "outputs": [],
   "source": [
    "'abc'  / 'sdf'"
   ]
  },
  {
   "cell_type": "code",
   "execution_count": null,
   "metadata": {},
   "outputs": [],
   "source": [
    "import pathlib\n",
    "path = pathlib.Path.cwd()"
   ]
  },
  {
   "cell_type": "code",
   "execution_count": null,
   "metadata": {},
   "outputs": [],
   "source": [
    "print(path)"
   ]
  },
  {
   "cell_type": "code",
   "execution_count": null,
   "metadata": {},
   "outputs": [],
   "source": [
    "path = pathlib.Path('/tmp/mothership/output/heartbeat1.txt')"
   ]
  },
  {
   "cell_type": "code",
   "execution_count": null,
   "metadata": {},
   "outputs": [],
   "source": [
    "path = pathlib.Path('/tmp/mothership/output/poo.txt')\n",
    "with path.open(mode='a') as poo:\n",
    "    for x in ['a', 'b', 'c']:\n",
    "        poo.write(x)\n",
    "        poo.write('\\n')\n",
    "    "
   ]
  },
  {
   "cell_type": "code",
   "execution_count": null,
   "metadata": {},
   "outputs": [],
   "source": [
    "def test_file_action(tmp_path):\n",
    "    \"\"\"\n",
    "    This test exercises the schedule_timely_callable method.\n",
    "    \"\"\"\n",
    "    from pydantic import BaseModel\n",
    "    from pyrambium.base.service.action import Action, ActionPayload\n",
    "    from pyrambium.base.service.continuous import Continuous\n",
    "    from pyrambium.base.service.util import PP\n",
    "    import time\n",
    "\n",
    "    path = tmp_path / 'text.txt'\n",
    "\n",
    "    class FileAction(Action):\n",
    "        def execute(self, tag=None, scheduler_info:dict=None):\n",
    "            payload = ActionPayload.build(action_info=self.info(), scheduler_info=scheduler_info)\n",
    "            with path.open(mode='a') as fid:\n",
    "                PP.pprint(payload, stream=fid)\n",
    "                fid.write('\\n')\n",
    "            return {'outcome':'file appended', 'action':self.info()}\n",
    "\n",
    "    class Suite():\n",
    "        def __init__(self, action):\n",
    "            self.action = action)\n",
    "        def callable(self):\n",
    "            return self.action.execute\n",
    "        def gather(self):\n",
    "            result = []\n",
    "            with path.open(mode='r') as fid:\n",
    "                result.append(fid.readlines())\n",
    "            return result\n",
    "        def run(self):\n",
    "            continuous = Continuous()\n",
    "            continuous.schedule_timely_callable('tag', self.callable)\n",
    "            continuous.run_continuously()\n",
    "            time.sleep(4)\n",
    "            continuous.stop_running_continuously()\n",
    "            continuous.clear()\n",
    "    suite = Suite(FileAction())\n",
    "    suite.run()\n",
    "    accumulated_content = suite.gather()\n",
    "    assert accumulated_content and len(accumulated_content) > 0"
   ]
  },
  {
   "cell_type": "code",
   "execution_count": null,
   "metadata": {},
   "outputs": [],
   "source": [
    "from pyrambium.base.service.mothership import Mothership\n",
    "from pyrambium.base.service.action import FileHeartbeat\n",
    "from pyrambium.base.service.scheduler import TimelyScheduler\n",
    "from pyrambium.base.service.continuous import Continuous\n",
    "import time\n",
    "from tempfile import TemporaryDirectory, NamedTemporaryFile\n",
    "\n",
    "t_file = NamedTemporaryFile()\n",
    "output_file = t_file.name\n",
    "t_dir = TemporaryDirectory()\n",
    "saved_dir = t_dir.name\n",
    "\n",
    "continuous = Continuous()\n",
    "mothership = Mothership(saved_dir=saved_dir)\n",
    "mothership.set_continuous(continuous)\n",
    "action = FileHeartbeat(file=output_file)\n",
    "scheduler = TimelyScheduler(interval=1)\n",
    "\n",
    "mothership.add_action('foo', action)\n",
    "mothership.add_scheduler('bar', scheduler)\n",
    "mothership.schedule_action('bar', 'foo', continuous)\n",
    "mothership.unschedule_action('foo', continuous)\n",
    "\n",
    "t_file.close()\n",
    "t_dir.cleanup()\n",
    "\n",
    "print(continuous.job_count())\n",
    "print(mothership.get_scheduled_action_count())\n"
   ]
  },
  {
   "cell_type": "code",
   "execution_count": null,
   "metadata": {},
   "outputs": [],
   "source": [
    "from pathlib import Path\n",
    "import pytest\n",
    "def foo(tmp_path):\n",
    "    print(tmp_path)\n",
    "foo()"
   ]
  },
  {
   "cell_type": "code",
   "execution_count": null,
   "metadata": {},
   "outputs": [],
   "source": [
    "dir(pathlib)"
   ]
  },
  {
   "cell_type": "code",
   "execution_count": null,
   "metadata": {},
   "outputs": [],
   "source": [
    "from tempfile import NamedTemporaryFile, TemporaryDirectory\n",
    "t = NamedTemporaryFile()\n",
    "try:\n",
    "    print(t.name)\n",
    "except:\n",
    "    print('invalid file method name')\n",
    "t.close()\n",
    "d = TemporaryDirectory()\n",
    "try:\n",
    "    print(d.name)\n",
    "except:\n",
    "    print('invalid directory method name')\n",
    "d.cleanup()"
   ]
  },
  {
   "cell_type": "code",
   "execution_count": null,
   "metadata": {},
   "outputs": [],
   "source": [
    "from tempfile import gettempdir\n",
    "gettempdir()"
   ]
  },
  {
   "cell_type": "code",
   "execution_count": null,
   "metadata": {},
   "outputs": [],
   "source": [
    "from tempfile import gettempdir\n",
    "gettempdir()"
   ]
  },
  {
   "cell_type": "code",
   "execution_count": null,
   "metadata": {},
   "outputs": [],
   "source": [
    "from pathlib import Path\n",
    "path = Path('foo/bar')\n",
    "print(str(path.resolve()), '--', str(path), '--', type(path.resolve()))"
   ]
  },
  {
   "cell_type": "code",
   "execution_count": null,
   "metadata": {},
   "outputs": [],
   "source": [
    "path.resolve()"
   ]
  },
  {
   "cell_type": "code",
   "execution_count": null,
   "metadata": {},
   "outputs": [],
   "source": [
    "from mothership.action import Action\n",
    "list(s for s in Action.__subclasses__())"
   ]
  },
  {
   "cell_type": "code",
   "execution_count": null,
   "metadata": {},
   "outputs": [],
   "source": []
  }
 ]
}