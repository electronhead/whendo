{
 "metadata": {
  "language_info": {
   "codemirror_mode": {
    "name": "ipython",
    "version": 3
   },
   "file_extension": ".py",
   "mimetype": "text/x-python",
   "name": "python",
   "nbconvert_exporter": "python",
   "pygments_lexer": "ipython3",
   "version": "3.9.0-final"
  },
  "orig_nbformat": 2,
  "kernelspec": {
   "name": "python3",
   "display_name": "Python 3",
   "language": "python"
  }
 },
 "nbformat": 4,
 "nbformat_minor": 2,
 "cells": [
  {
   "cell_type": "code",
   "execution_count": null,
   "metadata": {},
   "outputs": [],
   "source": [
    "\n",
    "# to test whether object identity is preserved during pickling...\n",
    "\n",
    "import pickle\n",
    "import json\n",
    "class A:\n",
    "    def __init__(self, x):\n",
    "        self.x = x\n",
    "class B:\n",
    "    def __init__(self, y, a:A):\n",
    "        self.y = y\n",
    "        self.a = a\n",
    "a1 = A(1)\n",
    "a2 = A(2)\n",
    "b1 = B(100, a1)\n",
    "b2 = B(200, a1)\n",
    "b3 = B(300, a2)\n",
    "b4 = B(400, a2)\n",
    "c1 = [a1, a2, b1, b2, b3, b4]\n",
    "foo = lambda x, i: [x[i]==a for a in [x[0], x[1], x[2].a, x[3].a, x[4].a, x[5].a]]\n",
    "d1 = foo(c1, 0)\n",
    "d2 = foo(c1, 1)\n",
    "data = pickle.dumps(c1)\n",
    "c2 = pickle.loads(data)\n",
    "e1 = foo(c2, 0)\n",
    "e2 = foo(c2, 1)\n",
    "for x in [d1, e1, d2, e2]: print(x)\n",
    "print(d1 == e1 and d2 == e2)\n"
   ]
  },
  {
   "cell_type": "code",
   "execution_count": null,
   "metadata": {},
   "outputs": [],
   "source": [
    "from netifaces import interfaces, ifaddresses, AF_INET\n",
    "for ifaceName in interfaces():\n",
    "    addresses = [i['addr'] for i in ifaddresses(ifaceName).setdefault(AF_INET, [{'addr':'No IP addr'}] )]\n",
    "    print ('%s: %s' % (ifaceName, ', '.join(addresses)))"
   ]
  },
  {
   "cell_type": "code",
   "execution_count": null,
   "metadata": {},
   "outputs": [],
   "source": [
    "from netifaces import interfaces, ifaddresses, AF_INET\n",
    "print(interfaces())\n",
    "print(ifaddresses('en0').setdefault(AF_INET))\n",
    "print(ifaddresses('en0').setdefault(AF_INET)[0]['addr'])"
   ]
  },
  {
   "cell_type": "code",
   "execution_count": null,
   "metadata": {},
   "outputs": [],
   "source": [
    "class A:\n",
    "    def __init__(self):\n",
    "        pass\n",
    "class B:\n",
    "    def __init__(self):\n",
    "        pass\n",
    "class C:\n",
    "    def __init__(self):\n",
    "        pass\n",
    "\n",
    "def u(a,b=None):\n",
    "    return Union[a,b] if b else a\n",
    "\n",
    "def s_u(lis):\n",
    "    r = Union[lis[0], lis[1]]\n",
    "    r = Union[r,lis[2]]\n",
    "    return r\n",
    "print('s_u', s_u([A,B,C]))\n",
    "\n",
    "def s_u_2(lis):\n",
    "    r = None\n",
    "    if len(lis) >=1:\n",
    "        for c in lis:\n",
    "            r = Union[r,c]\n",
    "    return r\n",
    "print('s_u_2', s_u_2([]))\n",
    "print('s_u_2', s_u_2([A]))\n",
    "print('s_u_2', s_u_2([A,B]))\n",
    "print('s_u_2', s_u_2([A,B,C]))\n",
    "\n",
    "un = lambda a, b=None: Union[a,b] if b else a\n",
    "\n",
    "print((lambda a, b: a + b)(1,2))\n",
    "print(Union[A,B])\n",
    "print(Union[A,Union[B]])\n",
    "\n",
    "print(list(u(x for x in base.Action.__subclasses__())))\n",
    "print(list((lambda a, b=None: Union[a,b] if b else a)(x for x in base.Action.__subclasses__())))\n",
    "\n",
    "def subclass_union(Class):\n",
    "    subclasses = Class.__subclasses__()\n",
    "    binary_union = lambda a, b=None: Union[a,b] if b else a\n",
    "    return binary_union(x for x in subclasses)\n",
    "print(subclass_union(base.Action))\n"
   ]
  },
  {
   "cell_type": "code",
   "execution_count": null,
   "metadata": {},
   "outputs": [],
   "source": [
    "from tempfile import NamedTemporaryFile, TemporaryDirectory\n",
    "t = NamedTemporaryFile()\n",
    "try:\n",
    "    print(t.name)\n",
    "except:\n",
    "    print('invalid file method name')\n",
    "t.close()\n",
    "d = TemporaryDirectory()\n",
    "try:\n",
    "    print(d.name)\n",
    "except:\n",
    "    print('invalid directory method name')\n",
    "d.cleanup()"
   ]
  },
  {
   "cell_type": "code",
   "execution_count": null,
   "metadata": {},
   "outputs": [],
   "source": [
    "from tempfile import gettempdir\n",
    "gettempdir()"
   ]
  },
  {
   "cell_type": "code",
   "execution_count": null,
   "metadata": {},
   "outputs": [],
   "source": [
    "from whendo.core.action import Action\n",
    "list(s for s in Action.__subclasses__())"
   ]
  },
  {
   "cell_type": "code",
   "execution_count": null,
   "metadata": {},
   "outputs": [],
   "source": [
    "import pathlib\n",
    "str(pathlib.Path().home())"
   ]
  },
  {
   "cell_type": "code",
   "execution_count": null,
   "metadata": {},
   "outputs": [],
   "source": [
    "import os\n",
    "[\n",
    "        dirpath\n",
    "        for dirpath, dirnames, filenames in os.walk('whendo')\n",
    "        if os.path.exists(os.path.join(dirpath, \"__init__.py\"))\n",
    "    ]"
   ]
  },
  {
   "cell_type": "code",
   "execution_count": null,
   "metadata": {},
   "outputs": [],
   "source": [
    "# thoughts about wrapping error handling around action.execu\n",
    "def during_period(self, action_execute:Callable[...,...], tag:str):\n",
    "    if (self.start is not None) and (self.stop is not None):\n",
    "        \"\"\"\n",
    "        is_in_period_wrapper below takes (start) and (stop) and returns a 1-arg function that compares (start)\n",
    "        and (stop) with a supplied time (now).\n",
    "\n",
    "        if start<stop, then the active period is defined by\n",
    "            start<now AND now<stop\n",
    "            e.g. - 6:00 => 18:00\n",
    "        if start>stop, then the period period is defined by\n",
    "            start<now OR now<stop\n",
    "            e.g. - 18:00 => 6:00\n",
    "        \n",
    "        This is done so that is_in_period is freshly evaluated at the times when the schedule library runs the job\n",
    "        (that is meant to invoke the Callable).\n",
    "        \"\"\"\n",
    "        is_in_period_wrapper = lambda start, stop: (lambda now: start < now and now < stop if (start < stop) else start < now or now < stop)\n",
    "        is_in_period = is_in_period_wrapper(self.start, self.stop)\n",
    "        do_nothing = lambda tag, scheduler_info: None\n",
    "        return self.wrap(lambda: action_execute if is_in_period(Now.t()) else do_nothing)(tag=tag, scheduler_info=self.info()))\n",
    "    else:\n",
    "        return self.wrap(lambda: action_execute(tag=tag, scheduler_info=self.info()))\n",
    "\n",
    "def wrap(self, thunk:Callable[...,...]):\n",
    "    result = None\n",
    "    def execute(cls):\n",
    "        try:\n",
    "            result = thunk()\n",
    "        except Exception as exception:\n",
    "            result = exception\n",
    "        return result\n",
    "    return execute"
   ]
  },
  {
   "cell_type": "code",
   "execution_count": null,
   "metadata": {},
   "outputs": [],
   "source": [
    "from whendo.core.action import Action\n",
    "from pydantic import BaseModel\n",
    "class X(BaseModel):\n",
    "    x:str\n",
    "    def y(self):\n",
    "        self.x = 'z'\n",
    "\n",
    "x = X(x='x')\n",
    "y = x.y\n",
    "y()\n",
    "y.__self__.__class__"
   ]
  },
  {
   "cell_type": "code",
   "execution_count": null,
   "metadata": {},
   "outputs": [],
   "source": [
    "dir(y)"
   ]
  },
  {
   "cell_type": "code",
   "execution_count": null,
   "metadata": {},
   "outputs": [],
   "source": [
    "y.__self__.fields"
   ]
  },
  {
   "cell_type": "code",
   "execution_count": null,
   "metadata": {},
   "outputs": [],
   "source": [
    "class Count:\n",
    "    \"\"\"\n",
    "    This counter is useful for distiguishing between different sets of log entries as well as viewing a count for each tag.\n",
    "    \"\"\"\n",
    "    good_count = {}\n",
    "    bad_count = {}\n",
    "    @classmethod\n",
    "    def good_up(cls, tag):\n",
    "        if tag not in cls.good_count:\n",
    "            cls.good_count[tag] = 0\n",
    "        cls.good_count[tag] = 1 + cls.good_count[tag]\n",
    "    @classmethod\n",
    "    def bad_up(cls, tag):\n",
    "        if tag not in cls.bad_count:\n",
    "            cls.bad_count[tag] = 0\n",
    "        cls.bad_count[tag] = 1 + cls.bad_count[tag]\n",
    "    @classmethod\n",
    "    def good(cls, tag):\n",
    "        return cls.good_count.get(tag, 0)\n",
    "    @classmethod\n",
    "    def bad(cls, tag):\n",
    "        return cls.bad_count.get(tag, 0)\n",
    "for i in range(0,1000000):\n",
    "    Count.good_up('abc:def')\n",
    "print(Count.good('abc:def'))"
   ]
  },
  {
   "cell_type": "code",
   "execution_count": null,
   "metadata": {},
   "outputs": [],
   "source": [
    "from datetime import time\n",
    "from whendo.sdk.client import Client\n",
    "from whendo.core.scheduler import TimelyScheduler, RandomlyScheduler\n",
    "from whendo.core.actions.gpio_action import TogglePin\n",
    "from whendo.core.util import TimeUnit\n",
    "\n",
    "# create action that toggles pin 25 (connected to red LED)\n",
    "red_action = TogglePin(pin=25)\n",
    "# create action that toggles pin 27 (connected to green LED)\n",
    "green_action = TogglePin(pin=27)\n",
    "\n",
    "# see how they toggle\n",
    "# [ (lambda y: (red_action.execute(), green_action.execute(), time.sleep(y)))(x) for x in [1,2,3,4,3,2,1,2,3,4,3,2,1]]\n",
    "\n",
    "# create a scheduler that executes an action every second\n",
    "# second after the top of the minute, from 6:00 to 23:00.\n",
    "# The start and stop times operate on a 24 hour clock.\n",
    "timely_secondly = TimelyScheduler(interval=1)\n",
    "randomly_secondly = RandomlyScheduler(interval=1, low=2, high=5, time_unit=TimeUnit.second)\n",
    "\n",
    "# scheduled run...\n",
    "client = Client()\n",
    "\n",
    "client.add_action('green_action', green_action)\n",
    "client.add_action('red_action', red_action)\n",
    "\n",
    "client.add_scheduler('timely_secondly', timely_secondly)\n",
    "client.add_scheduler('randomly_secondly', randomly_secondly)\n",
    "\n",
    "client.schedule_action('timely_secondly', 'green_action')\n",
    "client.schedule_action('randomly_secondly', 'red_action')\n",
    "client.run_jobs()\n",
    "\n",
    "# # change to pin 27\n",
    "# red_toggle.pin = 27\n",
    "\n",
    "# # since red_toggle is already scheduled, the system automatically\n",
    "# #reschedules the action after setting to the new value.\n",
    "# client.set_action('red_toggle', red_toggle)\n",
    "\n",
    "# # run individually through the client\n",
    "# client.execute_action('red_toggle')\n",
    "\n",
    "# client.stop_jobs()"
   ]
  },
  {
   "cell_type": "code",
   "execution_count": null,
   "metadata": {},
   "outputs": [],
   "source": [
    "client.stop_jobs()"
   ]
  },
  {
   "cell_type": "code",
   "execution_count": null,
   "metadata": {},
   "outputs": [],
   "source": [
    "client.clear_dispatcher()"
   ]
  },
  {
   "cell_type": "code",
   "execution_count": null,
   "metadata": {},
   "outputs": [],
   "source": [
    "import time\n",
    "from whendo.sdk.client import Client\n",
    "from whendo.core.scheduler import TimelyScheduler, RandomlyScheduler\n",
    "from whendo.core.actions.gpio_action import TogglePin\n",
    "\n",
    "# create action that toggles pin 25 (connected to red LED)\n",
    "red_action = TogglePin(pin=25)\n",
    "# create action that toggles pin 27 (connected to green LED)\n",
    "green_action = TogglePin(pin=27)"
   ]
  },
  {
   "cell_type": "code",
   "execution_count": null,
   "metadata": {},
   "outputs": [],
   "source": [
    "green_action.execute()"
   ]
  },
  {
   "cell_type": "code",
   "execution_count": null,
   "metadata": {},
   "outputs": [],
   "source": [
    "red_action.execute()"
   ]
  },
  {
   "cell_type": "code",
   "execution_count": null,
   "metadata": {},
   "outputs": [],
   "source": [
    "len([ (lambda y: (red_action.execute(), green_action.execute(), time.sleep(y)))(x) for x in [1,2,3,4,3,2,1,2,3,4,3,2,1] ])"
   ]
  },
  {
   "cell_type": "code",
   "execution_count": null,
   "metadata": {},
   "outputs": [],
   "source": [
    "from datetime import time\n",
    "import time as thyme\n",
    "from whendo.sdk.client import Client\n",
    "from whendo.core.scheduler import TimelyScheduler, RandomlyScheduler\n",
    "from whendo.core.actions.gpio_action import TogglePin, SetPin, Cleanup\n",
    "from whendo.core.util import TimeUnit\n",
    "\n",
    "# create action that toggles pin 25 (connected to red LED)\n",
    "red_toggle = TogglePin(pin=25)\n",
    "red_off = SetPin(pin=red_toggle.pin, on=False)\n",
    "# create action that toggles pin 27 (connected to green LED)\n",
    "green_toggle = TogglePin(pin=27)\n",
    "green_off = SetPin(pin=green_toggle.pin, on=False)\n",
    "\n",
    "gpio_cleanup = Cleanup()\n",
    "\n",
    "# create schedulers that executes an action every second from 18:00 to 8:00.\n",
    "# Start/stop specify intervals 24 hours or less. The random one executes\n",
    "# randomly from a period 2 to 5 seconds from the previous execution.\n",
    "timely_secondly = TimelyScheduler(interval=1, start=time(18,0,0), stop=time(8,0,0))\n",
    "randomly_secondly = RandomlyScheduler(interval=1, start=time(18,0,0), stop=time(6,0,0), low=2, high=5, time_unit=TimeUnit.second)\n",
    "\n",
    "# SDK\n",
    "# A client could be any reachable pi with whendo running on it\n",
    "# with the same action libraries. Use a Jupyter notebook\n",
    "# to interact with a fleet of pi's.\n",
    "client = Client(host='127.0.0.1', port=8000)\n",
    "client.clear_dispatcher() # deletes all actions and schedulers\n",
    "\n",
    "client.add_action('red_toggle', red_toggle)\n",
    "client.add_action('green_toggle', green_toggle)\n",
    "\n",
    "client.add_scheduler('timely_secondly', timely_secondly)\n",
    "client.add_scheduler('randomly_secondly', randomly_secondly)\n",
    "\n",
    "client.schedule_action('timely_secondly', 'green_toggle')\n",
    "client.schedule_action('randomly_secondly', 'red_toggle')\n",
    "\n",
    "client.add_action('red_off', red_off)\n",
    "client.add_action('green_off', green_off)\n",
    "client.add_action('gpio_cleanup', gpio_cleanup)\n",
    "\n",
    "client.run_jobs()\n",
    "thyme.sleep(20)\n",
    "client.stop_jobs()\n",
    "\n",
    "# make sure the pins are turned off and GPIO cleaned up\n",
    "client.execute_action('green_off')\n",
    "client.execute_action('red_off')\n",
    "client.execute_action('gpio_cleanup')\n"
   ]
  },
  {
   "cell_type": "code",
   "execution_count": null,
   "metadata": {},
   "outputs": [],
   "source": []
  },
  {
   "cell_type": "code",
   "execution_count": null,
   "metadata": {},
   "outputs": [],
   "source": []
  }
 ]
}