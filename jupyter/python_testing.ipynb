{
 "cells": [
  {
   "cell_type": "code",
   "execution_count": null,
   "metadata": {},
   "outputs": [],
   "source": [
    "# to test whether object identity is preserved during pickling...\n",
    "\n",
    "import pickle\n",
    "import json\n",
    "\n",
    "\n",
    "class A:\n",
    "    def __init__(self, x):\n",
    "        self.x = x\n",
    "\n",
    "\n",
    "class B:\n",
    "    def __init__(self, y, a: A):\n",
    "        self.y = y\n",
    "        self.a = a\n",
    "\n",
    "\n",
    "a1 = A(1)\n",
    "a2 = A(2)\n",
    "b1 = B(100, a1)\n",
    "b2 = B(200, a1)\n",
    "b3 = B(300, a2)\n",
    "b4 = B(400, a2)\n",
    "c1 = [a1, a2, b1, b2, b3, b4]\n",
    "foo = lambda x, i: [x[i] == a for a in [x[0], x[1], x[2].a, x[3].a, x[4].a, x[5].a]]\n",
    "d1 = foo(c1, 0)\n",
    "d2 = foo(c1, 1)\n",
    "data = pickle.dumps(c1)\n",
    "c2 = pickle.loads(data)\n",
    "e1 = foo(c2, 0)\n",
    "e2 = foo(c2, 1)\n",
    "for x in [d1, e1, d2, e2]:\n",
    "    print(x)\n",
    "print(d1 == e1 and d2 == e2)"
   ]
  },
  {
   "cell_type": "code",
   "execution_count": null,
   "metadata": {},
   "outputs": [],
   "source": [
    "from netifaces import interfaces, ifaddresses, AF_INET\n",
    "\n",
    "for ifaceName in interfaces():\n",
    "    addresses = [\n",
    "        i[\"addr\"]\n",
    "        for i in ifaddresses(ifaceName).setdefault(AF_INET, [{\"addr\": \"No IP addr\"}])\n",
    "    ]\n",
    "    print(\"%s: %s\" % (ifaceName, \", \".join(addresses)))"
   ]
  },
  {
   "cell_type": "code",
   "execution_count": null,
   "metadata": {},
   "outputs": [],
   "source": [
    "from netifaces import interfaces, ifaddresses, AF_INET\n",
    "\n",
    "print(interfaces())\n",
    "print(ifaddresses(\"en0\").setdefault(AF_INET))\n",
    "print(ifaddresses(\"en0\").setdefault(AF_INET)[0][\"addr\"])"
   ]
  },
  {
   "cell_type": "code",
   "execution_count": null,
   "metadata": {},
   "outputs": [],
   "source": [
    "class A:\n",
    "    def __init__(self):\n",
    "        pass\n",
    "\n",
    "\n",
    "class B:\n",
    "    def __init__(self):\n",
    "        pass\n",
    "\n",
    "\n",
    "class C:\n",
    "    def __init__(self):\n",
    "        pass\n",
    "\n",
    "\n",
    "def u(a, b=None):\n",
    "    return Union[a, b] if b else a\n",
    "\n",
    "\n",
    "def s_u(lis):\n",
    "    r = Union[lis[0], lis[1]]\n",
    "    r = Union[r, lis[2]]\n",
    "    return r\n",
    "\n",
    "\n",
    "print(\"s_u\", s_u([A, B, C]))\n",
    "\n",
    "\n",
    "def s_u_2(lis):\n",
    "    r = None\n",
    "    if len(lis) >= 1:\n",
    "        for c in lis:\n",
    "            r = Union[r, c]\n",
    "    return r\n",
    "\n",
    "\n",
    "print(\"s_u_2\", s_u_2([]))\n",
    "print(\"s_u_2\", s_u_2([A]))\n",
    "print(\"s_u_2\", s_u_2([A, B]))\n",
    "print(\"s_u_2\", s_u_2([A, B, C]))\n",
    "\n",
    "un = lambda a, b=None: Union[a, b] if b else a\n",
    "\n",
    "print((lambda a, b: a + b)(1, 2))\n",
    "print(Union[A, B])\n",
    "print(Union[A, Union[B]])\n",
    "\n",
    "print(list(u(x for x in base.Action.__subclasses__())))\n",
    "print(\n",
    "    list(\n",
    "        (lambda a, b=None: Union[a, b] if b else a)(\n",
    "            x for x in base.Action.__subclasses__()\n",
    "        )\n",
    "    )\n",
    ")\n",
    "\n",
    "\n",
    "def subclass_union(Class):\n",
    "    subclasses = Class.__subclasses__()\n",
    "    binary_union = lambda a, b=None: Union[a, b] if b else a\n",
    "    return binary_union(x for x in subclasses)\n",
    "\n",
    "\n",
    "print(subclass_union(base.Action))"
   ]
  },
  {
   "cell_type": "code",
   "execution_count": null,
   "metadata": {},
   "outputs": [],
   "source": [
    "from tempfile import NamedTemporaryFile, TemporaryDirectory\n",
    "\n",
    "t = NamedTemporaryFile()\n",
    "try:\n",
    "    print(t.name)\n",
    "except:\n",
    "    print(\"invalid file method name\")\n",
    "t.close()\n",
    "d = TemporaryDirectory()\n",
    "try:\n",
    "    print(d.name)\n",
    "except:\n",
    "    print(\"invalid directory method name\")\n",
    "d.cleanup()"
   ]
  },
  {
   "cell_type": "code",
   "execution_count": null,
   "metadata": {},
   "outputs": [],
   "source": [
    "from tempfile import gettempdir\n",
    "\n",
    "gettempdir()"
   ]
  },
  {
   "cell_type": "code",
   "execution_count": null,
   "metadata": {},
   "outputs": [],
   "source": [
    "from whendo.core.action import Action\n",
    "\n",
    "list(s for s in Action.__subclasses__())"
   ]
  },
  {
   "cell_type": "code",
   "execution_count": null,
   "metadata": {},
   "outputs": [],
   "source": [
    "import pathlib\n",
    "\n",
    "str(pathlib.Path().home())"
   ]
  },
  {
   "cell_type": "code",
   "execution_count": null,
   "metadata": {},
   "outputs": [],
   "source": [
    "import os\n",
    "\n",
    "[\n",
    "    dirpath\n",
    "    for dirpath, dirnames, filenames in os.walk(\"whendo\")\n",
    "    if os.path.exists(os.path.join(dirpath, \"__init__.py\"))\n",
    "]"
   ]
  },
  {
   "cell_type": "code",
   "execution_count": null,
   "metadata": {},
   "outputs": [],
   "source": [
    "import psutil"
   ]
  },
  {
   "cell_type": "code",
   "execution_count": null,
   "metadata": {},
   "outputs": [],
   "source": [
    "psutil.virtual_memory()._asdict()"
   ]
  },
  {
   "cell_type": "code",
   "execution_count": null,
   "metadata": {},
   "outputs": [],
   "source": [
    "psutil.net_if_addrs()[\"en0\"][0].address"
   ]
  },
  {
   "cell_type": "code",
   "execution_count": null,
   "metadata": {},
   "outputs": [],
   "source": [
    "psutil.cpu_percent()"
   ]
  },
  {
   "cell_type": "code",
   "execution_count": null,
   "metadata": {},
   "outputs": [],
   "source": [
    "dict(zip([\"1min\", \"5min\", \"15min\"], psutil.getloadavg()))"
   ]
  },
  {
   "cell_type": "code",
   "execution_count": null,
   "metadata": {},
   "outputs": [],
   "source": [
    "psutil.virtual_memory()._fields"
   ]
  },
  {
   "cell_type": "code",
   "execution_count": null,
   "metadata": {},
   "outputs": [],
   "source": [
    "dict(\n",
    "    zip(\n",
    "        psutil.virtual_memory()._fields,\n",
    "        [\"{:,}\".format(n) for n in psutil.virtual_memory()],\n",
    "    )\n",
    ")"
   ]
  },
  {
   "cell_type": "code",
   "execution_count": null,
   "metadata": {},
   "outputs": [],
   "source": [
    "import whendo.core.actions.http_action as http_x\n",
    "import whendo.core.schedulers.timed_scheduler as sched_x\n",
    "import whendo.core.actions.file_action as file_x\n",
    "import whendo.core.actions.logic_action as logic_x\n",
    "import whendo.core.actions.sys_action as sys_x\n",
    "from whendo.sdk.client import Client\n",
    "\n",
    "client = Client(host=\"192.168.0.26\")\n",
    "client.clear_dispatcher()"
   ]
  },
  {
   "cell_type": "code",
   "execution_count": null,
   "metadata": {},
   "outputs": [],
   "source": [
    "file_append = file_x.FileAppend(file=\"executeaction.txt\", payload={\"a\": \"b\"})\n",
    "execute_action = http_x.ExecuteAction(\n",
    "    host=\"192.168.0.26\", port=8000, action_name=\"file_append\"\n",
    ")\n",
    "client.add_action(\"file_append\", file_append)\n",
    "client.add_action(\"execute_action\", execute_action)"
   ]
  },
  {
   "cell_type": "code",
   "execution_count": null,
   "metadata": {},
   "outputs": [],
   "source": [
    "execute_action.execute()"
   ]
  },
  {
   "cell_type": "code",
   "execution_count": null,
   "metadata": {},
   "outputs": [],
   "source": [
    "client.execute_action(\"execute_action\")"
   ]
  },
  {
   "cell_type": "code",
   "execution_count": null,
   "metadata": {},
   "outputs": [],
   "source": [
    "class Compose:\n",
    "    def __init__(self, actions):\n",
    "        self.actions = actions\n",
    "\n",
    "    def execute(self, tag: str = None, data: dict = None):\n",
    "        for action in self.actions:\n",
    "            data = action.execute(tag=tag, data=data)\n",
    "        return data"
   ]
  },
  {
   "cell_type": "code",
   "execution_count": null,
   "metadata": {},
   "outputs": [],
   "source": [
    "import whendo.core.actions.logic_action as logic_x\n",
    "from whendo.core.action import Action\n",
    "\n",
    "\n",
    "class FleaCount(Action):\n",
    "    flea_count: int = 0\n",
    "\n",
    "    def execute(self, tag: str = None, data: dict = None):\n",
    "        self.flea_count += 1\n",
    "\n",
    "\n",
    "fc = FleaCount()\n",
    "c = logic_x.All(actions=[fc, fc])\n",
    "c.execute()"
   ]
  },
  {
   "cell_type": "code",
   "execution_count": null,
   "metadata": {},
   "outputs": [],
   "source": [
    "class C:\n",
    "    def __init__(self, c: int):\n",
    "        self.c = c\n",
    "\n",
    "    def foo(self):\n",
    "        self.c += 1\n",
    "\n",
    "\n",
    "x = C(c=1)\n",
    "\n",
    "\n",
    "def bar(y):\n",
    "    y.foo()\n",
    "\n",
    "\n",
    "bar(x)\n",
    "x.__dict__"
   ]
  },
  {
   "cell_type": "code",
   "execution_count": null,
   "metadata": {},
   "outputs": [],
   "source": [
    "import whendo.core.actions.logic_action as logic_x\n",
    "c = logic_x.compose(actions[])"
   ]
  },
  {
   "cell_type": "code",
   "execution_count": null,
   "metadata": {},
   "outputs": [],
   "source": [
    "from collections import namedtuple\n",
    "\n",
    "action_result = namedtuple(\n",
    "    \"action_result\", [\"result\", \"data\", \"extra\"], defaults=(None,) * 3\n",
    ")\n",
    "\n",
    "action_result(1, 2, None)"
   ]
  },
  {
   "cell_type": "code",
   "execution_count": null,
   "metadata": {},
   "outputs": [],
   "source": [
    "(None,) * 2"
   ]
  },
  {
   "cell_type": "code",
   "execution_count": null,
   "metadata": {},
   "outputs": [],
   "source": [
    "from dataclasses import dataclass"
   ]
  }
 ],
 "metadata": {
  "kernelspec": {
   "display_name": "Python 3.9.0 64-bit ('venv': venv)",
   "language": "python",
   "name": "python390jvsc74a57bd0aa3783768bbf457551166556478d165b40f649f963a90a85a898980ed78d9d41"
  },
  "language_info": {
   "codemirror_mode": {
    "name": "ipython",
    "version": 3
   },
   "file_extension": ".py",
   "mimetype": "text/x-python",
   "name": "python",
   "nbconvert_exporter": "python",
   "pygments_lexer": "ipython3",
   "version": "3.9.0-final"
  }
 },
 "nbformat": 4,
 "nbformat_minor": 2
}