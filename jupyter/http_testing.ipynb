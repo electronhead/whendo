{
 "cells": [
  {
   "cell_type": "markdown",
   "metadata": {},
   "source": [
    "When you run a notebook cell that imports from the whendo packages, you need to set the NOTEBOOK FILE ROOT to \\$\\{workspaceFolder\\} so  that imports from top-level packages work. For example, with the property's default value of \\$\\{fileDirName\\}, the imports from dispatcher.etc... will fail since the notebook location is one directory down from top-level.\n",
    "\n",
    "\n",
    "\n"
   ]
  },
  {
   "cell_type": "code",
   "execution_count": null,
   "metadata": {},
   "outputs": [],
   "source": [
    "from datetime import time\n",
    "from pydantic import BaseModel\n",
    "import requests\n",
    "import json\n",
    "from whendo.core.action import Action\n",
    "from whendo.core.dispatcher import Dispatcher\n",
    "from whendo.core.scheduler import TimelyScheduler, RandomlyScheduler\n",
    "import whendo.core.actions.file_action as file_x\n",
    "import whendo.core.actions.logic_action as logic_x\n",
    "import whendo.core.actions.sys_action as sys_x\n",
    "from whendo.core.util import PP, TimeUnit, Dirs, all_visible_subclasses, resolve_instance, find_class, Output\n",
    "from whendo.core.resolver import resolve_action\n",
    "\n",
    "prefix = \"http://127.0.0.1:8000\"\n",
    "prefix = \"http://192.168.0.45:8000\"\n",
    "def get(path:str):\n",
    "    cmd = f\"{prefix}{path}\"\n",
    "    response = requests.get(cmd)\n",
    "    return response.json()\n",
    "def put(path:str, data:BaseModel):\n",
    "    cmd = f\"{prefix}{path}\"\n",
    "    response = requests.put(cmd, data.json())\n",
    "    PP.pprint(response.json())\n",
    "def post(path:str, data:BaseModel):\n",
    "    cmd = f\"{prefix}{path}\"\n",
    "    response = requests.post(cmd, data.json())\n",
    "    PP.pprint(response.json())\n",
    "def delete(path:str):\n",
    "    cmd = f\"{prefix}{path}\"\n",
    "    response = requests.delete(cmd)\n",
    "    return response.json()"
   ]
  },
  {
   "cell_type": "code",
   "execution_count": null,
   "metadata": {},
   "outputs": [],
   "source": [
    "get('/dispatcher/clear')"
   ]
  },
  {
   "cell_type": "code",
   "execution_count": null,
   "metadata": {},
   "outputs": [],
   "source": [
    "get('/dispatcher/load')"
   ]
  },
  {
   "cell_type": "code",
   "execution_count": null,
   "metadata": {},
   "outputs": [],
   "source": [
    "get('/dispatcher/clear')\n",
    "\n",
    "heart_1 = file_x.FileHeartbeat(file=\"heartbeat1.txt\", xtra={'words':'heartbreak hotel'})\n",
    "post('/actions/heartbeat1', heart_1)\n",
    "heart_2 = file_x.FileHeartbeat(file=\"heartbeat2.txt\", xtra={'words':'nothing but heartaches'})\n",
    "post('/actions/heartbeat2', heart_2)\n",
    "heart_3 = file_x.FileHeartbeat(file=\"heartbeat3.txt\", xtra={'words':'heart of glass'})\n",
    "post('/actions/heartbeat3', heart_3)\n",
    "# heart_4 = file_x.FileHeartbeat(file=f\"/goo/goo/gah/gah/heartbeat4.txt\", xtra={'words':'heart of steel'})\n",
    "# put('/actions/heartbeat4', heart_4)\n",
    "sys_info = sys_x.SystemInfoAction()\n",
    "post('/actions/sys_info', sys_info)\n",
    "\n",
    "scheduler = RandomlyScheduler(time_unit=TimeUnit.second, low=5, high=10)\n",
    "post('/schedulers/randomly_soon', scheduler)\n",
    "morning, evening = time(6,0,0), time(18,0,0)\n",
    "scheduler = TimelyScheduler(interval=1, start=morning, stop=evening)\n",
    "post('/schedulers/timely_day', scheduler)\n",
    "scheduler = TimelyScheduler(interval=1, start=evening, stop=morning)\n",
    "post('/schedulers/timely_night', scheduler)\n",
    "\n",
    "logic_1 = logic_x.ListAction(op_mode=logic_x.ListOpMode.ALL, action_list=[heart_1, heart_2])\n",
    "post('/actions/logic1', logic_1)\n",
    "get('/schedulers/timely_day/actions/logic1')\n",
    "get('/schedulers/timely_night/actions/logic1')\n",
    "\n",
    "# get('/schedulers/timely_day/actions/heartbeat1')\n",
    "# get('/schedulers/timely_night/actions/heartbeat2')\n",
    "# get('/schedulers/randomly_soon/actions/heartbeat3')"
   ]
  },
  {
   "cell_type": "code",
   "execution_count": null,
   "metadata": {},
   "outputs": [],
   "source": [
    "post('/actions/sys_info', sys_info)"
   ]
  },
  {
   "cell_type": "code",
   "execution_count": null,
   "metadata": {},
   "outputs": [],
   "source": [
    "get('/jobs/run')"
   ]
  },
  {
   "cell_type": "code",
   "execution_count": null,
   "metadata": {},
   "outputs": [],
   "source": [
    "get('/jobs/stop')"
   ]
  },
  {
   "cell_type": "code",
   "execution_count": null,
   "metadata": {},
   "outputs": [],
   "source": [
    "get('/jobs/count')"
   ]
  },
  {
   "cell_type": "code",
   "execution_count": null,
   "metadata": {},
   "outputs": [],
   "source": [
    "get('/actions/sys_info/execute')"
   ]
  },
  {
   "source": [
    "{'lo': [snicaddr(family=<AddressFamily.AF_INET: 2>, address='127.0.0.1', netmask='255.0.0.0', broadcast=None, ptp=None), snicaddr(family=<AddressFamily.AF_INET6: 10>, address='::1', netmask='ffff:ffff:ffff:ffff:ffff:ffff:ffff:ffff', broadcast=None, ptp=None), snicaddr(family=<AddressFamily.AF_PACKET: 17>, address='00:00:00:00:00:00', netmask=None, broadcast=None, ptp=None)],\n",
    "\n",
    "'wlan0': [snicaddr(family=<AddressFamily.AF_INET: 2>, address='192.168.0.45', netmask='255.255.255.0', broadcast='192.168.0.255', ptp=None), snicaddr(family=<AddressFamily.AF_INET6: 10>, address='fe80::122d:b996:ce11:b983%wlan0', netmask='ffff:ffff:ffff:ffff::', broadcast=None, ptp=None), snicaddr(family=<AddressFamily.AF_PACKET: 17>, address='dc:a6:32:d5:ac:2e', netmask=None, broadcast='ff:ff:ff:ff:ff:ff', ptp=None)],\n",
    "\n",
    "'docker0': [snicaddr(family=<AddressFamily.AF_INET: 2>, address='172.17.0.1', netmask='255.255.0.0', broadcast='172.17.255.255', ptp=None), snicaddr(family=<AddressFamily.AF_PACKET: 17>, address='02:42:0f:ea:53:90', netmask=None, broadcast='ff:ff:ff:ff:ff:ff', ptp=None)], \n",
    "\n",
    "'eth0': [snicaddr(family=<AddressFamily.AF_PACKET: 17>, address='dc:a6:32:d5:ac:2d', netmask=None, broadcast='ff:ff:ff:ff:ff:ff', ptp=None)]}\n"
   ],
   "cell_type": "markdown",
   "metadata": {}
  },
  {
   "source": [
    "{'lo0': [snicaddr(family=<AddressFamily.AF_INET: 2>, address='127.0.0.1', netmask='255.0.0.0', broadcast=None, ptp=None),\n",
    "  snicaddr(family=<AddressFamily.AF_INET6: 30>, address='::1', netmask='ffff:ffff:ffff:ffff:ffff:ffff:ffff:ffff', broadcast=None, ptp=None),\n",
    "  snicaddr(family=<AddressFamily.AF_INET6: 30>, address='fe80::1%lo0', netmask='ffff:ffff:ffff:ffff::', broadcast=None, ptp=None)],\n",
    "  \n",
    " 'en0': [snicaddr(family=<AddressFamily.AF_INET: 2>, address='192.168.0.26', netmask='255.255.255.0', broadcast='192.168.0.255', ptp=None),\n",
    "  snicaddr(family=<AddressFamily.AF_LINK: 18>, address='88:e9:fe:86:b0:10', netmask=None, broadcast=None, ptp=None),\n",
    "  snicaddr(family=<AddressFamily.AF_INET6: 30>, address='fe80::1816:859c:4592:343e%en0', netmask='ffff:ffff:ffff:ffff::', broadcast=None, ptp=None)],\n",
    "\n",
    " 'en5': [snicaddr(family=<AddressFamily.AF_INET: 2>, address='169.254.231.149', netmask='255.255.0.0', broadcast='169.254.255.255', ptp=None),\n",
    "  snicaddr(family=<AddressFamily.AF_LINK: 18>, address='86:ab:1a:3f:09:a5', netmask=None, broadcast=None, ptp=None),\n",
    "  snicaddr(family=<AddressFamily.AF_INET6: 30>, address='fe80::1895:2925:abc5:b656%en5', netmask='ffff:ffff:ffff:ffff::', broadcast=None, ptp=None)],\n",
    "\n",
    " 'en8': [snicaddr(family=<AddressFamily.AF_LINK: 18>, address='ac:de:48:00:11:22', netmask=None, broadcast=None, ptp=None),\n",
    "  snicaddr(family=<AddressFamily.AF_INET6: 30>, address='fe80::aede:48ff:fe00:1122%en8', netmask='ffff:ffff:ffff:ffff::', broadcast=None, ptp=None)],\n",
    "\n",
    " 'ap1': [snicaddr(family=<AddressFamily.AF_LINK: 18>, address='aa:e9:fe:86:b0:10', netmask=None, broadcast=None, ptp=None)],\n",
    "\n",
    " 'awdl0': [snicaddr(family=<AddressFamily.AF_LINK: 18>, address='2a:f9:27:d2:87:6c', netmask=None, broadcast=None, ptp=None),\n",
    "  snicaddr(family=<AddressFamily.AF_INET6: 30>, address='fe80::28f9:27ff:fed2:876c%awdl0', netmask='ffff:ffff:ffff:ffff::', broadcast=None, ptp=None)],\n",
    "\n",
    " 'llw0': [snicaddr(family=<AddressFamily.AF_LINK: 18>, address='2a:f9:27:d2:87:6c', netmask=None, broadcast=None, ptp=None),\n",
    "  snicaddr(family=<AddressFamily.AF_INET6: 30>, address='fe80::28f9:27ff:fed2:876c%llw0', netmask='ffff:ffff:ffff:ffff::', broadcast=None, ptp=None)],\n",
    "\n",
    " 'en3': [snicaddr(family=<AddressFamily.AF_LINK: 18>, address='82:fa:78:e6:3c:05', netmask=None, broadcast=None, ptp=None)],\n",
    "\n",
    " 'en4': [snicaddr(family=<AddressFamily.AF_LINK: 18>, address='82:fa:78:e6:3c:04', netmask=None, broadcast=None, ptp=None)],\n",
    "\n",
    " 'en1': [snicaddr(family=<AddressFamily.AF_LINK: 18>, address='82:fa:78:e6:3c:01', netmask=None, broadcast=None, ptp=None)],\n",
    "\n",
    " 'en2': [snicaddr(family=<AddressFamily.AF_LINK: 18>, address='82:fa:78:e6:3c:00', netmask=None, broadcast=None, ptp=None)],\n",
    "\n",
    " 'bridge0': [snicaddr(family=<AddressFamily.AF_LINK: 18>, address='82:fa:78:e6:3c:01', netmask=None, broadcast=None, ptp=None)],\n",
    "\n",
    " 'utun0': [snicaddr(family=<AddressFamily.AF_INET6: 30>, address='fe80::c77e:75e1:2fd3:cf54%utun0', netmask='ffff:ffff:ffff:ffff::', broadcast=None, ptp=None)],\n",
    "\n",
    " 'utun1': [snicaddr(family=<AddressFamily.AF_INET6: 30>, address='fe80::b661:42a7:804b:4e81%utun1', netmask='ffff:ffff:ffff:ffff::', broadcast=None, ptp=None)]}"
   ],
   "cell_type": "markdown",
   "metadata": {}
  },
  {
   "cell_type": "code",
   "execution_count": null,
   "metadata": {},
   "outputs": [],
   "source": [
    "import psutil"
   ]
  },
  {
   "cell_type": "code",
   "execution_count": null,
   "metadata": {},
   "outputs": [],
   "source": [
    "nia = psutil.net_if_addrs()"
   ]
  },
  {
   "cell_type": "code",
   "execution_count": null,
   "metadata": {},
   "outputs": [],
   "source": [
    "nia"
   ]
  },
  {
   "cell_type": "code",
   "execution_count": null,
   "metadata": {},
   "outputs": [],
   "source": [
    "dir(nia['lo0'][0].family)"
   ]
  },
  {
   "cell_type": "code",
   "execution_count": null,
   "metadata": {},
   "outputs": [],
   "source": [
    "import socket\n",
    "dir(socket)\n",
    "getattr(socket,'AF_INET')"
   ]
  },
  {
   "cell_type": "code",
   "execution_count": null,
   "metadata": {},
   "outputs": [],
   "source": [
    "[k for k in nia if nia[k][0].family == socket.AF_INET]"
   ]
  },
  {
   "cell_type": "code",
   "execution_count": null,
   "metadata": {},
   "outputs": [],
   "source": [
    "dict((k,nia[k][0].address) for k in nia if nia[k][0].family == socket.AF_INET)"
   ]
  },
  {
   "cell_type": "code",
   "execution_count": null,
   "metadata": {},
   "outputs": [],
   "source": []
  }
 ],
 "metadata": {
  "kernelspec": {
   "display_name": "Python 3",
   "language": "python",
   "name": "python3"
  },
  "language_info": {
   "codemirror_mode": {
    "name": "ipython",
    "version": 3
   },
   "file_extension": ".py",
   "mimetype": "text/x-python",
   "name": "python",
   "nbconvert_exporter": "python",
   "pygments_lexer": "ipython3",
   "version": "3.9.0-final"
  }
 },
 "nbformat": 4,
 "nbformat_minor": 4
}