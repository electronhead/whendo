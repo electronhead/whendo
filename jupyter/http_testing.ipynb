{
 "cells": [
  {
   "cell_type": "markdown",
   "metadata": {},
   "source": [
    "When you run a notebook cell that imports from the whendo packages, you need to set the NOTEBOOK FILE ROOT to \\$\\{workspaceFolder\\} so  that imports from top-level packages work. For example, with the property's default value of \\$\\{fileDirName\\}, the imports from dispatcher.etc... will fail since the notebook location is one directory down from top-level.\n",
    "\n",
    "\n",
    "\n"
   ]
  },
  {
   "cell_type": "code",
   "execution_count": 1,
   "metadata": {},
   "outputs": [],
   "source": [
    "from datetime import time, datetime, timedelta\n",
    "from pydantic import BaseModel\n",
    "import requests\n",
    "import json\n",
    "from whendo.core.action import Action\n",
    "from whendo.core.server import Server\n",
    "from whendo.core.dispatcher import Dispatcher\n",
    "from whendo.core.scheduler import Immediately\n",
    "import whendo.core.schedulers.timed_scheduler as sched_x\n",
    "import whendo.core.actions.file_action as file_x\n",
    "import whendo.core.actions.list_action as list_x\n",
    "import whendo.core.actions.sys_action as sys_x\n",
    "import whendo.core.actions.dispatch_action as disp_x\n",
    "from whendo.core.programs.simple_program import PBEProgram\n",
    "from whendo.core.util import PP, TimeUnit, Dirs, DateTime, Now, DateTime2\n",
    "from whendo.core.resolver import resolve_action, resolve_server\n",
    "\n",
    "prefix = \"http://192.168.0.45:8000\"\n",
    "prefix = \"http://192.168.0.26:8000\"\n",
    "prefix = \"http://192.168.0.26:8000\"\n",
    "prefix = \"http://127.0.0.1:8000\"\n",
    "def get(path:str):\n",
    "    cmd = f\"{prefix}{path}\"\n",
    "    response = requests.get(cmd)\n",
    "    return response.json()\n",
    "def put(path:str, data:BaseModel):\n",
    "    cmd = f\"{prefix}{path}\"\n",
    "    response = requests.put(cmd, data.json())\n",
    "    PP.pprint(response.json())\n",
    "def post(path:str, data:BaseModel):\n",
    "    cmd = f\"{prefix}{path}\"\n",
    "    response = requests.post(cmd, data.json())\n",
    "    PP.pprint(response.json())\n",
    "def post_dict(path:str, data:dict):\n",
    "    cmd = f\"{prefix}{path}\"\n",
    "    response = requests.post(cmd, json.dumps(data))\n",
    "    PP.pprint(response.json())\n",
    "def delete(path:str):\n",
    "    cmd = f\"{prefix}{path}\"\n",
    "    response = requests.delete(cmd)\n",
    "    return response.json()"
   ]
  },
  {
   "cell_type": "code",
   "execution_count": null,
   "metadata": {},
   "outputs": [],
   "source": [
    "get('/dispatcher/clear')"
   ]
  },
  {
   "cell_type": "code",
   "execution_count": null,
   "metadata": {},
   "outputs": [],
   "source": [
    "get('/dispatcher/load')"
   ]
  },
  {
   "cell_type": "code",
   "execution_count": null,
   "metadata": {},
   "outputs": [],
   "source": [
    "get('/dispatcher/describe_all')"
   ]
  },
  {
   "cell_type": "code",
   "execution_count": 2,
   "metadata": {},
   "outputs": [
    {
     "output_type": "stream",
     "name": "stdout",
     "text": [
      "'action (heartbeat1) was successfully added'\n'action (heartbeat2) was successfully added'\n'action (heartbeat3) was successfully added'\n'action (append_1) was successfully added'\n'action (append_2) was successfully added'\n'action (append_3) was successfully added'\n'action (sys_info) was successfully added'\n'action (pause) was successfully added'\n'action (logic1) was successfully added'\n'action (success) was successfully added'\n'action (file_append) was successfully added'\n'action (mini_info) was successfully added'\n'action (terminate) was successfully added'\n'action (raise_if_0) was successfully added'\n'action (info_append_1) was successfully added'\n'action (info_append_2) was successfully added'\n'action (info_append_3) was successfully added'\n'action (raise_all_1) was successfully added'\n'action (raise_all_2) was successfully added'\n'action (raise_uf_1) was successfully added'\n'action (raise_uf_2) was successfully added'\n'action (raise_us_1) was successfully added'\n'action (raise_us_2) was successfully added'\n'action (execute_action) was successfully added'\n'scheduler (randomly_soon) was successfully added'\n'scheduler (often) was successfully added'\n'scheduler (timely_day) was successfully added'\n'scheduler (timely_night) was successfully added'\n'scheduler (immediately) was successfully added'\n'program (program1) was successfully added'\n'program (info_append) was successfully added'\n'server (home) was successfully added'\n'server (home2) was successfully added'\n'program (info_append) was successfully scheduled'\n"
     ]
    }
   ],
   "source": [
    "get('/dispatcher/clear')\n",
    "\n",
    "heart_1 = file_x.FileAppend(file=\"heartbeat1.txt\", payload={'words':'heartbreak hotel'})\n",
    "post('/actions/heartbeat1', heart_1)\n",
    "heart_2 = file_x.FileAppend(file=\"heartbeat2.txt\", payload={'words':'nothing but heartaches'})\n",
    "post('/actions/heartbeat2', heart_2)\n",
    "heart_3 = file_x.FileAppend(file=\"heartbeat3.txt\", payload={'words':'heart of glass'})\n",
    "post('/actions/heartbeat3', heart_3)\n",
    "\n",
    "append_1 = file_x.FileAppend(file=\"append_1.txt\")\n",
    "post('/actions/append_1', append_1)\n",
    "append_2 = file_x.FileAppend(file=\"append_2.txt\")\n",
    "post('/actions/append_2', append_2)\n",
    "append_3 = file_x.FileAppend(file=\"append_3.txt\", payload={'words':'apply'})\n",
    "post('/actions/append_3', append_3)\n",
    "\n",
    "sys_info = sys_x.SysInfo()\n",
    "post('/actions/sys_info', sys_info)\n",
    "pause = sys_x.Pause()\n",
    "post('/actions/pause', pause)\n",
    "logic_1 = list_x.All(actions=[heart_1, heart_2])\n",
    "post('/actions/logic1', logic_1)\n",
    "success = list_x.Success()\n",
    "post('/actions/success', success)\n",
    "file_append = file_x.FileAppend(file=\"boomerang.txt\")\n",
    "post('/actions/file_append', file_append)\n",
    "mini_info = sys_x.MiniInfo()\n",
    "post('/actions/mini_info', mini_info)\n",
    "terminate = list_x.Terminate()\n",
    "post('/actions/terminate', terminate)\n",
    "raise_if_0 = list_x.RaiseIfEqual(value=0)\n",
    "post('/actions/raise_if_0', raise_if_0)\n",
    "\n",
    "info_append_1 = list_x.All(actions=[sys_info, append_1])\n",
    "info_append_2 = list_x.All(actions=[mini_info, append_2])\n",
    "info_append_3 = list_x.All(actions=[sys_info, append_3])\n",
    "post('/actions/info_append_1', info_append_1)\n",
    "post('/actions/info_append_2', info_append_2)\n",
    "post('/actions/info_append_3', info_append_3)\n",
    "\n",
    "raise_all_1 = list_x.All(actions=[list_x.Arg(data={\"result\":0}), raise_if_0])\n",
    "raise_all_2= list_x.All(actions=[list_x.Arg(data={\"result\":1}), raise_if_0])\n",
    "post('/actions/raise_all_1', raise_all_1)\n",
    "post('/actions/raise_all_2', raise_all_2)\n",
    "raise_uf_1 = list_x.UntilFailure(actions=[list_x.Arg(data={\"result\":0}), raise_if_0])\n",
    "raise_uf_2= list_x.UntilFailure(actions=[list_x.Arg(data={\"result\":1}), raise_if_0])\n",
    "post('/actions/raise_uf_1', raise_uf_1)\n",
    "post('/actions/raise_uf_2', raise_uf_2)\n",
    "raise_us_1 = list_x.UntilSuccess(actions=[list_x.Arg(data={\"result\":0}), raise_if_0])\n",
    "raise_us_2 = list_x.UntilSuccess(actions=[list_x.Arg(data={\"result\":1}), raise_if_0])\n",
    "post('/actions/raise_us_1', raise_us_1)\n",
    "post('/actions/raise_us_2', raise_us_2)\n",
    "\n",
    "execute_action = disp_x.Exec(server_name=\"home\", action_name=\"file_append\")\n",
    "post('/actions/execute_action', execute_action)\n",
    "\n",
    "scheduler = sched_x.Randomly(time_unit=TimeUnit.second, low=5, high=10)\n",
    "post('/schedulers/randomly_soon', scheduler)\n",
    "scheduler = sched_x.Timely(interval=1)\n",
    "post('/schedulers/often', scheduler)\n",
    "morning, evening = time(6,0,0), time(18,0,0)\n",
    "scheduler = sched_x.Timely(interval=1, start=morning, stop=evening)\n",
    "post('/schedulers/timely_day', scheduler)\n",
    "scheduler = sched_x.Timely(interval=1, start=evening, stop=morning)\n",
    "post('/schedulers/timely_night', scheduler)\n",
    "scheduler = Immediately()\n",
    "post('/schedulers/immediately', scheduler)\n",
    "\n",
    "program = PBEProgram().prologue(\"heartbeat1\").epilogue(\"heartbeat3\").body_element(\"often\", \"heartbeat2\")\n",
    "post('/programs/program1', program)\n",
    "info_append = PBEProgram().prologue(\"info_append_1\").epilogue(\"info_append_3\").body_element(\"often\", \"info_append_2\")\n",
    "post('/programs/info_append', info_append)\n",
    "\n",
    "home = Server(host='127.0.0.1', port = 8000, tags = {'program_name': ['info_append'], 'server_name': ['home']})\n",
    "post('/servers/home', home)\n",
    "home2 = Server(host='127.0.0.1', port = 8000, tags = {'program_name': ['info_appoint'], 'server_name': ['home2']})\n",
    "post('/servers/home2', home2)\n",
    "\n",
    "if True:\n",
    "    start = Now.dt()+timedelta(seconds=2)\n",
    "    stop = start + timedelta(seconds=20)\n",
    "    datetime2 = DateTime2(dt1=start, dt2=stop)\n",
    "    post(\"/programs/info_append/schedule\", datetime2)\n",
    "elif True:\n",
    "    start = Now.dt()\n",
    "    stop = start + timedelta(seconds=20)\n",
    "    datetime2 = DateTime2(dt1=start, dt2=stop)\n",
    "    post(\"/programs/program1/schedule\", datetime2)\n",
    "elif True:\n",
    "    get('/schedulers/often/actions/logic1')\n",
    "    dt = DateTime(date_time=Now.dt()+timedelta(seconds=10))\n",
    "    post('/schedulers/often/actions/logic1/expire', dt)\n",
    "    post('/schedulers/often/actions/heartbeat3/defer', dt)\n",
    "elif True: # write once to heartbeat1 & heartbeat2\n",
    "    dt = DateTime(date_time=Now.dt()+timedelta(seconds=10))\n",
    "    post('/schedulers/immediately/actions/logic1/defer', dt)"
   ]
  },
  {
   "cell_type": "code",
   "execution_count": null,
   "metadata": {},
   "outputs": [],
   "source": [
    "get('/jobs/run')"
   ]
  },
  {
   "cell_type": "code",
   "execution_count": null,
   "metadata": {},
   "outputs": [],
   "source": [
    "get('/jobs/stop')"
   ]
  },
  {
   "cell_type": "code",
   "execution_count": null,
   "metadata": {},
   "outputs": [],
   "source": [
    "get('/jobs/count')"
   ]
  },
  {
   "cell_type": "code",
   "execution_count": null,
   "metadata": {},
   "outputs": [],
   "source": []
  },
  {
   "cell_type": "code",
   "execution_count": 3,
   "metadata": {},
   "outputs": [
    {
     "output_type": "execute_result",
     "data": {
      "text/plain": [
       "{'result': [],\n",
       " 'extra': {'result': {'result': [],\n",
       "   'data': {'result': {'mode': 'field',\n",
       "     'program_name': None,\n",
       "     'start_stop': {'dt1': '2021-04-24T17:10:18.528881',\n",
       "      'dt2': '2021-04-24T17:11:00.528953'},\n",
       "     'schedule_program': 'schedule_program'},\n",
       "    'info': {'class': 'whendo.core.actions.list_action.Arg',\n",
       "     'instance': {'arg': 'arg',\n",
       "      'data': {'mode': 'field',\n",
       "       'program_name': None,\n",
       "       'start_stop': {'dt1': '2021-04-24T17:10:18.528881',\n",
       "        'dt2': '2021-04-24T17:11:00.528953'},\n",
       "       'schedule_program': 'schedule_program'}}}},\n",
       "   'info': {'class': 'whendo.core.actions.dispatch_action.ExecSuppliedKeyTags',\n",
       "    'instance': {'mode': 'field',\n",
       "     'action': {'mode': 'field',\n",
       "      'program_name': 'program1',\n",
       "      'start_stop': None,\n",
       "      'schedule_program': 'schedule_program'},\n",
       "     'key_tags': {'roles': ['pivot']},\n",
       "     'key_tag_mode': 'any',\n",
       "     'exec_supplied_key_tags': 'exec_supplied_key_tags'}}},\n",
       "  'processing_count': 2,\n",
       "  'success_count': 2,\n",
       "  'exception_count': 0,\n",
       "  'successful_actions': [{'arg': 'arg',\n",
       "    'data': {'mode': 'field',\n",
       "     'program_name': None,\n",
       "     'start_stop': {'dt1': '2021-04-24T17:10:18.528881',\n",
       "      'dt2': '2021-04-24T17:11:00.528953'},\n",
       "     'schedule_program': 'schedule_program'}},\n",
       "   {'mode': 'field',\n",
       "    'action': {'mode': 'field',\n",
       "     'program_name': 'program1',\n",
       "     'start_stop': None,\n",
       "     'schedule_program': 'schedule_program'},\n",
       "    'key_tags': {'roles': ['pivot']},\n",
       "    'key_tag_mode': 'any',\n",
       "    'exec_supplied_key_tags': 'exec_supplied_key_tags'}],\n",
       "  'exception_actions': []},\n",
       " 'info': {'class': 'whendo.core.actions.list_action.ListAction',\n",
       "  'instance': {'op_mode': 'all',\n",
       "   'actions': [{'arg': 'arg',\n",
       "     'data': {'mode': 'field',\n",
       "      'program_name': None,\n",
       "      'start_stop': {'dt1': '2021-04-24T17:10:18.528881',\n",
       "       'dt2': '2021-04-24T17:11:00.528953'},\n",
       "      'schedule_program': 'schedule_program'}},\n",
       "    {'mode': 'field',\n",
       "     'action': {'mode': 'field',\n",
       "      'program_name': 'program1',\n",
       "      'start_stop': None,\n",
       "      'schedule_program': 'schedule_program'},\n",
       "     'key_tags': {'roles': ['pivot']},\n",
       "     'key_tag_mode': 'any',\n",
       "     'exec_supplied_key_tags': 'exec_supplied_key_tags'}],\n",
       "   'exception_on_no_success': False,\n",
       "   'include_processing_info': True}}}"
      ]
     },
     "metadata": {},
     "execution_count": 3
    }
   ],
   "source": [
    "import whendo.sdk.client as cl\n",
    "start_stop = list_x.Arg(data={\"start_stop\": DateTime2(dt1=Now.dt() + timedelta(seconds=3), dt2= Now.dt() + timedelta(seconds=45))})\n",
    "schedule_key_tags = disp_x.ExecSuppliedKeyTags(key_tags={\"roles\":[\"pivot\"]}, action = disp_x.ScheduleProgram(program_name=\"program1\"))\n",
    "cl.Client(host=home.host, port=home.port).execute_supplied_action(list_x.All(include_processing_info=True, actions=[start_stop, schedule_key_tags]))"
   ]
  },
  {
   "cell_type": "code",
   "execution_count": null,
   "metadata": {},
   "outputs": [],
   "source": [
    "from whendo.core.action import Action\n",
    "from typing import List\n",
    "class Kompose(Action):\n",
    "    compose: str = \"compose\"\n",
    "    actions: List[Action]\n",
    "\n",
    "    def description(self):\n",
    "        return (\n",
    "            f\"Performs function composition on supplied actions in left-to-right order.\"\n",
    "        )\n",
    "\n",
    "    def execute(self, tag: str = None, data: dict = None):\n",
    "        loop_data = data\n",
    "        print(loop_data)\n",
    "        for action in self.actions:\n",
    "            loop_data = action.execute(tag=tag, data=loop_data)\n",
    "            print(loop_data)\n",
    "        return self.action_result(result=self.get_result(loop_data), data=data)"
   ]
  },
  {
   "cell_type": "code",
   "execution_count": null,
   "metadata": {},
   "outputs": [],
   "source": [
    "start_stop = list_x.Arg(data={\"start_stop\": DateTime2(dt1=Now.dt() + timedelta(seconds=3), dt2= Now.dt() + timedelta(seconds=45))})\n",
    "schedule_key_tags = disp_x.ExecSuppliedKeyTags(key_tags={\"roles\":[\"pivot\"]}, action = disp_x.ScheduleProgram(program_name=\"program1\"))\n",
    "cl.Client(host=home.host, port=home.port).execute_supplied_action(Kompose(include_processing_info=True, actions=[start_stop, schedule_key_tags]))"
   ]
  },
  {
   "cell_type": "code",
   "execution_count": null,
   "metadata": {},
   "outputs": [],
   "source": [
    "import json\n",
    "Kompose(include_processing_info=True, actions=[start_stop, schedule_key_tags]).dict()"
   ]
  },
  {
   "cell_type": "code",
   "execution_count": null,
   "metadata": {},
   "outputs": [],
   "source": [
    "k=Kompose(include_processing_info=True, actions=[start_stop, schedule_key_tags])\n",
    "k.json()"
   ]
  },
  {
   "cell_type": "code",
   "execution_count": null,
   "metadata": {},
   "outputs": [],
   "source": [
    "json.dumps(k.json())"
   ]
  },
  {
   "cell_type": "code",
   "execution_count": null,
   "metadata": {},
   "outputs": [],
   "source": [
    "d = {\"a\":\"b\", \"k\":k}\n",
    "d2 = d.copy()\n",
    "d2[\"k\"] = k.json()"
   ]
  },
  {
   "cell_type": "code",
   "execution_count": null,
   "metadata": {},
   "outputs": [],
   "source": [
    "json.dumps(d2)"
   ]
  },
  {
   "cell_type": "code",
   "execution_count": null,
   "metadata": {},
   "outputs": [],
   "source": [
    "def jsonify(dictionary:dict):\n",
    "    for key in dictionary:\n",
    "        if isinstance(dictionary[key], BaseModel):\n",
    "            dictionary[key] = dictionary[key].json()\n"
   ]
  },
  {
   "cell_type": "code",
   "execution_count": null,
   "metadata": {},
   "outputs": [],
   "source": [
    "import whendo.sdk.client as cl\n",
    "start_stop = list_x.Arg(data={\"start_stop\": DateTime2(dt1=Now.dt() + timedelta(seconds=3), dt2= Now.dt() + timedelta(seconds=45))})\n",
    "schedule_key_tags = disp_x.ExecSuppliedKeyTags(key_tags={\"roles\":[\"pivot\"]}, action = disp_x.ScheduleProgram(program_name=\"program1\"))\n",
    "schedule_key_tags = disp_x.ExecSuppliedKeyTags(\n",
    "    key_tags={\"roles\":[\"pivot\"]},\n",
    "    action = disp_x.ScheduleProgram(\n",
    "        program_name=\"program1\",\n",
    "        start_stop=DateTime2(dt1=Now.dt() + timedelta(seconds=3), dt2= Now.dt() + timedelta(seconds=45))\n",
    "        )\n",
    "    )\n",
    "# list_x.All(include_processing_info=True, actions=[unschedule_key_tags, start_stop, schedule_key_tags])\n",
    "cl.Client(host=home.host, port=home.port).execute_supplied_action(Kompose(include_processing_info=True, actions=[schedule_key_tags, start_stop]))"
   ]
  }
 ],
 "metadata": {
  "kernelspec": {
   "name": "python390jvsc74a57bd0aa3783768bbf457551166556478d165b40f649f963a90a85a898980ed78d9d41",
   "display_name": "Python 3.9.0 64-bit ('venv')"
  },
  "language_info": {
   "codemirror_mode": {
    "name": "ipython",
    "version": 3
   },
   "file_extension": ".py",
   "mimetype": "text/x-python",
   "name": "python",
   "nbconvert_exporter": "python",
   "pygments_lexer": "ipython3",
   "version": "3.9.0"
  },
  "metadata": {
   "interpreter": {
    "hash": "11e3d1d60e43f3fc93edfa0d1a61ce1f97593b243c6edf8de848828f37576791"
   }
  }
 },
 "nbformat": 4,
 "nbformat_minor": 4
}