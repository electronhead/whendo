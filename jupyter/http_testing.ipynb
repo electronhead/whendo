{
 "cells": [
  {
   "cell_type": "markdown",
   "metadata": {},
   "source": [
    "When you run a notebook cell that imports from the whendo packages, you need to set the NOTEBOOK FILE ROOT to \\$\\{workspaceFolder\\} so  that imports from top-level packages work. For example, with the property's default value of \\$\\{fileDirName\\}, the imports from dispatcher.etc... will fail since the notebook location is one directory down from top-level.\n",
    "\n",
    "\n",
    "\n"
   ]
  },
  {
   "cell_type": "code",
   "execution_count": null,
   "metadata": {},
   "outputs": [],
   "source": [
    "from datetime import time, datetime, timedelta\n",
    "from pydantic import BaseModel\n",
    "import requests\n",
    "import json\n",
    "from whendo.core.action import Action\n",
    "from whendo.core.dispatcher import Dispatcher\n",
    "import whendo.core.schedulers.cont_scheduler as sched_x\n",
    "import whendo.core.actions.file_action as file_x\n",
    "import whendo.core.actions.logic_action as logic_x\n",
    "import whendo.core.actions.sys_action as sys_x\n",
    "from whendo.core.program import Program\n",
    "from whendo.core.util import PP, TimeUnit, Dirs, DateTime, Now, DateTime2\n",
    "from whendo.core.resolver import resolve_action\n",
    "\n",
    "prefix = \"http://192.168.0.45:8000\"\n",
    "prefix = \"http://127.0.0.1:8000\"\n",
    "prefix = \"http://192.168.0.26:8000\"\n",
    "def get(path:str):\n",
    "    cmd = f\"{prefix}{path}\"\n",
    "    response = requests.get(cmd)\n",
    "    return response.json()\n",
    "def put(path:str, data:BaseModel):\n",
    "    cmd = f\"{prefix}{path}\"\n",
    "    response = requests.put(cmd, data.json())\n",
    "    PP.pprint(response.json())\n",
    "def post(path:str, data:BaseModel):\n",
    "    cmd = f\"{prefix}{path}\"\n",
    "    response = requests.post(cmd, data.json())\n",
    "    PP.pprint(response.json())\n",
    "def post_dict(path:str, data:dict):\n",
    "    cmd = f\"{prefix}{path}\"\n",
    "    response = requests.post(cmd, json.dumps(data))\n",
    "    PP.pprint(response.json())\n",
    "def delete(path:str):\n",
    "    cmd = f\"{prefix}{path}\"\n",
    "    response = requests.delete(cmd)\n",
    "    return response.json()"
   ]
  },
  {
   "cell_type": "code",
   "execution_count": null,
   "metadata": {},
   "outputs": [],
   "source": [
    "get('/dispatcher/clear')"
   ]
  },
  {
   "cell_type": "code",
   "execution_count": null,
   "metadata": {},
   "outputs": [],
   "source": [
    "get('/dispatcher/load')"
   ]
  },
  {
   "cell_type": "code",
   "execution_count": null,
   "metadata": {},
   "outputs": [],
   "source": [
    "get('/dispatcher/describe_all')"
   ]
  },
  {
   "cell_type": "code",
   "execution_count": null,
   "metadata": {},
   "outputs": [],
   "source": [
    "get('/dispatcher/clear')\n",
    "\n",
    "heart_1 = file_x.FileHeartbeat(file=\"heartbeat1.txt\", payload={'words':'heartbreak hotel'})\n",
    "post('/actions/heartbeat1', heart_1)\n",
    "heart_2 = file_x.FileHeartbeat(file=\"heartbeat2.txt\", payload={'words':'nothing but heartaches'})\n",
    "post('/actions/heartbeat2', heart_2)\n",
    "heart_3 = file_x.FileHeartbeat(file=\"heartbeat3.txt\", payload={'words':'heart of glass'})\n",
    "post('/actions/heartbeat3', heart_3)\n",
    "\n",
    "append_1 = file_x.FileAppend(file=\"append_1.txt\")\n",
    "post('/actions/append_1', append_1)\n",
    "append_2 = file_x.FileAppend(file=\"append_2.txt\")\n",
    "post('/actions/append_2', append_2)\n",
    "append_3 = file_x.FileAppend(file=\"append_3.txt\", payload={'words':'apply'})\n",
    "post('/actions/append_3', append_3)\n",
    "\n",
    "sys_info = sys_x.SysInfo()\n",
    "post('/actions/sys_info', sys_info)\n",
    "pause = sys_x.Pause()\n",
    "post('/actions/pause', pause)\n",
    "logic_1 = logic_x.All(actions=[heart_1, heart_2])\n",
    "post('/actions/logic1', logic_1)\n",
    "success = logic_x.Success()\n",
    "post('/actions/success', success)\n",
    "file_append = file_x.FileAppend(file=\"boomerang.txt\")\n",
    "post('/actions/file_append', file_append)\n",
    "mini_info = sys_x.MiniInfo()\n",
    "post('/actions/mini_info', mini_info)\n",
    "\n",
    "info_append_1 = logic_x.All(actions=[sys_info, append_1])\n",
    "post('/actions/info_append_1', info_append_1)\n",
    "info_append_2 = logic_x.All(actions=[sys_info, append_2])\n",
    "post('/actions/info_append_2', info_append_2)\n",
    "info_append_3 = logic_x.All(actions=[mini_info, append_3])\n",
    "post('/actions/info_append_3', info_append_3)\n",
    "\n",
    "scheduler = sched_x.Randomly(time_unit=TimeUnit.second, low=5, high=10)\n",
    "post('/schedulers/randomly_soon', scheduler)\n",
    "scheduler = sched_x.Timely(interval=1)\n",
    "post('/schedulers/often', scheduler)\n",
    "morning, evening = time(6,0,0), time(18,0,0)\n",
    "scheduler = sched_x.Timely(interval=1, start=morning, stop=evening)\n",
    "post('/schedulers/timely_day', scheduler)\n",
    "scheduler = sched_x.Timely(interval=1, start=evening, stop=morning)\n",
    "post('/schedulers/timely_night', scheduler)\n",
    "scheduler = sched_x.Immediately()\n",
    "post('/schedulers/immediately', scheduler)\n",
    "\n",
    "program = Program().prologue(\"heartbeat1\").epilogue(\"heartbeat3\").body_element(\"often\", \"heartbeat2\")\n",
    "post('/programs/program1', program)\n",
    "info_append = Program().prologue(\"info_append_1\").epilogue(\"info_append_3\").body_element(\"often\", \"info_append_2\")\n",
    "post('/programs/info_append', info_append)\n",
    "\n",
    "if True:\n",
    "    start = Now.dt()+timedelta(seconds=2)\n",
    "    stop = start + timedelta(seconds=20)\n",
    "    datetime2 = DateTime2(dt1=start, dt2=stop)\n",
    "    post(\"/programs/info_append/schedule\", datetime2)\n",
    "elif True:\n",
    "    start = Now.dt()\n",
    "    stop = start + timedelta(seconds=20)\n",
    "    datetime2 = DateTime2(dt1=start, dt2=stop)\n",
    "    post(\"/programs/program1/schedule\", datetime2)\n",
    "elif True:\n",
    "    get('/schedulers/often/actions/logic1')\n",
    "    dt = DateTime(date_time=Now.dt()+timedelta(seconds=10))\n",
    "    post('/schedulers/often/actions/logic1/expire', dt)\n",
    "    post('/schedulers/often/actions/heartbeat3/defer', dt)\n",
    "elif True: # write once to heartbeat1 & heartbeat2\n",
    "    dt = DateTime(date_time=Now.dt()+timedelta(seconds=10))\n",
    "    post('/schedulers/immediately/actions/logic1/defer', dt)\n",
    "\n",
    "# get('/schedulers/timely_day/actions/logic1')\n",
    "# get('/schedulers/timely_night/actions/logic1')\n",
    "# get('/schedulers/timely_day/actions/heartbeat1')\n",
    "# get('/schedulers/timely_night/actions/heartbeat2')\n",
    "# get('/schedulers/randomly_soon/actions/heartbeat3')"
   ]
  },
  {
   "cell_type": "code",
   "execution_count": null,
   "metadata": {},
   "outputs": [],
   "source": [
    "get('/jobs/run')"
   ]
  },
  {
   "cell_type": "code",
   "execution_count": null,
   "metadata": {},
   "outputs": [],
   "source": [
    "get('/jobs/stop')"
   ]
  },
  {
   "cell_type": "code",
   "execution_count": null,
   "metadata": {},
   "outputs": [],
   "source": [
    "get('/jobs/count')"
   ]
  },
  {
   "cell_type": "code",
   "execution_count": null,
   "metadata": {},
   "outputs": [],
   "source": [
    "get('/actions/sys_info/execute')"
   ]
  },
  {
   "cell_type": "code",
   "execution_count": null,
   "metadata": {},
   "outputs": [],
   "source": []
  }
 ],
 "metadata": {
  "kernelspec": {
   "name": "python3",
   "display_name": "Python 3",
   "language": "python"
  },
  "language_info": {
   "codemirror_mode": {
    "name": "ipython",
    "version": 3
   },
   "file_extension": ".py",
   "mimetype": "text/x-python",
   "name": "python",
   "nbconvert_exporter": "python",
   "pygments_lexer": "ipython3",
   "version": "3.9.0-final"
  }
 },
 "nbformat": 4,
 "nbformat_minor": 4
}