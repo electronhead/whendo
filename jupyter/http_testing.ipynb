{
 "metadata": {
  "language_info": {
   "codemirror_mode": {
    "name": "ipython",
    "version": 3
   },
   "file_extension": ".py",
   "mimetype": "text/x-python",
   "name": "python",
   "nbconvert_exporter": "python",
   "pygments_lexer": "ipython3",
   "version": "3.9.0-final"
  },
  "orig_nbformat": 2,
  "kernelspec": {
   "name": "python3",
   "display_name": "Python 3",
   "language": "python"
  }
 },
 "nbformat": 4,
 "nbformat_minor": 2,
 "cells": [
  {
   "source": [
    "to do\n",
    "\n",
    "1. change 'scheduler' => 'schedule'\n",
    "2. install git in the mothership directory\n",
    "3. push to github\n",
    "4. get docker working\n",
    "5. install on pi\n",
    "\n",
    "docker build -t pyrambium .\n",
    "\n",
    "docker run -it --rm -p 8000:8000 -v $PYRAMBIUM_SAVED_DIR:$PYRAMBIUM_SAVED_DIR -v $PYRAMBIUM_OUTPUT_DIR:$PYRAMBIUM_OUTPUT_DIR --name pyrambium_running pyrambium"
   ],
   "cell_type": "markdown",
   "metadata": {}
  },
  {
   "cell_type": "code",
   "execution_count": null,
   "metadata": {},
   "outputs": [],
   "source": [
    "# docker run -it --rm -p 8000:8000 -v $PYRAMBIUM_SAVED_DIR:$PYRAMBIUM_SAVED_DIR -v $PYRAMBIUM_OUTPUT_DIR:$PYRAMBIUM_OUTPUT_DIR --name pyrambium_running pyrambium"
   ]
  },
  {
   "source": [
    "python3 -m compileall -f base\n",
    "\n",
    "to run at the command line in the python/...\n",
    "\n",
    "uvicorn main:app --workers 1\n",
    "\n",
    "uvicorn main:app --reload\n",
    "\n",
    "import uvicorn\n",
    "if __name__ == \"__main__\":\n",
    "    uvicorn.run(app, host=\"0.0.0.0\", port=8000)\n",
    "\n",
    "pip3 install pylint\n",
    "\n",
    "pylint *.py"
   ],
   "cell_type": "markdown",
   "metadata": {}
  },
  {
   "source": [
    "When you run a notebook cell that imports from the Pyrambium packages, you need to set the NOTEBOOK FILE ROOT to \\$\\{workspaceFolder\\} so  that imports from top-level packages work. For example, with the property's default value of \\$\\{fileDirName\\}, the imports from mothership.action will fail since the notebook location is one directory down from top-level.\n",
    "\n",
    "\n",
    "\n"
   ],
   "cell_type": "markdown",
   "metadata": {}
  },
  {
   "cell_type": "code",
   "execution_count": 1,
   "metadata": {},
   "outputs": [],
   "source": [
    "from datetime import time\n",
    "from pydantic import BaseModel\n",
    "import requests\n",
    "from whendo.core.scheduler import TimelyScheduler, RandomlyScheduler\n",
    "import whendo.core.actions.file_action as file_x\n",
    "import whendo.core.actions.gpio_action as gpio_x\n",
    "from whendo.core.util import PP, TimeUnit, Dirs\n",
    "\n",
    "prefix = \"http://127.0.0.1:5000\"\n",
    "prefix = \"http://192.168.0.45:8000\"\n",
    "prefix = \"http://locahost:8000\"\n",
    "prefix = \"http://localhost:8000\"\n",
    "def get(path:str):\n",
    "    cmd = f\"{prefix}{path}\"\n",
    "    response = requests.get(cmd)\n",
    "    return response.json()\n",
    "def put(path:str, data:BaseModel):\n",
    "    cmd = f\"{prefix}{path}\"\n",
    "    response = requests.put(cmd, data.json())\n",
    "    PP.pprint(response.json())\n",
    "def put_as_is(path:str, data:None):\n",
    "    cmd = f\"{prefix}{path}\"\n",
    "    response = requests.put(cmd, data)\n",
    "    PP.pprint(response.json())\n",
    "def delete(path:str):\n",
    "    cmd = f\"{prefix}{path}\"\n",
    "    response = requests.delete(cmd)\n",
    "    return response.json()\n",
    "output_dir = Dirs.output_dir()"
   ]
  },
  {
   "cell_type": "code",
   "execution_count": 2,
   "metadata": {},
   "outputs": [
    {
     "output_type": "execute_result",
     "data": {
      "text/plain": [
       "'/Users/electronhead/whendo/output/'"
      ]
     },
     "metadata": {},
     "execution_count": 2
    }
   ],
   "source": [
    "Dirs.output_dir()"
   ]
  },
  {
   "cell_type": "code",
   "execution_count": 12,
   "metadata": {},
   "outputs": [
    {
     "output_type": "execute_result",
     "data": {
      "text/plain": [
       "{'actions': {'heartbeat1': {'file': '/Users/electronhead/whendo/output/heartbeat1.txt',\n",
       "   'xtra': {'words': 'heartbreak hotel'}},\n",
       "  'heartbeat2': {'file': '/Users/electronhead/whendo/output/heartbeat2.txt',\n",
       "   'xtra': {'words': 'nothing but heartaches'}},\n",
       "  'heartbeat3': {'file': '/Users/electronhead/whendo/output/heartbeat3.txt',\n",
       "   'xtra': {'words': 'heart of glass'}},\n",
       "  'green_on': {'pin': 27, 'on': True},\n",
       "  'green_off': {'pin': 27, 'on': False},\n",
       "  'green_toggle': {'pin': 27},\n",
       "  'gpio_clear': {}},\n",
       " 'schedulers': {'randomly_soon': {'start': None,\n",
       "   'stop': None,\n",
       "   'time_unit': 'second',\n",
       "   'low': 10,\n",
       "   'high': 20},\n",
       "  'timely_day': {'start': '06:00:00',\n",
       "   'stop': '18:00:00',\n",
       "   'interval': 1,\n",
       "   'hour': None,\n",
       "   'minute': None,\n",
       "   'second': None},\n",
       "  'timely_night': {'start': '18:00:00',\n",
       "   'stop': '06:00:00',\n",
       "   'interval': 1,\n",
       "   'hour': None,\n",
       "   'minute': None,\n",
       "   'second': None}},\n",
       " 'schedulers_actions': {'randomly_soon': ['heartbeat3'],\n",
       "  'timely_day': ['heartbeat1'],\n",
       "  'timely_night': ['heartbeat2']},\n",
       " 'saved_dir': '/Users/electronhead/whendo/saved/'}"
      ]
     },
     "metadata": {},
     "execution_count": 12
    }
   ],
   "source": [
    "get('/mothership/load')"
   ]
  },
  {
   "cell_type": "code",
   "execution_count": 13,
   "metadata": {},
   "outputs": [
    {
     "output_type": "execute_result",
     "data": {
      "text/plain": [
       "'mothership cleared'"
      ]
     },
     "metadata": {},
     "execution_count": 13
    }
   ],
   "source": [
    "get('/mothership/clear')"
   ]
  },
  {
   "cell_type": "code",
   "execution_count": 10,
   "metadata": {},
   "outputs": [
    {
     "output_type": "execute_result",
     "data": {
      "text/plain": [
       "'/Users/electronhead/pyrambium/output/'"
      ]
     },
     "metadata": {},
     "execution_count": 10
    }
   ],
   "source": [
    "Dirs.output_dir()"
   ]
  },
  {
   "cell_type": "code",
   "execution_count": 14,
   "metadata": {},
   "outputs": [
    {
     "output_type": "stream",
     "name": "stdout",
     "text": [
      "'action (heartbeat1) was successfully added'\n'action (heartbeat2) was successfully added'\n'action (heartbeat3) was successfully added'\n'action (green_on) was successfully added'\n'action (green_off) was successfully added'\n'action (green_toggle) was successfully added'\n'action (gpio_clear) was successfully added'\n'scheduler (randomly_soon) was successfully added'\n'scheduler (timely_day) was successfully added'\n'scheduler (timely_night) was successfully added'\n"
     ]
    },
    {
     "output_type": "execute_result",
     "data": {
      "text/plain": [
       "'action (heartbeat3) was successfully scheduled (randomly_soon)'"
      ]
     },
     "metadata": {},
     "execution_count": 14
    }
   ],
   "source": [
    "action = file_x.FileHeartbeat(file=f\"{output_dir}heartbeat1.txt\", xtra={'words':'heartbreak hotel'})\n",
    "put('/actions/heartbeat1', action)\n",
    "action = file_x.FileHeartbeat(file=f\"{output_dir}heartbeat2.txt\", xtra={'words':'nothing but heartaches'})\n",
    "put('/actions/heartbeat2', action)\n",
    "action = file_x.FileHeartbeat(file=f\"{output_dir}heartbeat3.txt\", xtra={'words':'heart of glass'})\n",
    "put('/actions/heartbeat3', action)\n",
    "put('/actions/green_on', gpio_x.SetPin(pin=27, on=True))\n",
    "put('/actions/green_off', gpio_x.SetPin(pin=27, on=False))\n",
    "put('/actions/green_toggle', gpio_x.TogglePin(pin=27))\n",
    "put('/actions/gpio_clear', gpio_x.Cleanup())\n",
    "\n",
    "scheduler = RandomlyScheduler(time_unit=TimeUnit.second, low=10, high=20)\n",
    "put('/schedulers/randomly_soon', scheduler)\n",
    "\n",
    "morning, evening = time(6,0,0), time(18,0,0)\n",
    "scheduler = TimelyScheduler(interval=1, start=morning, stop=evening)\n",
    "put('/schedulers/timely_day', scheduler)\n",
    "scheduler = TimelyScheduler(interval=1, start=evening, stop=morning)\n",
    "put('/schedulers/timely_night', scheduler)\n",
    "\n",
    "get('/schedulers/timely_day/actions/heartbeat1')\n",
    "get('/schedulers/timely_night/actions/heartbeat2')\n",
    "get('/schedulers/randomly_soon/actions/heartbeat3')"
   ]
  },
  {
   "cell_type": "code",
   "execution_count": 5,
   "metadata": {},
   "outputs": [
    {
     "output_type": "execute_result",
     "data": {
      "text/plain": [
       "{'actions': {'heartbeat1': {'file': '/Users/electronhead/whendo/output/heartbeat1.txt',\n",
       "   'xtra': {'words': 'heartbreak hotel'}},\n",
       "  'heartbeat2': {'file': '/Users/electronhead/whendo/output/heartbeat2.txt',\n",
       "   'xtra': {'words': 'nothing but heartaches'}},\n",
       "  'heartbeat3': {'file': '/Users/electronhead/whendo/output/heartbeat3.txt',\n",
       "   'xtra': {'words': 'heart of glass'}},\n",
       "  'green_on': {'pin': 27, 'on': True},\n",
       "  'green_off': {'pin': 27, 'on': False},\n",
       "  'green_toggle': {'pin': 27},\n",
       "  'gpio_clear': {}},\n",
       " 'schedulers': {'randomly_soon': {'start': None,\n",
       "   'stop': None,\n",
       "   'time_unit': 'second',\n",
       "   'low': 10,\n",
       "   'high': 20},\n",
       "  'timely_day': {'start': '06:00:00',\n",
       "   'stop': '18:00:00',\n",
       "   'interval': 1,\n",
       "   'hour': None,\n",
       "   'minute': None,\n",
       "   'second': None},\n",
       "  'timely_night': {'start': '18:00:00',\n",
       "   'stop': '06:00:00',\n",
       "   'interval': 1,\n",
       "   'hour': None,\n",
       "   'minute': None,\n",
       "   'second': None}},\n",
       " 'schedulers_actions': {'randomly_soon': ['heartbeat3'],\n",
       "  'timely_day': ['heartbeat1'],\n",
       "  'timely_night': ['heartbeat2']},\n",
       " 'saved_dir': '/Users/electronhead/whendo/saved/'}"
      ]
     },
     "metadata": {},
     "execution_count": 5
    }
   ],
   "source": [
    "get('/mothership/load')"
   ]
  },
  {
   "cell_type": "code",
   "execution_count": null,
   "metadata": {},
   "outputs": [],
   "source": [
    "action = file_x.FileHeartbeat(file=f\"{output_dir}heartbeat3.txt\")\n",
    "put('/actions/heartbeat3', action)\n",
    "get('/schedulers/timely_day/actions/heartbeat3')"
   ]
  },
  {
   "cell_type": "code",
   "execution_count": null,
   "metadata": {},
   "outputs": [],
   "source": [
    "action = file_x.FileHeartbeat(file=f\"{output_dir}heartbeat4.txt\", xtra={'words':\"your cheatin' heart\"})\n",
    "put('/actions/heartbeat4', action)\n",
    "get('/schedulers/timely_day/actions/heartbeat4')"
   ]
  },
  {
   "cell_type": "code",
   "execution_count": 15,
   "metadata": {},
   "outputs": [
    {
     "output_type": "execute_result",
     "data": {
      "text/plain": [
       "'started running'"
      ]
     },
     "metadata": {},
     "execution_count": 15
    }
   ],
   "source": [
    "get('/jobs/start')"
   ]
  },
  {
   "cell_type": "code",
   "execution_count": 16,
   "metadata": {},
   "outputs": [
    {
     "output_type": "execute_result",
     "data": {
      "text/plain": [
       "'stopped running'"
      ]
     },
     "metadata": {},
     "execution_count": 16
    }
   ],
   "source": [
    "get('/jobs/stop')"
   ]
  },
  {
   "cell_type": "code",
   "execution_count": 10,
   "metadata": {},
   "outputs": [
    {
     "output_type": "execute_result",
     "data": {
      "text/plain": [
       "{'job_count': 3}"
      ]
     },
     "metadata": {},
     "execution_count": 10
    }
   ],
   "source": [
    "get('/jobs/count')"
   ]
  },
  {
   "cell_type": "code",
   "execution_count": null,
   "metadata": {},
   "outputs": [],
   "source": [
    "get('/actions/heartbeat1/execute')"
   ]
  },
  {
   "cell_type": "code",
   "execution_count": null,
   "metadata": {},
   "outputs": [],
   "source": [
    "get('/actions/heartbeat2/execute')"
   ]
  },
  {
   "cell_type": "code",
   "execution_count": null,
   "metadata": {},
   "outputs": [],
   "source": [
    "get('/actions/heartbeat3/execute')"
   ]
  },
  {
   "cell_type": "code",
   "execution_count": null,
   "metadata": {},
   "outputs": [],
   "source": [
    "get('/actions/heartbeat4/execute')"
   ]
  },
  {
   "cell_type": "code",
   "execution_count": null,
   "metadata": {},
   "outputs": [],
   "source": [
    "get('/actions/heartbeat1')"
   ]
  },
  {
   "cell_type": "code",
   "execution_count": null,
   "metadata": {},
   "outputs": [],
   "source": [
    "get('/actions/heartbeat2')"
   ]
  },
  {
   "cell_type": "code",
   "execution_count": null,
   "metadata": {},
   "outputs": [],
   "source": [
    "get('/actions/heartbeat1')"
   ]
  },
  {
   "cell_type": "code",
   "execution_count": null,
   "metadata": {},
   "outputs": [],
   "source": [
    "get('/schedulers/timely_day')"
   ]
  },
  {
   "cell_type": "code",
   "execution_count": null,
   "metadata": {},
   "outputs": [],
   "source": [
    "get('/mothership/load')['schedulers_actions']"
   ]
  },
  {
   "cell_type": "code",
   "execution_count": null,
   "metadata": {},
   "outputs": [],
   "source": [
    "get('/mothership/load')['schedulers']"
   ]
  },
  {
   "cell_type": "code",
   "execution_count": null,
   "metadata": {},
   "outputs": [],
   "source": [
    "get('/mothership/load')"
   ]
  },
  {
   "cell_type": "code",
   "execution_count": null,
   "metadata": {},
   "outputs": [],
   "source": [
    "delete('/actions/green_toggle')"
   ]
  },
  {
   "cell_type": "code",
   "execution_count": null,
   "metadata": {},
   "outputs": [],
   "source": [
    "put('/actions/green_toggle', TogglePin(pin=27))"
   ]
  },
  {
   "cell_type": "code",
   "execution_count": null,
   "metadata": {},
   "outputs": [],
   "source": [
    "get('/actions/green_on/execute')"
   ]
  },
  {
   "cell_type": "code",
   "execution_count": null,
   "metadata": {},
   "outputs": [],
   "source": [
    "get('/actions/green_off/execute')"
   ]
  },
  {
   "cell_type": "code",
   "execution_count": null,
   "metadata": {},
   "outputs": [],
   "source": [
    "get('/actions/green_toggle/execute')"
   ]
  },
  {
   "cell_type": "code",
   "execution_count": null,
   "metadata": {},
   "outputs": [],
   "source": [
    "get('/actions/gpio_clear')"
   ]
  },
  {
   "cell_type": "code",
   "execution_count": null,
   "metadata": {},
   "outputs": [],
   "source": []
  }
 ]
}