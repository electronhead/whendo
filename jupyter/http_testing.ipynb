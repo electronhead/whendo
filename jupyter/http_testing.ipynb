{
 "cells": [
  {
   "cell_type": "markdown",
   "metadata": {},
   "source": [
    "When you run a notebook cell that imports from the whendo packages, you need to set the NOTEBOOK FILE ROOT to \\$\\{workspaceFolder\\} so  that imports from top-level packages work. For example, with the property's default value of \\$\\{fileDirName\\}, the imports from dispatcher.etc... will fail since the notebook location is one directory down from top-level.\n",
    "\n",
    "\n",
    "\n"
   ]
  },
  {
   "cell_type": "code",
   "execution_count": null,
   "metadata": {},
   "outputs": [],
   "source": [
    "from datetime import time, datetime\n",
    "from pydantic import BaseModel\n",
    "import requests\n",
    "import json\n",
    "import datetime\n",
    "from whendo.core.action import Action\n",
    "from whendo.core.dispatcher import Dispatcher\n",
    "from whendo.core.scheduler import Timely, Randomly, Immediately\n",
    "import whendo.core.actions.file_action as file_x\n",
    "import whendo.core.actions.logic_action as logic_x\n",
    "import whendo.core.actions.sys_action as sys_x\n",
    "from whendo.core.util import PP, TimeUnit, Dirs, DateTime, Now\n",
    "from whendo.core.resolver import resolve_action\n",
    "\n",
    "prefix = \"http://192.168.0.45:8000\"\n",
    "prefix = \"http://127.0.0.1:8000\"\n",
    "def get(path:str):\n",
    "    cmd = f\"{prefix}{path}\"\n",
    "    response = requests.get(cmd)\n",
    "    return response.json()\n",
    "def put(path:str, data:BaseModel):\n",
    "    cmd = f\"{prefix}{path}\"\n",
    "    response = requests.put(cmd, data.json())\n",
    "    PP.pprint(response.json())\n",
    "def post(path:str, data:BaseModel):\n",
    "    cmd = f\"{prefix}{path}\"\n",
    "    response = requests.post(cmd, data.json())\n",
    "    PP.pprint(response.json())\n",
    "def delete(path:str):\n",
    "    cmd = f\"{prefix}{path}\"\n",
    "    response = requests.delete(cmd)\n",
    "    return response.json()"
   ]
  },
  {
   "cell_type": "code",
   "execution_count": null,
   "metadata": {},
   "outputs": [],
   "source": [
    "get('/dispatcher/clear')"
   ]
  },
  {
   "cell_type": "code",
   "execution_count": null,
   "metadata": {},
   "outputs": [],
   "source": [
    "get('/dispatcher/load')"
   ]
  },
  {
   "cell_type": "code",
   "execution_count": null,
   "metadata": {},
   "outputs": [],
   "source": [
    "get('/dispatcher/clear')\n",
    "\n",
    "heart_1 = file_x.FileHeartbeat(file=\"heartbeat1.txt\", xtra={'words':'heartbreak hotel'})\n",
    "post('/actions/heartbeat1', heart_1)\n",
    "heart_2 = file_x.FileHeartbeat(file=\"heartbeat2.txt\", xtra={'words':'nothing but heartaches'})\n",
    "post('/actions/heartbeat2', heart_2)\n",
    "heart_3 = file_x.FileHeartbeat(file=\"heartbeat3.txt\", xtra={'words':'heart of glass'})\n",
    "post('/actions/heartbeat3', heart_3)\n",
    "sys_info = sys_x.SysInfo()\n",
    "post('/actions/sys_info', sys_info)\n",
    "pause = sys_x.Pause()\n",
    "post('/actions/pause', pause)\n",
    "logic_1 = logic_x.All(action_list=[heart_1, heart_2])\n",
    "post('/actions/logic1', logic_1)\n",
    "\n",
    "scheduler = Randomly(time_unit=TimeUnit.second, low=5, high=10)\n",
    "post('/schedulers/randomly_soon', scheduler)\n",
    "scheduler = Timely(interval=1)\n",
    "post('/schedulers/often', scheduler)\n",
    "morning, evening = time(6,0,0), time(18,0,0)\n",
    "scheduler = Timely(interval=1, start=morning, stop=evening)\n",
    "post('/schedulers/timely_day', scheduler)\n",
    "scheduler = Timely(interval=1, start=evening, stop=morning)\n",
    "post('/schedulers/timely_night', scheduler)\n",
    "scheduler = Immediately()\n",
    "post('/schedulers/immediately', scheduler)\n",
    "\n",
    "if True:\n",
    "    get('/schedulers/often/actions/logic1')\n",
    "    dt = DateTime(date_time=Now.dt()+datetime.timedelta(seconds=10))\n",
    "    post('/schedulers/often/actions/logic1/expire', dt)\n",
    "    post('/schedulers/often/actions/heartbeat3/defer', dt)\n",
    "elif True: # write once to heartbeat1 & heartbeat2\n",
    "    dt = DateTime(date_time=Now.dt()+datetime.timedelta(seconds=10))\n",
    "    post('/schedulers/immediately/actions/logic1/defer', dt)\n",
    "\n",
    "# get('/schedulers/timely_day/actions/logic1')\n",
    "# get('/schedulers/timely_night/actions/logic1')\n",
    "# get('/schedulers/timely_day/actions/heartbeat1')\n",
    "# get('/schedulers/timely_night/actions/heartbeat2')\n",
    "# get('/schedulers/randomly_soon/actions/heartbeat3')"
   ]
  },
  {
   "cell_type": "code",
   "execution_count": null,
   "metadata": {},
   "outputs": [],
   "source": [
    "get('/jobs/run')"
   ]
  },
  {
   "cell_type": "code",
   "execution_count": null,
   "metadata": {},
   "outputs": [],
   "source": [
    "get('/jobs/stop')"
   ]
  },
  {
   "cell_type": "code",
   "execution_count": null,
   "metadata": {},
   "outputs": [],
   "source": [
    "get('/jobs/count')"
   ]
  },
  {
   "cell_type": "code",
   "execution_count": null,
   "metadata": {},
   "outputs": [],
   "source": []
  }
 ],
 "metadata": {
  "kernelspec": {
   "name": "python3",
   "display_name": "Python 3",
   "language": "python"
  },
  "language_info": {
   "codemirror_mode": {
    "name": "ipython",
    "version": 3
   },
   "file_extension": ".py",
   "mimetype": "text/x-python",
   "name": "python",
   "nbconvert_exporter": "python",
   "pygments_lexer": "ipython3",
   "version": "3.9.0-final"
  }
 },
 "nbformat": 4,
 "nbformat_minor": 4
}