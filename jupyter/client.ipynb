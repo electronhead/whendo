{
 "cells": [
  {
   "cell_type": "markdown",
   "metadata": {},
   "source": [
    "This notebook utilizes the Workbench and Client classes, which allows for convenient, notebook-based use of the sdk."
   ]
  },
  {
   "cell_type": "code",
   "execution_count": 1,
   "metadata": {},
   "outputs": [],
   "source": [
    "from whendo.sdk.client import Client\n",
    "import whendo.core.actions.file_action as file_x\n",
    "import whendo.core.actions.list_action as list_x\n",
    "import whendo.core.schedulers.timed_scheduler as sched_x\n",
    "import whendo.core.actions.sys_action as sys_x\n",
    "import whendo.core.actions.http_action as http_x\n",
    "from whendo.core.util import PP, FilePathe, Dirs\n",
    "\n",
    "pi = Client(host=\"192.168.0.45\")\n",
    "local = Client(host=\"127.0.0.1\")"
   ]
  },
  {
   "cell_type": "code",
   "execution_count": null,
   "metadata": {},
   "outputs": [],
   "source": [
    "client = local"
   ]
  },
  {
   "cell_type": "code",
   "execution_count": null,
   "metadata": {},
   "outputs": [],
   "source": [
    "client.clear_dispatcher()"
   ]
  },
  {
   "cell_type": "code",
   "execution_count": null,
   "metadata": {},
   "outputs": [],
   "source": [
    "client.load_dispatcher().pprint()"
   ]
  },
  {
   "cell_type": "code",
   "execution_count": null,
   "metadata": {},
   "outputs": [],
   "source": [
    "client.run_jobs()"
   ]
  },
  {
   "cell_type": "code",
   "execution_count": null,
   "metadata": {},
   "outputs": [],
   "source": [
    "client.stop_jobs()"
   ]
  },
  {
   "cell_type": "code",
   "execution_count": null,
   "metadata": {},
   "outputs": [],
   "source": [
    "client.job_count()"
   ]
  },
  {
   "cell_type": "code",
   "execution_count": null,
   "metadata": {},
   "outputs": [],
   "source": [
    "heart1 = file_x.FileAppendP(file=\"heartbeat1.txt\")\n",
    "heart2 = file_x.FileAppendP(file=\"heartbeat2.txt\")\n",
    "heart3 = file_x.FileAppendP(file=\"heartbeat3.txt\")\n",
    "list1 = list_x.All(actions=[heart1, heart2])\n",
    "randomly = sched_x.Randomly(low=2, high=5)\n",
    "timely = sched_x.Timely(interval=1)\n",
    "sys_info = sys_x.SysInfo()\n",
    "\n",
    "[\n",
    "    [\n",
    "        client.add_action(*args)\n",
    "        for args in [\n",
    "            (\"heart1\", heart1),\n",
    "            (\"heart2\", heart2),\n",
    "            (\"heart3\", heart3),\n",
    "            (\"list1\", list1),\n",
    "            (\"sys_info\", sys_info),\n",
    "        ]\n",
    "    ],\n",
    "    [\n",
    "        client.add_scheduler(*args)\n",
    "        for args in [(\"randomly\", randomly), (\"timely\", timely)]\n",
    "    ],\n",
    "]"
   ]
  },
  {
   "cell_type": "code",
   "execution_count": null,
   "metadata": {},
   "outputs": [],
   "source": [
    "[\n",
    "    client.schedule_action(*args)\n",
    "    for args in [(\"timely\", \"list1\"), (\"randomly\", \"heart3\")]\n",
    "]"
   ]
  }
 ],
 "metadata": {
  "kernelspec": {
   "display_name": "Python 3",
   "language": "python",
   "name": "python3"
  },
  "language_info": {
   "codemirror_mode": {
    "name": "ipython",
    "version": 3
   },
   "file_extension": ".py",
   "mimetype": "text/x-python",
   "name": "python",
   "nbconvert_exporter": "python",
   "pygments_lexer": "ipython3",
   "version": "3.9.0-final"
  }
 },
 "nbformat": 4,
 "nbformat_minor": 2
}
