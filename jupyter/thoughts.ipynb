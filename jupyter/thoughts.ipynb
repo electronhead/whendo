{
 "metadata": {
  "language_info": {
   "codemirror_mode": {
    "name": "ipython",
    "version": 3
   },
   "file_extension": ".py",
   "mimetype": "text/x-python",
   "name": "python",
   "nbconvert_exporter": "python",
   "pygments_lexer": "ipython3",
   "version": 3
  },
  "orig_nbformat": 2
 },
 "nbformat": 4,
 "nbformat_minor": 2,
 "cells": [
  {
   "cell_type": "code",
   "execution_count": null,
   "metadata": {},
   "outputs": [],
   "source": []
  },
  {
   "source": [
    "### architecture thoughts\n",
    "\n",
    "- 100% container based deployment\n",
    "    - multiple containers per pi, distinguished by port\n",
    "        - this could be a way of restoring previous behavior at a pi\n",
    "    - container synonymous with mothership\n",
    "- some machines (not necessarily pi's) could host multiple motherships \n",
    "    - these could be repositories for libraries of motherships, to be used as templates for pi's in the field\n",
    "- a fleet is a collection of motherships\n",
    "    - perhaps the fleet api would listen on 5050\n",
    "        - the others listening on some other port\n",
    "    - maybe an associated restful api that manages the fleet (a collection of mothership hosts)\n",
    "    - there is a mothership sdk. there will be a fleet sdk.\n",
    "    - actions would include\n",
    "        - use a mothership's configuration to replace the configurations in other motherships\n",
    "    - there would be a mothership discovery function\n",
    "        - this would allow any machine to take of the role of fleet manager (taking fleet api requests)\n",
    "        - plus a mothership health monitoring function\n"
   ],
   "cell_type": "markdown",
   "metadata": {}
  },
  {
   "cell_type": "code",
   "execution_count": null,
   "metadata": {},
   "outputs": [],
   "source": []
  }
 ]
}