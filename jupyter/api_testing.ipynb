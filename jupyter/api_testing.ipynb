{
 "metadata": {
  "language_info": {
   "codemirror_mode": {
    "name": "ipython",
    "version": 3
   },
   "file_extension": ".py",
   "mimetype": "text/x-python",
   "name": "python",
   "nbconvert_exporter": "python",
   "pygments_lexer": "ipython3",
   "version": "3.9.0-final"
  },
  "orig_nbformat": 2,
  "kernelspec": {
   "name": "python3",
   "display_name": "Python 3",
   "language": "python"
  }
 },
 "nbformat": 4,
 "nbformat_minor": 2,
 "cells": [
  {
   "cell_type": "code",
   "execution_count": 1,
   "metadata": {},
   "outputs": [],
   "source": [
    "from datetime import time\n",
    "from mothership.scheduler import TimelyScheduler, RandomlyScheduler\n",
    "from mothership.actions.file_action import FileHeartbeat\n",
    "from mothership.actions.gpio_action import Led\n",
    "from mothership.continuous import Continuous\n",
    "from mothership.mothership import Mothership\n",
    "from mothership.util import TimeUnit, PP, Dirs\n",
    "\n",
    "saved_dir = Dirs.saved_dir()\n",
    "saved_subdir = 'api_testing'\n",
    "new_saved_dir = f\"{saved_dir}/{saved_subdir}/\"\n",
    "mothership = Mothership(saved_dir=new_saved_dir)\n",
    "mothership.clear_all()\n",
    "\n",
    "output_dir = Dirs.output_dir()\n",
    "mothership.add_scheduler('randomly_short', RandomlyScheduler(time_unit=TimeUnit.second, low=10, high=20))\n",
    "morning, evening = time(6,0,0), time(18,0,0)\n",
    "mothership.add_scheduler('timely_day', TimelyScheduler(interval=1, second=0, start=morning, stop=evening))\n",
    "mothership.add_scheduler('timely_night', TimelyScheduler(interval=1, second=0, start=evening, stop=morning))\n",
    "heartbeat_file = f\"{output_dir}heartbeat1.txt\"\n",
    "mothership.add_action('heartbeat1', FileHeartbeat(file=heartbeat_file))\n",
    "heartbeat_file = f\"{output_dir}heartbeat2.txt\"\n",
    "mothership.add_action('heartbeat2', FileHeartbeat(file=heartbeat_file))\n",
    "mothership.schedule_action(scheduler_name='timely_day', action_name='heartbeat1')\n",
    "mothership.schedule_action(scheduler_name='timely_night', action_name='heartbeat2')\n",
    "mothership.add_action('led_on', Led(pin=27,on=True))\n",
    "mothership.add_action('led_off', Led(pin=27,on=False))"
   ]
  },
  {
   "cell_type": "code",
   "execution_count": 2,
   "metadata": {},
   "outputs": [
    {
     "output_type": "execute_result",
     "data": {
      "text/plain": [
       "Mothership(actions={'heartbeat1': FileHeartbeat(file='/tmp/pyrambium/output/heartbeat1.txt', xtra=None), 'heartbeat2': FileHeartbeat(file='/tmp/pyrambium/output/heartbeat2.txt', xtra=None), 'led_on': Led(pin=27, on=True), 'led_off': Led(pin=27, on=False)}, schedulers={'randomly_short': RandomlyScheduler(start=None, stop=None, time_unit=<TimeUnit.second: 'second'>, low=10, high=20), 'timely_day': TimelyScheduler(start=datetime.time(6, 0), stop=datetime.time(18, 0), interval=1, hour=None, minute=None, second=0), 'timely_night': TimelyScheduler(start=datetime.time(18, 0), stop=datetime.time(6, 0), interval=1, hour=None, minute=None, second=0)}, schedulers_actions={'randomly_short': [], 'timely_day': ['heartbeat1'], 'timely_night': ['heartbeat2']}, saved_dir='/tmp/pyrambium/saved//api_testing/')"
      ]
     },
     "metadata": {},
     "execution_count": 2
    }
   ],
   "source": [
    "mothership.load_current()"
   ]
  },
  {
   "cell_type": "code",
   "execution_count": null,
   "metadata": {},
   "outputs": [],
   "source": [
    "Continuous.get().run_continuously(1)"
   ]
  },
  {
   "cell_type": "code",
   "execution_count": null,
   "metadata": {},
   "outputs": [],
   "source": [
    "Continuous.get().stop_running_continuously()"
   ]
  },
  {
   "cell_type": "code",
   "execution_count": null,
   "metadata": {},
   "outputs": [],
   "source": [
    "mothership.execute_action('heartbeat1')"
   ]
  },
  {
   "cell_type": "code",
   "execution_count": null,
   "metadata": {},
   "outputs": [],
   "source": [
    "mothership.execute_action('heartbeat2')"
   ]
  },
  {
   "cell_type": "code",
   "execution_count": null,
   "metadata": {},
   "outputs": [],
   "source": [
    "mothership.execute_action('led_on')"
   ]
  },
  {
   "cell_type": "code",
   "execution_count": null,
   "metadata": {},
   "outputs": [],
   "source": [
    "mothership.execute_action('led_off')"
   ]
  },
  {
   "cell_type": "code",
   "execution_count": 10,
   "metadata": {},
   "outputs": [
    {
     "output_type": "execute_result",
     "data": {
      "text/plain": [
       "['APIRouter',\n",
       " 'Depends',\n",
       " '__builtins__',\n",
       " '__cached__',\n",
       " '__doc__',\n",
       " '__file__',\n",
       " '__loader__',\n",
       " '__name__',\n",
       " '__package__',\n",
       " '__spec__',\n",
       " 'add_action',\n",
       " 'execute_action',\n",
       " 'get_action',\n",
       " 'get_mothership',\n",
       " 'raised_exception',\n",
       " 'remove_action',\n",
       " 'resolve_action',\n",
       " 'return_success',\n",
       " 'router',\n",
       " 'status',\n",
       " 'unschedule_action',\n",
       " 'update_action']"
      ]
     },
     "metadata": {},
     "execution_count": 10
    }
   ],
   "source": [
    "from app.router import actions\n",
    "dir(actions)"
   ]
  },
  {
   "cell_type": "code",
   "execution_count": null,
   "metadata": {},
   "outputs": [],
   "source": []
  }
 ]
}