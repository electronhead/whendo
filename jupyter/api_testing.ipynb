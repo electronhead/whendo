{
 "metadata": {
  "language_info": {
   "codemirror_mode": {
    "name": "ipython",
    "version": 3
   },
   "file_extension": ".py",
   "mimetype": "text/x-python",
   "name": "python",
   "nbconvert_exporter": "python",
   "pygments_lexer": "ipython3",
   "version": "3.9.0-final"
  },
  "orig_nbformat": 2,
  "kernelspec": {
   "name": "python3",
   "display_name": "Python 3",
   "language": "python"
  }
 },
 "nbformat": 4,
 "nbformat_minor": 2,
 "cells": [
  {
   "cell_type": "code",
   "execution_count": null,
   "metadata": {},
   "outputs": [],
   "source": [
    "from datetime import time\n",
    "import json\n",
    "from whendo.core.scheduler import TimelyScheduler, RandomlyScheduler\n",
    "from whendo.core.actions.file_action import FileHeartbeat\n",
    "from whendo.core.actions.logic_action import IfElseAction, ListAction, NotAction, ListOpMode\n",
    "from whendo.core.continuous import Continuous\n",
    "from whendo.core.mothership import Mothership\n",
    "from whendo.core.util import TimeUnit, PP, Dirs\n",
    "\n",
    "saved_dir = Dirs.saved_dir()\n",
    "saved_subdir = 'api_testing'\n",
    "new_saved_dir = f\"{saved_dir}{saved_subdir}/\"\n",
    "mothership = Mothership(saved_dir=new_saved_dir)\n",
    "mothership.clear_all()\n",
    "\n",
    "morning, evening = time(6,0,0), time(18,0,0)\n",
    "sched_1 = RandomlyScheduler(time_unit=TimeUnit.second, low=10, high=20)\n",
    "sched_2 = TimelyScheduler(interval=1, second=0, start=morning, stop=evening)\n",
    "sched_3 = TimelyScheduler(interval=1, second=0, start=evening, stop=morning)\n",
    "mothership.add_scheduler('randomly_short', sched_1)\n",
    "mothership.add_scheduler('timely_day', sched_2)\n",
    "mothership.add_scheduler('timely_night', sched_3)\n",
    "\n",
    "output_dir = Dirs.output_dir()\n",
    "heart_1 = FileHeartbeat(file=f\"{output_dir}heartbeat1.txt\")\n",
    "heart_2 = FileHeartbeat(file=f\"{output_dir}heartbeat2.txt\")\n",
    "heart_3 = FileHeartbeat(file=f\"{output_dir}heartbeat3.txt\")\n",
    "# mothership.add_action('heartbeat1', heart_1)\n",
    "# mothership.add_action('heartbeat2', heart_2)\n",
    "# mothership.add_action('heartbeat3', heart_3)\n",
    "# mothership.schedule_action(scheduler_name='timely_day', action_name='heartbeat1')\n",
    "# mothership.schedule_action(scheduler_name='timely_night', action_name='heartbeat2')\n",
    "# mothership.schedule_action(scheduler_name='randomly_short', action_name='heartbeat3')\n",
    "\n",
    "logic_1 = ListAction(op_mode=ListOpMode.ALL, action_list=[heart_1, heart_2])\n",
    "mothership.add_action('logic1', logic_1)\n"
   ]
  },
  {
   "cell_type": "code",
   "execution_count": null,
   "metadata": {},
   "outputs": [],
   "source": [
    "mothership.get_action('logic1')"
   ]
  },
  {
   "cell_type": "code",
   "execution_count": null,
   "metadata": {},
   "outputs": [],
   "source": [
    "mothership.load_current()"
   ]
  },
  {
   "cell_type": "code",
   "execution_count": null,
   "metadata": {},
   "outputs": [],
   "source": [
    "Continuous.get().run_continuously(1)"
   ]
  },
  {
   "cell_type": "code",
   "execution_count": null,
   "metadata": {},
   "outputs": [],
   "source": [
    "Continuous.get().stop_running_continuously()"
   ]
  },
  {
   "cell_type": "code",
   "execution_count": null,
   "metadata": {},
   "outputs": [],
   "source": [
    "mothership.execute_action('heartbeat1')"
   ]
  },
  {
   "cell_type": "code",
   "execution_count": null,
   "metadata": {},
   "outputs": [],
   "source": [
    "mothership.execute_action('heartbeat2')"
   ]
  },
  {
   "cell_type": "code",
   "execution_count": null,
   "metadata": {},
   "outputs": [],
   "source": [
    "js = \"{\\\"actions\\\": {\\\"logic1\\\": {\\\"op_mode\\\": \\\"all\\\", \\\"action_list\\\": [{\\\"file\\\": \\\"/Users/electronhead/whendo/output/heartbeat1.txt\\\", \\\"xtra\\\": null}, {\\\"file\\\": \\\"/Users/electronhead/whendo/output/heartbeat2.txt\\\", \\\"xtra\\\": null}], \\\"exception_on_no_success\\\": false}}, \\\"schedulers\\\": {\\\"randomly_short\\\": {\\\"start\\\": null, \\\"stop\\\": null, \\\"time_unit\\\": \\\"second\\\", \\\"low\\\": 10, \\\"high\\\": 20}, \\\"timely_day\\\": {\\\"start\\\": \\\"06:00:00\\\", \\\"stop\\\": \\\"18:00:00\\\", \\\"interval\\\": 1, \\\"hour\\\": null, \\\"minute\\\": null, \\\"second\\\": 0}, \\\"timely_night\\\": {\\\"start\\\": \\\"18:00:00\\\", \\\"stop\\\": \\\"06:00:00\\\", \\\"interval\\\": 1, \\\"hour\\\": null, \\\"minute\\\": null, \\\"second\\\": 0}}, \\\"schedulers_actions\\\": {\\\"randomly_short\\\": [], \\\"timely_day\\\": [], \\\"timely_night\\\": []}, \\\"saved_dir\\\": \\\"/Users/electronhead/whendo/saved/api_testing/\\\"}\""
   ]
  },
  {
   "cell_type": "code",
   "execution_count": null,
   "metadata": {},
   "outputs": [],
   "source": [
    "json.loads(js)"
   ]
  },
  {
   "cell_type": "code",
   "execution_count": null,
   "metadata": {},
   "outputs": [],
   "source": [
    "Mothership(**(json.loads(js)))"
   ]
  },
  {
   "cell_type": "code",
   "execution_count": null,
   "metadata": {},
   "outputs": [],
   "source": []
  }
 ]
}